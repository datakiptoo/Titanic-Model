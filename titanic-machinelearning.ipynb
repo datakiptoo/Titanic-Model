{
 "cells": [
  {
   "cell_type": "code",
   "execution_count": 1,
   "id": "69cb2c98",
   "metadata": {
    "_cell_guid": "b1076dfc-b9ad-4769-8c92-a6c4dae69d19",
    "_uuid": "8f2839f25d086af736a60e9eeb907d3b93b6e0e5",
    "execution": {
     "iopub.execute_input": "2022-07-18T03:44:17.834946Z",
     "iopub.status.busy": "2022-07-18T03:44:17.834304Z",
     "iopub.status.idle": "2022-07-18T03:44:18.995531Z",
     "shell.execute_reply": "2022-07-18T03:44:18.994275Z"
    },
    "papermill": {
     "duration": 1.196159,
     "end_time": "2022-07-18T03:44:18.998364",
     "exception": false,
     "start_time": "2022-07-18T03:44:17.802205",
     "status": "completed"
    },
    "tags": []
   },
   "outputs": [
    {
     "name": "stdout",
     "output_type": "stream",
     "text": [
      "/kaggle/input/titanic/train.csv\n",
      "/kaggle/input/titanic/test.csv\n",
      "/kaggle/input/titanic/gender_submission.csv\n"
     ]
    }
   ],
   "source": [
    "# This Python 3 environment comes with many helpful analytics libraries installed\n",
    "# It is defined by the kaggle/python Docker image: https://github.com/kaggle/docker-python\n",
    "# For example, here's several helpful packages to load\n",
    "\n",
    "import numpy as np # linear algebra\n",
    "import pandas as pd # data processing, CSV file I/O (e.g. pd.read_csv)\n",
    "from  pandas.api.types import is_string_dtype, is_numeric_dtype \n",
    "import matplotlib.pyplot as plt\n",
    "import seaborn as sns\n",
    "\n",
    "# Input data files are available in the read-only \"../input/\" directory\n",
    "# For example, running this (by clicking run or pressing Shift+Enter) will list all files under the input directory\n",
    "\n",
    "import os\n",
    "for dirname, _, filenames in os.walk('/kaggle/input'):\n",
    "    for filename in filenames:\n",
    "        print(os.path.join(dirname, filename))\n",
    "\n",
    "# You can write up to 20GB to the current directory (/kaggle/working/) that gets preserved as output when you create a version using \"Save & Run All\" \n",
    "# You can also write temporary files to /kaggle/temp/, but they won't be saved outside of the current session"
   ]
  },
  {
   "cell_type": "markdown",
   "id": "5b7f4a82",
   "metadata": {
    "papermill": {
     "duration": 0.027829,
     "end_time": "2022-07-18T03:44:19.055292",
     "exception": false,
     "start_time": "2022-07-18T03:44:19.027463",
     "status": "completed"
    },
    "tags": []
   },
   "source": [
    "This shows us where the competition data is stored, so that we can load the files into the notebook"
   ]
  },
  {
   "cell_type": "code",
   "execution_count": null,
   "id": "9bd67dfc",
   "metadata": {
    "papermill": {
     "duration": 0.026861,
     "end_time": "2022-07-18T03:44:19.109251",
     "exception": false,
     "start_time": "2022-07-18T03:44:19.082390",
     "status": "completed"
    },
    "tags": []
   },
   "outputs": [],
   "source": []
  },
  {
   "cell_type": "code",
   "execution_count": 2,
   "id": "2f1a1cfe",
   "metadata": {
    "execution": {
     "iopub.execute_input": "2022-07-18T03:44:19.164890Z",
     "iopub.status.busy": "2022-07-18T03:44:19.164514Z",
     "iopub.status.idle": "2022-07-18T03:44:19.201584Z",
     "shell.execute_reply": "2022-07-18T03:44:19.200358Z"
    },
    "papermill": {
     "duration": 0.067515,
     "end_time": "2022-07-18T03:44:19.203780",
     "exception": false,
     "start_time": "2022-07-18T03:44:19.136265",
     "status": "completed"
    },
    "tags": []
   },
   "outputs": [
    {
     "data": {
      "text/html": [
       "<div>\n",
       "<style scoped>\n",
       "    .dataframe tbody tr th:only-of-type {\n",
       "        vertical-align: middle;\n",
       "    }\n",
       "\n",
       "    .dataframe tbody tr th {\n",
       "        vertical-align: top;\n",
       "    }\n",
       "\n",
       "    .dataframe thead th {\n",
       "        text-align: right;\n",
       "    }\n",
       "</style>\n",
       "<table border=\"1\" class=\"dataframe\">\n",
       "  <thead>\n",
       "    <tr style=\"text-align: right;\">\n",
       "      <th></th>\n",
       "      <th>PassengerId</th>\n",
       "      <th>Survived</th>\n",
       "      <th>Pclass</th>\n",
       "      <th>Name</th>\n",
       "      <th>Sex</th>\n",
       "      <th>Age</th>\n",
       "      <th>SibSp</th>\n",
       "      <th>Parch</th>\n",
       "      <th>Ticket</th>\n",
       "      <th>Fare</th>\n",
       "      <th>Cabin</th>\n",
       "      <th>Embarked</th>\n",
       "    </tr>\n",
       "  </thead>\n",
       "  <tbody>\n",
       "    <tr>\n",
       "      <th>0</th>\n",
       "      <td>1</td>\n",
       "      <td>0</td>\n",
       "      <td>3</td>\n",
       "      <td>Braund, Mr. Owen Harris</td>\n",
       "      <td>male</td>\n",
       "      <td>22.0</td>\n",
       "      <td>1</td>\n",
       "      <td>0</td>\n",
       "      <td>A/5 21171</td>\n",
       "      <td>7.2500</td>\n",
       "      <td>NaN</td>\n",
       "      <td>S</td>\n",
       "    </tr>\n",
       "    <tr>\n",
       "      <th>1</th>\n",
       "      <td>2</td>\n",
       "      <td>1</td>\n",
       "      <td>1</td>\n",
       "      <td>Cumings, Mrs. John Bradley (Florence Briggs Th...</td>\n",
       "      <td>female</td>\n",
       "      <td>38.0</td>\n",
       "      <td>1</td>\n",
       "      <td>0</td>\n",
       "      <td>PC 17599</td>\n",
       "      <td>71.2833</td>\n",
       "      <td>C85</td>\n",
       "      <td>C</td>\n",
       "    </tr>\n",
       "    <tr>\n",
       "      <th>2</th>\n",
       "      <td>3</td>\n",
       "      <td>1</td>\n",
       "      <td>3</td>\n",
       "      <td>Heikkinen, Miss. Laina</td>\n",
       "      <td>female</td>\n",
       "      <td>26.0</td>\n",
       "      <td>0</td>\n",
       "      <td>0</td>\n",
       "      <td>STON/O2. 3101282</td>\n",
       "      <td>7.9250</td>\n",
       "      <td>NaN</td>\n",
       "      <td>S</td>\n",
       "    </tr>\n",
       "    <tr>\n",
       "      <th>3</th>\n",
       "      <td>4</td>\n",
       "      <td>1</td>\n",
       "      <td>1</td>\n",
       "      <td>Futrelle, Mrs. Jacques Heath (Lily May Peel)</td>\n",
       "      <td>female</td>\n",
       "      <td>35.0</td>\n",
       "      <td>1</td>\n",
       "      <td>0</td>\n",
       "      <td>113803</td>\n",
       "      <td>53.1000</td>\n",
       "      <td>C123</td>\n",
       "      <td>S</td>\n",
       "    </tr>\n",
       "    <tr>\n",
       "      <th>4</th>\n",
       "      <td>5</td>\n",
       "      <td>0</td>\n",
       "      <td>3</td>\n",
       "      <td>Allen, Mr. William Henry</td>\n",
       "      <td>male</td>\n",
       "      <td>35.0</td>\n",
       "      <td>0</td>\n",
       "      <td>0</td>\n",
       "      <td>373450</td>\n",
       "      <td>8.0500</td>\n",
       "      <td>NaN</td>\n",
       "      <td>S</td>\n",
       "    </tr>\n",
       "  </tbody>\n",
       "</table>\n",
       "</div>"
      ],
      "text/plain": [
       "   PassengerId  Survived  Pclass  \\\n",
       "0            1         0       3   \n",
       "1            2         1       1   \n",
       "2            3         1       3   \n",
       "3            4         1       1   \n",
       "4            5         0       3   \n",
       "\n",
       "                                                Name     Sex   Age  SibSp  \\\n",
       "0                            Braund, Mr. Owen Harris    male  22.0      1   \n",
       "1  Cumings, Mrs. John Bradley (Florence Briggs Th...  female  38.0      1   \n",
       "2                             Heikkinen, Miss. Laina  female  26.0      0   \n",
       "3       Futrelle, Mrs. Jacques Heath (Lily May Peel)  female  35.0      1   \n",
       "4                           Allen, Mr. William Henry    male  35.0      0   \n",
       "\n",
       "   Parch            Ticket     Fare Cabin Embarked  \n",
       "0      0         A/5 21171   7.2500   NaN        S  \n",
       "1      0          PC 17599  71.2833   C85        C  \n",
       "2      0  STON/O2. 3101282   7.9250   NaN        S  \n",
       "3      0            113803  53.1000  C123        S  \n",
       "4      0            373450   8.0500   NaN        S  "
      ]
     },
     "execution_count": 2,
     "metadata": {},
     "output_type": "execute_result"
    }
   ],
   "source": [
    "train_data=pd.read_csv(\"/kaggle/input/titanic/train.csv\")\n",
    "train_data.head()"
   ]
  },
  {
   "cell_type": "code",
   "execution_count": 3,
   "id": "b2723005",
   "metadata": {
    "execution": {
     "iopub.execute_input": "2022-07-18T03:44:19.261105Z",
     "iopub.status.busy": "2022-07-18T03:44:19.260714Z",
     "iopub.status.idle": "2022-07-18T03:44:19.276581Z",
     "shell.execute_reply": "2022-07-18T03:44:19.275346Z"
    },
    "papermill": {
     "duration": 0.047157,
     "end_time": "2022-07-18T03:44:19.278667",
     "exception": false,
     "start_time": "2022-07-18T03:44:19.231510",
     "status": "completed"
    },
    "tags": []
   },
   "outputs": [
    {
     "data": {
      "text/html": [
       "<div>\n",
       "<style scoped>\n",
       "    .dataframe tbody tr th:only-of-type {\n",
       "        vertical-align: middle;\n",
       "    }\n",
       "\n",
       "    .dataframe tbody tr th {\n",
       "        vertical-align: top;\n",
       "    }\n",
       "\n",
       "    .dataframe thead th {\n",
       "        text-align: right;\n",
       "    }\n",
       "</style>\n",
       "<table border=\"1\" class=\"dataframe\">\n",
       "  <thead>\n",
       "    <tr style=\"text-align: right;\">\n",
       "      <th></th>\n",
       "      <th>PassengerId</th>\n",
       "      <th>Survived</th>\n",
       "      <th>Pclass</th>\n",
       "      <th>Name</th>\n",
       "      <th>Sex</th>\n",
       "      <th>Age</th>\n",
       "      <th>SibSp</th>\n",
       "      <th>Parch</th>\n",
       "      <th>Ticket</th>\n",
       "      <th>Fare</th>\n",
       "      <th>Cabin</th>\n",
       "      <th>Embarked</th>\n",
       "    </tr>\n",
       "  </thead>\n",
       "  <tbody>\n",
       "    <tr>\n",
       "      <th>886</th>\n",
       "      <td>887</td>\n",
       "      <td>0</td>\n",
       "      <td>2</td>\n",
       "      <td>Montvila, Rev. Juozas</td>\n",
       "      <td>male</td>\n",
       "      <td>27.0</td>\n",
       "      <td>0</td>\n",
       "      <td>0</td>\n",
       "      <td>211536</td>\n",
       "      <td>13.00</td>\n",
       "      <td>NaN</td>\n",
       "      <td>S</td>\n",
       "    </tr>\n",
       "    <tr>\n",
       "      <th>887</th>\n",
       "      <td>888</td>\n",
       "      <td>1</td>\n",
       "      <td>1</td>\n",
       "      <td>Graham, Miss. Margaret Edith</td>\n",
       "      <td>female</td>\n",
       "      <td>19.0</td>\n",
       "      <td>0</td>\n",
       "      <td>0</td>\n",
       "      <td>112053</td>\n",
       "      <td>30.00</td>\n",
       "      <td>B42</td>\n",
       "      <td>S</td>\n",
       "    </tr>\n",
       "    <tr>\n",
       "      <th>888</th>\n",
       "      <td>889</td>\n",
       "      <td>0</td>\n",
       "      <td>3</td>\n",
       "      <td>Johnston, Miss. Catherine Helen \"Carrie\"</td>\n",
       "      <td>female</td>\n",
       "      <td>NaN</td>\n",
       "      <td>1</td>\n",
       "      <td>2</td>\n",
       "      <td>W./C. 6607</td>\n",
       "      <td>23.45</td>\n",
       "      <td>NaN</td>\n",
       "      <td>S</td>\n",
       "    </tr>\n",
       "    <tr>\n",
       "      <th>889</th>\n",
       "      <td>890</td>\n",
       "      <td>1</td>\n",
       "      <td>1</td>\n",
       "      <td>Behr, Mr. Karl Howell</td>\n",
       "      <td>male</td>\n",
       "      <td>26.0</td>\n",
       "      <td>0</td>\n",
       "      <td>0</td>\n",
       "      <td>111369</td>\n",
       "      <td>30.00</td>\n",
       "      <td>C148</td>\n",
       "      <td>C</td>\n",
       "    </tr>\n",
       "    <tr>\n",
       "      <th>890</th>\n",
       "      <td>891</td>\n",
       "      <td>0</td>\n",
       "      <td>3</td>\n",
       "      <td>Dooley, Mr. Patrick</td>\n",
       "      <td>male</td>\n",
       "      <td>32.0</td>\n",
       "      <td>0</td>\n",
       "      <td>0</td>\n",
       "      <td>370376</td>\n",
       "      <td>7.75</td>\n",
       "      <td>NaN</td>\n",
       "      <td>Q</td>\n",
       "    </tr>\n",
       "  </tbody>\n",
       "</table>\n",
       "</div>"
      ],
      "text/plain": [
       "     PassengerId  Survived  Pclass                                      Name  \\\n",
       "886          887         0       2                     Montvila, Rev. Juozas   \n",
       "887          888         1       1              Graham, Miss. Margaret Edith   \n",
       "888          889         0       3  Johnston, Miss. Catherine Helen \"Carrie\"   \n",
       "889          890         1       1                     Behr, Mr. Karl Howell   \n",
       "890          891         0       3                       Dooley, Mr. Patrick   \n",
       "\n",
       "        Sex   Age  SibSp  Parch      Ticket   Fare Cabin Embarked  \n",
       "886    male  27.0      0      0      211536  13.00   NaN        S  \n",
       "887  female  19.0      0      0      112053  30.00   B42        S  \n",
       "888  female   NaN      1      2  W./C. 6607  23.45   NaN        S  \n",
       "889    male  26.0      0      0      111369  30.00  C148        C  \n",
       "890    male  32.0      0      0      370376   7.75   NaN        Q  "
      ]
     },
     "execution_count": 3,
     "metadata": {},
     "output_type": "execute_result"
    }
   ],
   "source": [
    "train_data.tail()"
   ]
  },
  {
   "cell_type": "markdown",
   "id": "8ec0d92a",
   "metadata": {
    "papermill": {
     "duration": 0.02704,
     "end_time": "2022-07-18T03:44:19.333243",
     "exception": false,
     "start_time": "2022-07-18T03:44:19.306203",
     "status": "completed"
    },
    "tags": []
   },
   "source": []
  },
  {
   "cell_type": "code",
   "execution_count": 4,
   "id": "c821daad",
   "metadata": {
    "execution": {
     "iopub.execute_input": "2022-07-18T03:44:19.390073Z",
     "iopub.status.busy": "2022-07-18T03:44:19.389318Z",
     "iopub.status.idle": "2022-07-18T03:44:19.427775Z",
     "shell.execute_reply": "2022-07-18T03:44:19.426943Z"
    },
    "papermill": {
     "duration": 0.068996,
     "end_time": "2022-07-18T03:44:19.429856",
     "exception": false,
     "start_time": "2022-07-18T03:44:19.360860",
     "status": "completed"
    },
    "tags": []
   },
   "outputs": [
    {
     "data": {
      "text/html": [
       "<div>\n",
       "<style scoped>\n",
       "    .dataframe tbody tr th:only-of-type {\n",
       "        vertical-align: middle;\n",
       "    }\n",
       "\n",
       "    .dataframe tbody tr th {\n",
       "        vertical-align: top;\n",
       "    }\n",
       "\n",
       "    .dataframe thead th {\n",
       "        text-align: right;\n",
       "    }\n",
       "</style>\n",
       "<table border=\"1\" class=\"dataframe\">\n",
       "  <thead>\n",
       "    <tr style=\"text-align: right;\">\n",
       "      <th></th>\n",
       "      <th>PassengerId</th>\n",
       "      <th>Survived</th>\n",
       "      <th>Pclass</th>\n",
       "      <th>Age</th>\n",
       "      <th>SibSp</th>\n",
       "      <th>Parch</th>\n",
       "      <th>Fare</th>\n",
       "    </tr>\n",
       "  </thead>\n",
       "  <tbody>\n",
       "    <tr>\n",
       "      <th>count</th>\n",
       "      <td>891.000000</td>\n",
       "      <td>891.000000</td>\n",
       "      <td>891.000000</td>\n",
       "      <td>714.000000</td>\n",
       "      <td>891.000000</td>\n",
       "      <td>891.000000</td>\n",
       "      <td>891.000000</td>\n",
       "    </tr>\n",
       "    <tr>\n",
       "      <th>mean</th>\n",
       "      <td>446.000000</td>\n",
       "      <td>0.383838</td>\n",
       "      <td>2.308642</td>\n",
       "      <td>29.699118</td>\n",
       "      <td>0.523008</td>\n",
       "      <td>0.381594</td>\n",
       "      <td>32.204208</td>\n",
       "    </tr>\n",
       "    <tr>\n",
       "      <th>std</th>\n",
       "      <td>257.353842</td>\n",
       "      <td>0.486592</td>\n",
       "      <td>0.836071</td>\n",
       "      <td>14.526497</td>\n",
       "      <td>1.102743</td>\n",
       "      <td>0.806057</td>\n",
       "      <td>49.693429</td>\n",
       "    </tr>\n",
       "    <tr>\n",
       "      <th>min</th>\n",
       "      <td>1.000000</td>\n",
       "      <td>0.000000</td>\n",
       "      <td>1.000000</td>\n",
       "      <td>0.420000</td>\n",
       "      <td>0.000000</td>\n",
       "      <td>0.000000</td>\n",
       "      <td>0.000000</td>\n",
       "    </tr>\n",
       "    <tr>\n",
       "      <th>25%</th>\n",
       "      <td>223.500000</td>\n",
       "      <td>0.000000</td>\n",
       "      <td>2.000000</td>\n",
       "      <td>20.125000</td>\n",
       "      <td>0.000000</td>\n",
       "      <td>0.000000</td>\n",
       "      <td>7.910400</td>\n",
       "    </tr>\n",
       "    <tr>\n",
       "      <th>50%</th>\n",
       "      <td>446.000000</td>\n",
       "      <td>0.000000</td>\n",
       "      <td>3.000000</td>\n",
       "      <td>28.000000</td>\n",
       "      <td>0.000000</td>\n",
       "      <td>0.000000</td>\n",
       "      <td>14.454200</td>\n",
       "    </tr>\n",
       "    <tr>\n",
       "      <th>75%</th>\n",
       "      <td>668.500000</td>\n",
       "      <td>1.000000</td>\n",
       "      <td>3.000000</td>\n",
       "      <td>38.000000</td>\n",
       "      <td>1.000000</td>\n",
       "      <td>0.000000</td>\n",
       "      <td>31.000000</td>\n",
       "    </tr>\n",
       "    <tr>\n",
       "      <th>max</th>\n",
       "      <td>891.000000</td>\n",
       "      <td>1.000000</td>\n",
       "      <td>3.000000</td>\n",
       "      <td>80.000000</td>\n",
       "      <td>8.000000</td>\n",
       "      <td>6.000000</td>\n",
       "      <td>512.329200</td>\n",
       "    </tr>\n",
       "  </tbody>\n",
       "</table>\n",
       "</div>"
      ],
      "text/plain": [
       "       PassengerId    Survived      Pclass         Age       SibSp  \\\n",
       "count   891.000000  891.000000  891.000000  714.000000  891.000000   \n",
       "mean    446.000000    0.383838    2.308642   29.699118    0.523008   \n",
       "std     257.353842    0.486592    0.836071   14.526497    1.102743   \n",
       "min       1.000000    0.000000    1.000000    0.420000    0.000000   \n",
       "25%     223.500000    0.000000    2.000000   20.125000    0.000000   \n",
       "50%     446.000000    0.000000    3.000000   28.000000    0.000000   \n",
       "75%     668.500000    1.000000    3.000000   38.000000    1.000000   \n",
       "max     891.000000    1.000000    3.000000   80.000000    8.000000   \n",
       "\n",
       "            Parch        Fare  \n",
       "count  891.000000  891.000000  \n",
       "mean     0.381594   32.204208  \n",
       "std      0.806057   49.693429  \n",
       "min      0.000000    0.000000  \n",
       "25%      0.000000    7.910400  \n",
       "50%      0.000000   14.454200  \n",
       "75%      0.000000   31.000000  \n",
       "max      6.000000  512.329200  "
      ]
     },
     "execution_count": 4,
     "metadata": {},
     "output_type": "execute_result"
    }
   ],
   "source": [
    "#Numerical/Statistical analysis of the dataset\n",
    "train_data.describe()"
   ]
  },
  {
   "cell_type": "code",
   "execution_count": 5,
   "id": "99e14e1d",
   "metadata": {
    "execution": {
     "iopub.execute_input": "2022-07-18T03:44:19.487686Z",
     "iopub.status.busy": "2022-07-18T03:44:19.486826Z",
     "iopub.status.idle": "2022-07-18T03:44:19.493851Z",
     "shell.execute_reply": "2022-07-18T03:44:19.492681Z"
    },
    "papermill": {
     "duration": 0.038502,
     "end_time": "2022-07-18T03:44:19.496338",
     "exception": false,
     "start_time": "2022-07-18T03:44:19.457836",
     "status": "completed"
    },
    "tags": []
   },
   "outputs": [
    {
     "data": {
      "text/plain": [
       "(891, 12)"
      ]
     },
     "execution_count": 5,
     "metadata": {},
     "output_type": "execute_result"
    }
   ],
   "source": [
    "#Dimensions of dataset\n",
    "train_data.shape"
   ]
  },
  {
   "cell_type": "code",
   "execution_count": 6,
   "id": "64ea5580",
   "metadata": {
    "execution": {
     "iopub.execute_input": "2022-07-18T03:44:19.554440Z",
     "iopub.status.busy": "2022-07-18T03:44:19.553401Z",
     "iopub.status.idle": "2022-07-18T03:44:19.564069Z",
     "shell.execute_reply": "2022-07-18T03:44:19.563348Z"
    },
    "papermill": {
     "duration": 0.04164,
     "end_time": "2022-07-18T03:44:19.565972",
     "exception": false,
     "start_time": "2022-07-18T03:44:19.524332",
     "status": "completed"
    },
    "tags": []
   },
   "outputs": [
    {
     "data": {
      "text/plain": [
       "0"
      ]
     },
     "execution_count": 6,
     "metadata": {},
     "output_type": "execute_result"
    }
   ],
   "source": [
    "#Check for duplicated values\n",
    "train_data.duplicated().sum()"
   ]
  },
  {
   "cell_type": "code",
   "execution_count": 7,
   "id": "607e952f",
   "metadata": {
    "execution": {
     "iopub.execute_input": "2022-07-18T03:44:19.623595Z",
     "iopub.status.busy": "2022-07-18T03:44:19.622715Z",
     "iopub.status.idle": "2022-07-18T03:44:19.631351Z",
     "shell.execute_reply": "2022-07-18T03:44:19.630604Z"
    },
    "papermill": {
     "duration": 0.039447,
     "end_time": "2022-07-18T03:44:19.633286",
     "exception": false,
     "start_time": "2022-07-18T03:44:19.593839",
     "status": "completed"
    },
    "tags": []
   },
   "outputs": [
    {
     "data": {
      "text/plain": [
       "PassengerId      0\n",
       "Survived         0\n",
       "Pclass           0\n",
       "Name             0\n",
       "Sex              0\n",
       "Age            177\n",
       "SibSp            0\n",
       "Parch            0\n",
       "Ticket           0\n",
       "Fare             0\n",
       "Cabin          687\n",
       "Embarked         2\n",
       "dtype: int64"
      ]
     },
     "execution_count": 7,
     "metadata": {},
     "output_type": "execute_result"
    }
   ],
   "source": [
    "#Check for null values\n",
    "train_data.isna().sum()"
   ]
  },
  {
   "cell_type": "markdown",
   "id": "58387bf2",
   "metadata": {
    "papermill": {
     "duration": 0.02883,
     "end_time": "2022-07-18T03:44:19.690015",
     "exception": false,
     "start_time": "2022-07-18T03:44:19.661185",
     "status": "completed"
    },
    "tags": []
   },
   "source": []
  },
  {
   "cell_type": "code",
   "execution_count": 8,
   "id": "c5d6e4d9",
   "metadata": {
    "execution": {
     "iopub.execute_input": "2022-07-18T03:44:19.752920Z",
     "iopub.status.busy": "2022-07-18T03:44:19.752126Z",
     "iopub.status.idle": "2022-07-18T03:44:19.756585Z",
     "shell.execute_reply": "2022-07-18T03:44:19.755497Z"
    },
    "papermill": {
     "duration": 0.03897,
     "end_time": "2022-07-18T03:44:19.759220",
     "exception": false,
     "start_time": "2022-07-18T03:44:19.720250",
     "status": "completed"
    },
    "tags": []
   },
   "outputs": [],
   "source": [
    "#SibSp = Number of Siblings/Spouses Aboard parch\n",
    "#parch - Number of Parents/Children Aboard\n",
    "#Embarked implies where the traveler mounted from. There are three possible values for Embark — Southampton, Cherbourg, and Queenstown."
   ]
  },
  {
   "cell_type": "code",
   "execution_count": 9,
   "id": "86550bd1",
   "metadata": {
    "execution": {
     "iopub.execute_input": "2022-07-18T03:44:19.818643Z",
     "iopub.status.busy": "2022-07-18T03:44:19.817925Z",
     "iopub.status.idle": "2022-07-18T03:44:19.823215Z",
     "shell.execute_reply": "2022-07-18T03:44:19.822476Z"
    },
    "papermill": {
     "duration": 0.03719,
     "end_time": "2022-07-18T03:44:19.825124",
     "exception": false,
     "start_time": "2022-07-18T03:44:19.787934",
     "status": "completed"
    },
    "tags": []
   },
   "outputs": [
    {
     "data": {
      "text/plain": [
       "(891, 12)"
      ]
     },
     "execution_count": 9,
     "metadata": {},
     "output_type": "execute_result"
    }
   ],
   "source": [
    "train_data.shape"
   ]
  },
  {
   "cell_type": "markdown",
   "id": "37309e43",
   "metadata": {
    "papermill": {
     "duration": 0.029633,
     "end_time": "2022-07-18T03:44:19.883701",
     "exception": false,
     "start_time": "2022-07-18T03:44:19.854068",
     "status": "completed"
    },
    "tags": []
   },
   "source": []
  },
  {
   "cell_type": "code",
   "execution_count": 10,
   "id": "1975a3bc",
   "metadata": {
    "execution": {
     "iopub.execute_input": "2022-07-18T03:44:19.945119Z",
     "iopub.status.busy": "2022-07-18T03:44:19.944431Z",
     "iopub.status.idle": "2022-07-18T03:44:19.960283Z",
     "shell.execute_reply": "2022-07-18T03:44:19.959434Z"
    },
    "papermill": {
     "duration": 0.048859,
     "end_time": "2022-07-18T03:44:19.962735",
     "exception": false,
     "start_time": "2022-07-18T03:44:19.913876",
     "status": "completed"
    },
    "tags": []
   },
   "outputs": [
    {
     "name": "stdout",
     "output_type": "stream",
     "text": [
      "<class 'pandas.core.frame.DataFrame'>\n",
      "RangeIndex: 891 entries, 0 to 890\n",
      "Data columns (total 12 columns):\n",
      " #   Column       Non-Null Count  Dtype  \n",
      "---  ------       --------------  -----  \n",
      " 0   PassengerId  891 non-null    int64  \n",
      " 1   Survived     891 non-null    int64  \n",
      " 2   Pclass       891 non-null    int64  \n",
      " 3   Name         891 non-null    object \n",
      " 4   Sex          891 non-null    object \n",
      " 5   Age          714 non-null    float64\n",
      " 6   SibSp        891 non-null    int64  \n",
      " 7   Parch        891 non-null    int64  \n",
      " 8   Ticket       891 non-null    object \n",
      " 9   Fare         891 non-null    float64\n",
      " 10  Cabin        204 non-null    object \n",
      " 11  Embarked     889 non-null    object \n",
      "dtypes: float64(2), int64(5), object(5)\n",
      "memory usage: 83.7+ KB\n"
     ]
    }
   ],
   "source": [
    "#Schema of dataset\n",
    "train_data.info()"
   ]
  },
  {
   "cell_type": "code",
   "execution_count": 11,
   "id": "20c280d8",
   "metadata": {
    "execution": {
     "iopub.execute_input": "2022-07-18T03:44:20.023403Z",
     "iopub.status.busy": "2022-07-18T03:44:20.022713Z",
     "iopub.status.idle": "2022-07-18T03:44:20.030567Z",
     "shell.execute_reply": "2022-07-18T03:44:20.029438Z"
    },
    "papermill": {
     "duration": 0.041786,
     "end_time": "2022-07-18T03:44:20.033175",
     "exception": false,
     "start_time": "2022-07-18T03:44:19.991389",
     "status": "completed"
    },
    "tags": []
   },
   "outputs": [
    {
     "data": {
      "text/plain": [
       "dtype('float64')"
      ]
     },
     "execution_count": 11,
     "metadata": {},
     "output_type": "execute_result"
    }
   ],
   "source": [
    "#replace Null values in \"Cabin:-Column\"\n",
    "train_data[\"Cabin\"].fillna(\"Cabinless\", inplace = True)\n",
    "\n",
    "#replace Null values in \"Age:-Column\"\n",
    "train_data[\"Age\"].fillna(-1, inplace = True)\n",
    "train_data.Age.dtype\n"
   ]
  },
  {
   "cell_type": "code",
   "execution_count": 12,
   "id": "fac709c4",
   "metadata": {
    "execution": {
     "iopub.execute_input": "2022-07-18T03:44:20.094694Z",
     "iopub.status.busy": "2022-07-18T03:44:20.094286Z",
     "iopub.status.idle": "2022-07-18T03:44:20.101612Z",
     "shell.execute_reply": "2022-07-18T03:44:20.100679Z"
    },
    "papermill": {
     "duration": 0.040536,
     "end_time": "2022-07-18T03:44:20.103994",
     "exception": false,
     "start_time": "2022-07-18T03:44:20.063458",
     "status": "completed"
    },
    "tags": []
   },
   "outputs": [
    {
     "data": {
      "text/plain": [
       "(891, 12)"
      ]
     },
     "execution_count": 12,
     "metadata": {},
     "output_type": "execute_result"
    }
   ],
   "source": [
    "train_data.shape"
   ]
  },
  {
   "cell_type": "code",
   "execution_count": 13,
   "id": "20886a26",
   "metadata": {
    "execution": {
     "iopub.execute_input": "2022-07-18T03:44:20.163629Z",
     "iopub.status.busy": "2022-07-18T03:44:20.162920Z",
     "iopub.status.idle": "2022-07-18T03:44:20.179119Z",
     "shell.execute_reply": "2022-07-18T03:44:20.178056Z"
    },
    "papermill": {
     "duration": 0.048132,
     "end_time": "2022-07-18T03:44:20.181167",
     "exception": false,
     "start_time": "2022-07-18T03:44:20.133035",
     "status": "completed"
    },
    "tags": []
   },
   "outputs": [
    {
     "data": {
      "text/html": [
       "<div>\n",
       "<style scoped>\n",
       "    .dataframe tbody tr th:only-of-type {\n",
       "        vertical-align: middle;\n",
       "    }\n",
       "\n",
       "    .dataframe tbody tr th {\n",
       "        vertical-align: top;\n",
       "    }\n",
       "\n",
       "    .dataframe thead th {\n",
       "        text-align: right;\n",
       "    }\n",
       "</style>\n",
       "<table border=\"1\" class=\"dataframe\">\n",
       "  <thead>\n",
       "    <tr style=\"text-align: right;\">\n",
       "      <th></th>\n",
       "      <th>PassengerId</th>\n",
       "      <th>Survived</th>\n",
       "      <th>Pclass</th>\n",
       "      <th>Name</th>\n",
       "      <th>Sex</th>\n",
       "      <th>Age</th>\n",
       "      <th>SibSp</th>\n",
       "      <th>Parch</th>\n",
       "      <th>Ticket</th>\n",
       "      <th>Fare</th>\n",
       "      <th>Cabin</th>\n",
       "      <th>Embarked</th>\n",
       "    </tr>\n",
       "  </thead>\n",
       "  <tbody>\n",
       "    <tr>\n",
       "      <th>0</th>\n",
       "      <td>1</td>\n",
       "      <td>0</td>\n",
       "      <td>3</td>\n",
       "      <td>Braund, Mr. Owen Harris</td>\n",
       "      <td>male</td>\n",
       "      <td>22.0</td>\n",
       "      <td>1</td>\n",
       "      <td>0</td>\n",
       "      <td>A/5 21171</td>\n",
       "      <td>7.2500</td>\n",
       "      <td>Cabinless</td>\n",
       "      <td>S</td>\n",
       "    </tr>\n",
       "    <tr>\n",
       "      <th>1</th>\n",
       "      <td>2</td>\n",
       "      <td>1</td>\n",
       "      <td>1</td>\n",
       "      <td>Cumings, Mrs. John Bradley (Florence Briggs Th...</td>\n",
       "      <td>female</td>\n",
       "      <td>38.0</td>\n",
       "      <td>1</td>\n",
       "      <td>0</td>\n",
       "      <td>PC 17599</td>\n",
       "      <td>71.2833</td>\n",
       "      <td>C85</td>\n",
       "      <td>C</td>\n",
       "    </tr>\n",
       "    <tr>\n",
       "      <th>2</th>\n",
       "      <td>3</td>\n",
       "      <td>1</td>\n",
       "      <td>3</td>\n",
       "      <td>Heikkinen, Miss. Laina</td>\n",
       "      <td>female</td>\n",
       "      <td>26.0</td>\n",
       "      <td>0</td>\n",
       "      <td>0</td>\n",
       "      <td>STON/O2. 3101282</td>\n",
       "      <td>7.9250</td>\n",
       "      <td>Cabinless</td>\n",
       "      <td>S</td>\n",
       "    </tr>\n",
       "    <tr>\n",
       "      <th>3</th>\n",
       "      <td>4</td>\n",
       "      <td>1</td>\n",
       "      <td>1</td>\n",
       "      <td>Futrelle, Mrs. Jacques Heath (Lily May Peel)</td>\n",
       "      <td>female</td>\n",
       "      <td>35.0</td>\n",
       "      <td>1</td>\n",
       "      <td>0</td>\n",
       "      <td>113803</td>\n",
       "      <td>53.1000</td>\n",
       "      <td>C123</td>\n",
       "      <td>S</td>\n",
       "    </tr>\n",
       "    <tr>\n",
       "      <th>4</th>\n",
       "      <td>5</td>\n",
       "      <td>0</td>\n",
       "      <td>3</td>\n",
       "      <td>Allen, Mr. William Henry</td>\n",
       "      <td>male</td>\n",
       "      <td>35.0</td>\n",
       "      <td>0</td>\n",
       "      <td>0</td>\n",
       "      <td>373450</td>\n",
       "      <td>8.0500</td>\n",
       "      <td>Cabinless</td>\n",
       "      <td>S</td>\n",
       "    </tr>\n",
       "  </tbody>\n",
       "</table>\n",
       "</div>"
      ],
      "text/plain": [
       "   PassengerId  Survived  Pclass  \\\n",
       "0            1         0       3   \n",
       "1            2         1       1   \n",
       "2            3         1       3   \n",
       "3            4         1       1   \n",
       "4            5         0       3   \n",
       "\n",
       "                                                Name     Sex   Age  SibSp  \\\n",
       "0                            Braund, Mr. Owen Harris    male  22.0      1   \n",
       "1  Cumings, Mrs. John Bradley (Florence Briggs Th...  female  38.0      1   \n",
       "2                             Heikkinen, Miss. Laina  female  26.0      0   \n",
       "3       Futrelle, Mrs. Jacques Heath (Lily May Peel)  female  35.0      1   \n",
       "4                           Allen, Mr. William Henry    male  35.0      0   \n",
       "\n",
       "   Parch            Ticket     Fare      Cabin Embarked  \n",
       "0      0         A/5 21171   7.2500  Cabinless        S  \n",
       "1      0          PC 17599  71.2833        C85        C  \n",
       "2      0  STON/O2. 3101282   7.9250  Cabinless        S  \n",
       "3      0            113803  53.1000       C123        S  \n",
       "4      0            373450   8.0500  Cabinless        S  "
      ]
     },
     "execution_count": 13,
     "metadata": {},
     "output_type": "execute_result"
    }
   ],
   "source": [
    "train_data.head()"
   ]
  },
  {
   "cell_type": "code",
   "execution_count": 14,
   "id": "7ebc8d48",
   "metadata": {
    "execution": {
     "iopub.execute_input": "2022-07-18T03:44:20.241051Z",
     "iopub.status.busy": "2022-07-18T03:44:20.240253Z",
     "iopub.status.idle": "2022-07-18T03:44:20.257602Z",
     "shell.execute_reply": "2022-07-18T03:44:20.256567Z"
    },
    "papermill": {
     "duration": 0.049837,
     "end_time": "2022-07-18T03:44:20.259762",
     "exception": false,
     "start_time": "2022-07-18T03:44:20.209925",
     "status": "completed"
    },
    "tags": []
   },
   "outputs": [
    {
     "data": {
      "text/html": [
       "<div>\n",
       "<style scoped>\n",
       "    .dataframe tbody tr th:only-of-type {\n",
       "        vertical-align: middle;\n",
       "    }\n",
       "\n",
       "    .dataframe tbody tr th {\n",
       "        vertical-align: top;\n",
       "    }\n",
       "\n",
       "    .dataframe thead th {\n",
       "        text-align: right;\n",
       "    }\n",
       "</style>\n",
       "<table border=\"1\" class=\"dataframe\">\n",
       "  <thead>\n",
       "    <tr style=\"text-align: right;\">\n",
       "      <th></th>\n",
       "      <th>PassengerId</th>\n",
       "      <th>Survived</th>\n",
       "      <th>Pclass</th>\n",
       "      <th>Name</th>\n",
       "      <th>Sex</th>\n",
       "      <th>Age</th>\n",
       "      <th>SibSp</th>\n",
       "      <th>Parch</th>\n",
       "      <th>Ticket</th>\n",
       "      <th>Fare</th>\n",
       "      <th>Cabin</th>\n",
       "      <th>Embarked</th>\n",
       "    </tr>\n",
       "  </thead>\n",
       "  <tbody>\n",
       "    <tr>\n",
       "      <th>0</th>\n",
       "      <td>1</td>\n",
       "      <td>0</td>\n",
       "      <td>3</td>\n",
       "      <td>Braund, Mr. Owen Harris</td>\n",
       "      <td>male</td>\n",
       "      <td>22.0</td>\n",
       "      <td>1</td>\n",
       "      <td>0</td>\n",
       "      <td>A/5 21171</td>\n",
       "      <td>7.2500</td>\n",
       "      <td>Cabinless</td>\n",
       "      <td>S</td>\n",
       "    </tr>\n",
       "    <tr>\n",
       "      <th>1</th>\n",
       "      <td>2</td>\n",
       "      <td>1</td>\n",
       "      <td>1</td>\n",
       "      <td>Cumings, Mrs. John Bradley (Florence Briggs Th...</td>\n",
       "      <td>female</td>\n",
       "      <td>38.0</td>\n",
       "      <td>1</td>\n",
       "      <td>0</td>\n",
       "      <td>PC 17599</td>\n",
       "      <td>71.2833</td>\n",
       "      <td>C85</td>\n",
       "      <td>C</td>\n",
       "    </tr>\n",
       "    <tr>\n",
       "      <th>2</th>\n",
       "      <td>3</td>\n",
       "      <td>1</td>\n",
       "      <td>3</td>\n",
       "      <td>Heikkinen, Miss. Laina</td>\n",
       "      <td>female</td>\n",
       "      <td>26.0</td>\n",
       "      <td>0</td>\n",
       "      <td>0</td>\n",
       "      <td>STON/O2. 3101282</td>\n",
       "      <td>7.9250</td>\n",
       "      <td>Cabinless</td>\n",
       "      <td>S</td>\n",
       "    </tr>\n",
       "    <tr>\n",
       "      <th>3</th>\n",
       "      <td>4</td>\n",
       "      <td>1</td>\n",
       "      <td>1</td>\n",
       "      <td>Futrelle, Mrs. Jacques Heath (Lily May Peel)</td>\n",
       "      <td>female</td>\n",
       "      <td>35.0</td>\n",
       "      <td>1</td>\n",
       "      <td>0</td>\n",
       "      <td>113803</td>\n",
       "      <td>53.1000</td>\n",
       "      <td>C123</td>\n",
       "      <td>S</td>\n",
       "    </tr>\n",
       "    <tr>\n",
       "      <th>4</th>\n",
       "      <td>5</td>\n",
       "      <td>0</td>\n",
       "      <td>3</td>\n",
       "      <td>Allen, Mr. William Henry</td>\n",
       "      <td>male</td>\n",
       "      <td>35.0</td>\n",
       "      <td>0</td>\n",
       "      <td>0</td>\n",
       "      <td>373450</td>\n",
       "      <td>8.0500</td>\n",
       "      <td>Cabinless</td>\n",
       "      <td>S</td>\n",
       "    </tr>\n",
       "  </tbody>\n",
       "</table>\n",
       "</div>"
      ],
      "text/plain": [
       "   PassengerId  Survived  Pclass  \\\n",
       "0            1         0       3   \n",
       "1            2         1       1   \n",
       "2            3         1       3   \n",
       "3            4         1       1   \n",
       "4            5         0       3   \n",
       "\n",
       "                                                Name     Sex   Age  SibSp  \\\n",
       "0                            Braund, Mr. Owen Harris    male  22.0      1   \n",
       "1  Cumings, Mrs. John Bradley (Florence Briggs Th...  female  38.0      1   \n",
       "2                             Heikkinen, Miss. Laina  female  26.0      0   \n",
       "3       Futrelle, Mrs. Jacques Heath (Lily May Peel)  female  35.0      1   \n",
       "4                           Allen, Mr. William Henry    male  35.0      0   \n",
       "\n",
       "   Parch            Ticket     Fare      Cabin Embarked  \n",
       "0      0         A/5 21171   7.2500  Cabinless        S  \n",
       "1      0          PC 17599  71.2833        C85        C  \n",
       "2      0  STON/O2. 3101282   7.9250  Cabinless        S  \n",
       "3      0            113803  53.1000       C123        S  \n",
       "4      0            373450   8.0500  Cabinless        S  "
      ]
     },
     "execution_count": 14,
     "metadata": {},
     "output_type": "execute_result"
    }
   ],
   "source": [
    "train_data1=train_data.dropna()\n",
    "train_data1.head()"
   ]
  },
  {
   "cell_type": "code",
   "execution_count": 15,
   "id": "51cbd9d5",
   "metadata": {
    "execution": {
     "iopub.execute_input": "2022-07-18T03:44:20.322804Z",
     "iopub.status.busy": "2022-07-18T03:44:20.322364Z",
     "iopub.status.idle": "2022-07-18T03:44:20.329401Z",
     "shell.execute_reply": "2022-07-18T03:44:20.328513Z"
    },
    "papermill": {
     "duration": 0.040831,
     "end_time": "2022-07-18T03:44:20.331482",
     "exception": false,
     "start_time": "2022-07-18T03:44:20.290651",
     "status": "completed"
    },
    "tags": []
   },
   "outputs": [
    {
     "data": {
      "text/plain": [
       "(889, 12)"
      ]
     },
     "execution_count": 15,
     "metadata": {},
     "output_type": "execute_result"
    }
   ],
   "source": [
    "train_data1.shape"
   ]
  },
  {
   "cell_type": "code",
   "execution_count": null,
   "id": "b2342470",
   "metadata": {
    "papermill": {
     "duration": 0.028964,
     "end_time": "2022-07-18T03:44:20.389818",
     "exception": false,
     "start_time": "2022-07-18T03:44:20.360854",
     "status": "completed"
    },
    "tags": []
   },
   "outputs": [],
   "source": []
  },
  {
   "cell_type": "code",
   "execution_count": null,
   "id": "18359870",
   "metadata": {
    "papermill": {
     "duration": 0.029252,
     "end_time": "2022-07-18T03:44:20.448181",
     "exception": false,
     "start_time": "2022-07-18T03:44:20.418929",
     "status": "completed"
    },
    "tags": []
   },
   "outputs": [],
   "source": []
  },
  {
   "cell_type": "code",
   "execution_count": 16,
   "id": "29158b85",
   "metadata": {
    "execution": {
     "iopub.execute_input": "2022-07-18T03:44:20.509987Z",
     "iopub.status.busy": "2022-07-18T03:44:20.508955Z",
     "iopub.status.idle": "2022-07-18T03:44:20.538361Z",
     "shell.execute_reply": "2022-07-18T03:44:20.537580Z"
    },
    "papermill": {
     "duration": 0.06273,
     "end_time": "2022-07-18T03:44:20.540578",
     "exception": false,
     "start_time": "2022-07-18T03:44:20.477848",
     "status": "completed"
    },
    "tags": []
   },
   "outputs": [
    {
     "data": {
      "text/html": [
       "<div>\n",
       "<style scoped>\n",
       "    .dataframe tbody tr th:only-of-type {\n",
       "        vertical-align: middle;\n",
       "    }\n",
       "\n",
       "    .dataframe tbody tr th {\n",
       "        vertical-align: top;\n",
       "    }\n",
       "\n",
       "    .dataframe thead th {\n",
       "        text-align: right;\n",
       "    }\n",
       "</style>\n",
       "<table border=\"1\" class=\"dataframe\">\n",
       "  <thead>\n",
       "    <tr style=\"text-align: right;\">\n",
       "      <th></th>\n",
       "      <th>PassengerId</th>\n",
       "      <th>Survived</th>\n",
       "      <th>Pclass</th>\n",
       "      <th>Age</th>\n",
       "      <th>SibSp</th>\n",
       "      <th>Parch</th>\n",
       "      <th>Fare</th>\n",
       "    </tr>\n",
       "  </thead>\n",
       "  <tbody>\n",
       "    <tr>\n",
       "      <th>count</th>\n",
       "      <td>889.000000</td>\n",
       "      <td>889.000000</td>\n",
       "      <td>889.000000</td>\n",
       "      <td>889.000000</td>\n",
       "      <td>889.000000</td>\n",
       "      <td>889.000000</td>\n",
       "      <td>889.000000</td>\n",
       "    </tr>\n",
       "    <tr>\n",
       "      <th>mean</th>\n",
       "      <td>446.000000</td>\n",
       "      <td>0.382452</td>\n",
       "      <td>2.311586</td>\n",
       "      <td>23.541249</td>\n",
       "      <td>0.524184</td>\n",
       "      <td>0.382452</td>\n",
       "      <td>32.096681</td>\n",
       "    </tr>\n",
       "    <tr>\n",
       "      <th>std</th>\n",
       "      <td>256.998173</td>\n",
       "      <td>0.486260</td>\n",
       "      <td>0.834700</td>\n",
       "      <td>17.834487</td>\n",
       "      <td>1.103705</td>\n",
       "      <td>0.806761</td>\n",
       "      <td>49.697504</td>\n",
       "    </tr>\n",
       "    <tr>\n",
       "      <th>min</th>\n",
       "      <td>1.000000</td>\n",
       "      <td>0.000000</td>\n",
       "      <td>1.000000</td>\n",
       "      <td>-1.000000</td>\n",
       "      <td>0.000000</td>\n",
       "      <td>0.000000</td>\n",
       "      <td>0.000000</td>\n",
       "    </tr>\n",
       "    <tr>\n",
       "      <th>25%</th>\n",
       "      <td>224.000000</td>\n",
       "      <td>0.000000</td>\n",
       "      <td>2.000000</td>\n",
       "      <td>6.000000</td>\n",
       "      <td>0.000000</td>\n",
       "      <td>0.000000</td>\n",
       "      <td>7.895800</td>\n",
       "    </tr>\n",
       "    <tr>\n",
       "      <th>50%</th>\n",
       "      <td>446.000000</td>\n",
       "      <td>0.000000</td>\n",
       "      <td>3.000000</td>\n",
       "      <td>24.000000</td>\n",
       "      <td>0.000000</td>\n",
       "      <td>0.000000</td>\n",
       "      <td>14.454200</td>\n",
       "    </tr>\n",
       "    <tr>\n",
       "      <th>75%</th>\n",
       "      <td>668.000000</td>\n",
       "      <td>1.000000</td>\n",
       "      <td>3.000000</td>\n",
       "      <td>35.000000</td>\n",
       "      <td>1.000000</td>\n",
       "      <td>0.000000</td>\n",
       "      <td>31.000000</td>\n",
       "    </tr>\n",
       "    <tr>\n",
       "      <th>max</th>\n",
       "      <td>891.000000</td>\n",
       "      <td>1.000000</td>\n",
       "      <td>3.000000</td>\n",
       "      <td>80.000000</td>\n",
       "      <td>8.000000</td>\n",
       "      <td>6.000000</td>\n",
       "      <td>512.329200</td>\n",
       "    </tr>\n",
       "  </tbody>\n",
       "</table>\n",
       "</div>"
      ],
      "text/plain": [
       "       PassengerId    Survived      Pclass         Age       SibSp  \\\n",
       "count   889.000000  889.000000  889.000000  889.000000  889.000000   \n",
       "mean    446.000000    0.382452    2.311586   23.541249    0.524184   \n",
       "std     256.998173    0.486260    0.834700   17.834487    1.103705   \n",
       "min       1.000000    0.000000    1.000000   -1.000000    0.000000   \n",
       "25%     224.000000    0.000000    2.000000    6.000000    0.000000   \n",
       "50%     446.000000    0.000000    3.000000   24.000000    0.000000   \n",
       "75%     668.000000    1.000000    3.000000   35.000000    1.000000   \n",
       "max     891.000000    1.000000    3.000000   80.000000    8.000000   \n",
       "\n",
       "            Parch        Fare  \n",
       "count  889.000000  889.000000  \n",
       "mean     0.382452   32.096681  \n",
       "std      0.806761   49.697504  \n",
       "min      0.000000    0.000000  \n",
       "25%      0.000000    7.895800  \n",
       "50%      0.000000   14.454200  \n",
       "75%      0.000000   31.000000  \n",
       "max      6.000000  512.329200  "
      ]
     },
     "execution_count": 16,
     "metadata": {},
     "output_type": "execute_result"
    }
   ],
   "source": [
    "train_data1.describe()"
   ]
  },
  {
   "cell_type": "code",
   "execution_count": null,
   "id": "34165f5b",
   "metadata": {
    "papermill": {
     "duration": 0.028788,
     "end_time": "2022-07-18T03:44:20.598733",
     "exception": false,
     "start_time": "2022-07-18T03:44:20.569945",
     "status": "completed"
    },
    "tags": []
   },
   "outputs": [],
   "source": []
  },
  {
   "cell_type": "markdown",
   "id": "e582e2b2",
   "metadata": {
    "papermill": {
     "duration": 0.028899,
     "end_time": "2022-07-18T03:44:20.657175",
     "exception": false,
     "start_time": "2022-07-18T03:44:20.628276",
     "status": "completed"
    },
    "tags": []
   },
   "source": [
    "Categorical Analysis and Visualization"
   ]
  },
  {
   "cell_type": "code",
   "execution_count": 17,
   "id": "3b9f3b4e",
   "metadata": {
    "execution": {
     "iopub.execute_input": "2022-07-18T03:44:20.721782Z",
     "iopub.status.busy": "2022-07-18T03:44:20.721097Z",
     "iopub.status.idle": "2022-07-18T03:44:20.728740Z",
     "shell.execute_reply": "2022-07-18T03:44:20.727653Z"
    },
    "papermill": {
     "duration": 0.043132,
     "end_time": "2022-07-18T03:44:20.730909",
     "exception": false,
     "start_time": "2022-07-18T03:44:20.687777",
     "status": "completed"
    },
    "tags": []
   },
   "outputs": [
    {
     "data": {
      "text/plain": [
       "3    491\n",
       "1    214\n",
       "2    184\n",
       "Name: Pclass, dtype: int64"
      ]
     },
     "execution_count": 17,
     "metadata": {},
     "output_type": "execute_result"
    }
   ],
   "source": [
    "train_data1['Pclass'].value_counts()"
   ]
  },
  {
   "cell_type": "markdown",
   "id": "3101f05b",
   "metadata": {
    "papermill": {
     "duration": 0.029009,
     "end_time": "2022-07-18T03:44:20.789271",
     "exception": false,
     "start_time": "2022-07-18T03:44:20.760262",
     "status": "completed"
    },
    "tags": []
   },
   "source": [
    "Three Passenger Classes in the Titanic: 1, 2, 3"
   ]
  },
  {
   "cell_type": "code",
   "execution_count": 18,
   "id": "d377b766",
   "metadata": {
    "execution": {
     "iopub.execute_input": "2022-07-18T03:44:20.850820Z",
     "iopub.status.busy": "2022-07-18T03:44:20.850433Z",
     "iopub.status.idle": "2022-07-18T03:44:20.858631Z",
     "shell.execute_reply": "2022-07-18T03:44:20.857501Z"
    },
    "papermill": {
     "duration": 0.042237,
     "end_time": "2022-07-18T03:44:20.860782",
     "exception": false,
     "start_time": "2022-07-18T03:44:20.818545",
     "status": "completed"
    },
    "tags": []
   },
   "outputs": [
    {
     "data": {
      "text/plain": [
       "male      577\n",
       "female    312\n",
       "Name: Sex, dtype: int64"
      ]
     },
     "execution_count": 18,
     "metadata": {},
     "output_type": "execute_result"
    }
   ],
   "source": [
    "train_data1['Sex'].value_counts()"
   ]
  },
  {
   "cell_type": "code",
   "execution_count": 19,
   "id": "c0232ec9",
   "metadata": {
    "execution": {
     "iopub.execute_input": "2022-07-18T03:44:20.922450Z",
     "iopub.status.busy": "2022-07-18T03:44:20.921355Z",
     "iopub.status.idle": "2022-07-18T03:44:20.932712Z",
     "shell.execute_reply": "2022-07-18T03:44:20.931584Z"
    },
    "papermill": {
     "duration": 0.044014,
     "end_time": "2022-07-18T03:44:20.934860",
     "exception": false,
     "start_time": "2022-07-18T03:44:20.890846",
     "status": "completed"
    },
    "tags": []
   },
   "outputs": [
    {
     "data": {
      "text/plain": [
       "-1.00     177\n",
       " 24.00     30\n",
       " 22.00     27\n",
       " 18.00     26\n",
       " 28.00     25\n",
       "         ... \n",
       " 36.50      1\n",
       " 55.50      1\n",
       " 0.92       1\n",
       " 23.50      1\n",
       " 74.00      1\n",
       "Name: Age, Length: 89, dtype: int64"
      ]
     },
     "execution_count": 19,
     "metadata": {},
     "output_type": "execute_result"
    }
   ],
   "source": [
    "train_data1['Age'].value_counts()"
   ]
  },
  {
   "cell_type": "code",
   "execution_count": 20,
   "id": "a080c9ce",
   "metadata": {
    "execution": {
     "iopub.execute_input": "2022-07-18T03:44:20.996798Z",
     "iopub.status.busy": "2022-07-18T03:44:20.995932Z",
     "iopub.status.idle": "2022-07-18T03:44:21.017806Z",
     "shell.execute_reply": "2022-07-18T03:44:21.016378Z"
    },
    "papermill": {
     "duration": 0.055867,
     "end_time": "2022-07-18T03:44:21.020381",
     "exception": false,
     "start_time": "2022-07-18T03:44:20.964514",
     "status": "completed"
    },
    "tags": []
   },
   "outputs": [
    {
     "name": "stderr",
     "output_type": "stream",
     "text": [
      "/opt/conda/lib/python3.7/site-packages/ipykernel_launcher.py:6: SettingWithCopyWarning: \n",
      "A value is trying to be set on a copy of a slice from a DataFrame.\n",
      "Try using .loc[row_indexer,col_indexer] = value instead\n",
      "\n",
      "See the caveats in the documentation: https://pandas.pydata.org/pandas-docs/stable/user_guide/indexing.html#returning-a-view-versus-a-copy\n",
      "  \n"
     ]
    },
    {
     "data": {
      "text/html": [
       "<div>\n",
       "<style scoped>\n",
       "    .dataframe tbody tr th:only-of-type {\n",
       "        vertical-align: middle;\n",
       "    }\n",
       "\n",
       "    .dataframe tbody tr th {\n",
       "        vertical-align: top;\n",
       "    }\n",
       "\n",
       "    .dataframe thead th {\n",
       "        text-align: right;\n",
       "    }\n",
       "</style>\n",
       "<table border=\"1\" class=\"dataframe\">\n",
       "  <thead>\n",
       "    <tr style=\"text-align: right;\">\n",
       "      <th></th>\n",
       "      <th>PassengerId</th>\n",
       "      <th>Survived</th>\n",
       "      <th>Pclass</th>\n",
       "      <th>Name</th>\n",
       "      <th>Sex</th>\n",
       "      <th>Age</th>\n",
       "      <th>SibSp</th>\n",
       "      <th>Parch</th>\n",
       "      <th>Ticket</th>\n",
       "      <th>Fare</th>\n",
       "      <th>Cabin</th>\n",
       "      <th>Embarked</th>\n",
       "      <th>AgeGroup</th>\n",
       "    </tr>\n",
       "  </thead>\n",
       "  <tbody>\n",
       "    <tr>\n",
       "      <th>0</th>\n",
       "      <td>1</td>\n",
       "      <td>0</td>\n",
       "      <td>3</td>\n",
       "      <td>Braund, Mr. Owen Harris</td>\n",
       "      <td>male</td>\n",
       "      <td>22.0</td>\n",
       "      <td>1</td>\n",
       "      <td>0</td>\n",
       "      <td>A/5 21171</td>\n",
       "      <td>7.2500</td>\n",
       "      <td>Cabinless</td>\n",
       "      <td>S</td>\n",
       "      <td>Adult</td>\n",
       "    </tr>\n",
       "    <tr>\n",
       "      <th>1</th>\n",
       "      <td>2</td>\n",
       "      <td>1</td>\n",
       "      <td>1</td>\n",
       "      <td>Cumings, Mrs. John Bradley (Florence Briggs Th...</td>\n",
       "      <td>female</td>\n",
       "      <td>38.0</td>\n",
       "      <td>1</td>\n",
       "      <td>0</td>\n",
       "      <td>PC 17599</td>\n",
       "      <td>71.2833</td>\n",
       "      <td>C85</td>\n",
       "      <td>C</td>\n",
       "      <td>Adult</td>\n",
       "    </tr>\n",
       "    <tr>\n",
       "      <th>2</th>\n",
       "      <td>3</td>\n",
       "      <td>1</td>\n",
       "      <td>3</td>\n",
       "      <td>Heikkinen, Miss. Laina</td>\n",
       "      <td>female</td>\n",
       "      <td>26.0</td>\n",
       "      <td>0</td>\n",
       "      <td>0</td>\n",
       "      <td>STON/O2. 3101282</td>\n",
       "      <td>7.9250</td>\n",
       "      <td>Cabinless</td>\n",
       "      <td>S</td>\n",
       "      <td>Adult</td>\n",
       "    </tr>\n",
       "    <tr>\n",
       "      <th>3</th>\n",
       "      <td>4</td>\n",
       "      <td>1</td>\n",
       "      <td>1</td>\n",
       "      <td>Futrelle, Mrs. Jacques Heath (Lily May Peel)</td>\n",
       "      <td>female</td>\n",
       "      <td>35.0</td>\n",
       "      <td>1</td>\n",
       "      <td>0</td>\n",
       "      <td>113803</td>\n",
       "      <td>53.1000</td>\n",
       "      <td>C123</td>\n",
       "      <td>S</td>\n",
       "      <td>Adult</td>\n",
       "    </tr>\n",
       "    <tr>\n",
       "      <th>4</th>\n",
       "      <td>5</td>\n",
       "      <td>0</td>\n",
       "      <td>3</td>\n",
       "      <td>Allen, Mr. William Henry</td>\n",
       "      <td>male</td>\n",
       "      <td>35.0</td>\n",
       "      <td>0</td>\n",
       "      <td>0</td>\n",
       "      <td>373450</td>\n",
       "      <td>8.0500</td>\n",
       "      <td>Cabinless</td>\n",
       "      <td>S</td>\n",
       "      <td>Adult</td>\n",
       "    </tr>\n",
       "  </tbody>\n",
       "</table>\n",
       "</div>"
      ],
      "text/plain": [
       "   PassengerId  Survived  Pclass  \\\n",
       "0            1         0       3   \n",
       "1            2         1       1   \n",
       "2            3         1       3   \n",
       "3            4         1       1   \n",
       "4            5         0       3   \n",
       "\n",
       "                                                Name     Sex   Age  SibSp  \\\n",
       "0                            Braund, Mr. Owen Harris    male  22.0      1   \n",
       "1  Cumings, Mrs. John Bradley (Florence Briggs Th...  female  38.0      1   \n",
       "2                             Heikkinen, Miss. Laina  female  26.0      0   \n",
       "3       Futrelle, Mrs. Jacques Heath (Lily May Peel)  female  35.0      1   \n",
       "4                           Allen, Mr. William Henry    male  35.0      0   \n",
       "\n",
       "   Parch            Ticket     Fare      Cabin Embarked AgeGroup  \n",
       "0      0         A/5 21171   7.2500  Cabinless        S    Adult  \n",
       "1      0          PC 17599  71.2833        C85        C    Adult  \n",
       "2      0  STON/O2. 3101282   7.9250  Cabinless        S    Adult  \n",
       "3      0            113803  53.1000       C123        S    Adult  \n",
       "4      0            373450   8.0500  Cabinless        S    Adult  "
      ]
     },
     "execution_count": 20,
     "metadata": {},
     "output_type": "execute_result"
    }
   ],
   "source": [
    "#Creating New Column \"Age-Group\" to group column \"Age\"\n",
    "\n",
    "train_data1\n",
    "bins= [-1,0,2,4,13,20,110]\n",
    "labels = ['Unkwown','Infant','Toddler','Kid','Teen','Adult']\n",
    "train_data1['AgeGroup'] = pd.cut(train_data1['Age'], bins=bins, labels=labels, right=False)\n",
    "train_data1.head()"
   ]
  },
  {
   "cell_type": "code",
   "execution_count": 21,
   "id": "acfdc5ba",
   "metadata": {
    "execution": {
     "iopub.execute_input": "2022-07-18T03:44:21.086065Z",
     "iopub.status.busy": "2022-07-18T03:44:21.085295Z",
     "iopub.status.idle": "2022-07-18T03:44:21.095540Z",
     "shell.execute_reply": "2022-07-18T03:44:21.094379Z"
    },
    "papermill": {
     "duration": 0.045876,
     "end_time": "2022-07-18T03:44:21.097674",
     "exception": false,
     "start_time": "2022-07-18T03:44:21.051798",
     "status": "completed"
    },
    "tags": []
   },
   "outputs": [
    {
     "data": {
      "text/plain": [
       "Adult      548\n",
       "Unkwown    177\n",
       "Teen        95\n",
       "Kid         39\n",
       "Toddler     16\n",
       "Infant      14\n",
       "Name: AgeGroup, dtype: int64"
      ]
     },
     "execution_count": 21,
     "metadata": {},
     "output_type": "execute_result"
    }
   ],
   "source": [
    "train_data1[\"AgeGroup\"].value_counts()"
   ]
  },
  {
   "cell_type": "code",
   "execution_count": 22,
   "id": "d3db09f9",
   "metadata": {
    "execution": {
     "iopub.execute_input": "2022-07-18T03:44:21.159646Z",
     "iopub.status.busy": "2022-07-18T03:44:21.159255Z",
     "iopub.status.idle": "2022-07-18T03:44:21.167693Z",
     "shell.execute_reply": "2022-07-18T03:44:21.166288Z"
    },
    "papermill": {
     "duration": 0.041682,
     "end_time": "2022-07-18T03:44:21.169881",
     "exception": false,
     "start_time": "2022-07-18T03:44:21.128199",
     "status": "completed"
    },
    "tags": []
   },
   "outputs": [
    {
     "data": {
      "text/plain": [
       "0    606\n",
       "1    209\n",
       "2     28\n",
       "4     18\n",
       "3     16\n",
       "8      7\n",
       "5      5\n",
       "Name: SibSp, dtype: int64"
      ]
     },
     "execution_count": 22,
     "metadata": {},
     "output_type": "execute_result"
    }
   ],
   "source": [
    "train_data1[\"SibSp\"].value_counts()"
   ]
  },
  {
   "cell_type": "code",
   "execution_count": 23,
   "id": "eecab689",
   "metadata": {
    "execution": {
     "iopub.execute_input": "2022-07-18T03:44:21.232356Z",
     "iopub.status.busy": "2022-07-18T03:44:21.231953Z",
     "iopub.status.idle": "2022-07-18T03:44:21.239460Z",
     "shell.execute_reply": "2022-07-18T03:44:21.238661Z"
    },
    "papermill": {
     "duration": 0.040901,
     "end_time": "2022-07-18T03:44:21.241346",
     "exception": false,
     "start_time": "2022-07-18T03:44:21.200445",
     "status": "completed"
    },
    "tags": []
   },
   "outputs": [
    {
     "data": {
      "text/plain": [
       "0    676\n",
       "1    118\n",
       "2     80\n",
       "5      5\n",
       "3      5\n",
       "4      4\n",
       "6      1\n",
       "Name: Parch, dtype: int64"
      ]
     },
     "execution_count": 23,
     "metadata": {},
     "output_type": "execute_result"
    }
   ],
   "source": [
    "train_data1[\"Parch\"].value_counts()"
   ]
  },
  {
   "cell_type": "code",
   "execution_count": 24,
   "id": "48c6395b",
   "metadata": {
    "execution": {
     "iopub.execute_input": "2022-07-18T03:44:21.304670Z",
     "iopub.status.busy": "2022-07-18T03:44:21.304021Z",
     "iopub.status.idle": "2022-07-18T03:44:21.311983Z",
     "shell.execute_reply": "2022-07-18T03:44:21.311268Z"
    },
    "papermill": {
     "duration": 0.042535,
     "end_time": "2022-07-18T03:44:21.314050",
     "exception": false,
     "start_time": "2022-07-18T03:44:21.271515",
     "status": "completed"
    },
    "tags": []
   },
   "outputs": [
    {
     "data": {
      "text/plain": [
       "347082      7\n",
       "CA. 2343    7\n",
       "1601        7\n",
       "3101295     6\n",
       "CA 2144     6\n",
       "           ..\n",
       "9234        1\n",
       "19988       1\n",
       "2693        1\n",
       "PC 17612    1\n",
       "370376      1\n",
       "Name: Ticket, Length: 680, dtype: int64"
      ]
     },
     "execution_count": 24,
     "metadata": {},
     "output_type": "execute_result"
    }
   ],
   "source": [
    "train_data1[\"Ticket\"].value_counts()"
   ]
  },
  {
   "cell_type": "code",
   "execution_count": 25,
   "id": "d653581d",
   "metadata": {
    "execution": {
     "iopub.execute_input": "2022-07-18T03:44:21.378010Z",
     "iopub.status.busy": "2022-07-18T03:44:21.377390Z",
     "iopub.status.idle": "2022-07-18T03:44:21.385515Z",
     "shell.execute_reply": "2022-07-18T03:44:21.384385Z"
    },
    "papermill": {
     "duration": 0.043369,
     "end_time": "2022-07-18T03:44:21.387952",
     "exception": false,
     "start_time": "2022-07-18T03:44:21.344583",
     "status": "completed"
    },
    "tags": []
   },
   "outputs": [
    {
     "data": {
      "text/plain": [
       "8.0500     43\n",
       "13.0000    42\n",
       "7.8958     38\n",
       "7.7500     34\n",
       "26.0000    31\n",
       "           ..\n",
       "35.0000     1\n",
       "28.5000     1\n",
       "6.2375      1\n",
       "14.0000     1\n",
       "10.5167     1\n",
       "Name: Fare, Length: 247, dtype: int64"
      ]
     },
     "execution_count": 25,
     "metadata": {},
     "output_type": "execute_result"
    }
   ],
   "source": [
    "train_data1[\"Fare\"].value_counts()"
   ]
  },
  {
   "cell_type": "code",
   "execution_count": 26,
   "id": "56f42bdf",
   "metadata": {
    "execution": {
     "iopub.execute_input": "2022-07-18T03:44:21.452476Z",
     "iopub.status.busy": "2022-07-18T03:44:21.451709Z",
     "iopub.status.idle": "2022-07-18T03:44:21.460990Z",
     "shell.execute_reply": "2022-07-18T03:44:21.459924Z"
    },
    "papermill": {
     "duration": 0.044797,
     "end_time": "2022-07-18T03:44:21.463169",
     "exception": false,
     "start_time": "2022-07-18T03:44:21.418372",
     "status": "completed"
    },
    "tags": []
   },
   "outputs": [
    {
     "data": {
      "text/plain": [
       "Cabinless      687\n",
       "G6               4\n",
       "C23 C25 C27      4\n",
       "B96 B98          4\n",
       "F2               3\n",
       "              ... \n",
       "E34              1\n",
       "C7               1\n",
       "C54              1\n",
       "E36              1\n",
       "C148             1\n",
       "Name: Cabin, Length: 147, dtype: int64"
      ]
     },
     "execution_count": 26,
     "metadata": {},
     "output_type": "execute_result"
    }
   ],
   "source": [
    "train_data1[\"Cabin\"].value_counts()"
   ]
  },
  {
   "cell_type": "code",
   "execution_count": 27,
   "id": "8c77f7e4",
   "metadata": {
    "execution": {
     "iopub.execute_input": "2022-07-18T03:44:21.526344Z",
     "iopub.status.busy": "2022-07-18T03:44:21.525969Z",
     "iopub.status.idle": "2022-07-18T03:44:21.533818Z",
     "shell.execute_reply": "2022-07-18T03:44:21.532728Z"
    },
    "papermill": {
     "duration": 0.041861,
     "end_time": "2022-07-18T03:44:21.535935",
     "exception": false,
     "start_time": "2022-07-18T03:44:21.494074",
     "status": "completed"
    },
    "tags": []
   },
   "outputs": [
    {
     "data": {
      "text/plain": [
       "S    644\n",
       "C    168\n",
       "Q     77\n",
       "Name: Embarked, dtype: int64"
      ]
     },
     "execution_count": 27,
     "metadata": {},
     "output_type": "execute_result"
    }
   ],
   "source": [
    "train_data1[\"Embarked\"].value_counts()"
   ]
  },
  {
   "cell_type": "code",
   "execution_count": 28,
   "id": "c7453c9a",
   "metadata": {
    "execution": {
     "iopub.execute_input": "2022-07-18T03:44:21.598497Z",
     "iopub.status.busy": "2022-07-18T03:44:21.597780Z",
     "iopub.status.idle": "2022-07-18T03:44:21.613607Z",
     "shell.execute_reply": "2022-07-18T03:44:21.612575Z"
    },
    "papermill": {
     "duration": 0.049692,
     "end_time": "2022-07-18T03:44:21.615805",
     "exception": false,
     "start_time": "2022-07-18T03:44:21.566113",
     "status": "completed"
    },
    "tags": []
   },
   "outputs": [
    {
     "data": {
      "text/html": [
       "<div>\n",
       "<style scoped>\n",
       "    .dataframe tbody tr th:only-of-type {\n",
       "        vertical-align: middle;\n",
       "    }\n",
       "\n",
       "    .dataframe tbody tr th {\n",
       "        vertical-align: top;\n",
       "    }\n",
       "\n",
       "    .dataframe thead th {\n",
       "        text-align: right;\n",
       "    }\n",
       "</style>\n",
       "<table border=\"1\" class=\"dataframe\">\n",
       "  <thead>\n",
       "    <tr style=\"text-align: right;\">\n",
       "      <th></th>\n",
       "      <th>PassengerId</th>\n",
       "      <th>Survived</th>\n",
       "      <th>Pclass</th>\n",
       "      <th>Name</th>\n",
       "      <th>Sex</th>\n",
       "      <th>Age</th>\n",
       "      <th>SibSp</th>\n",
       "      <th>Parch</th>\n",
       "      <th>Ticket</th>\n",
       "      <th>Fare</th>\n",
       "      <th>Cabin</th>\n",
       "      <th>Embarked</th>\n",
       "      <th>AgeGroup</th>\n",
       "    </tr>\n",
       "  </thead>\n",
       "  <tbody>\n",
       "    <tr>\n",
       "      <th>0</th>\n",
       "      <td>1</td>\n",
       "      <td>0</td>\n",
       "      <td>3</td>\n",
       "      <td>Braund, Mr. Owen Harris</td>\n",
       "      <td>male</td>\n",
       "      <td>22.0</td>\n",
       "      <td>1</td>\n",
       "      <td>0</td>\n",
       "      <td>A/5 21171</td>\n",
       "      <td>7.2500</td>\n",
       "      <td>Cabinless</td>\n",
       "      <td>S</td>\n",
       "      <td>Adult</td>\n",
       "    </tr>\n",
       "    <tr>\n",
       "      <th>1</th>\n",
       "      <td>2</td>\n",
       "      <td>1</td>\n",
       "      <td>1</td>\n",
       "      <td>Cumings, Mrs. John Bradley (Florence Briggs Th...</td>\n",
       "      <td>female</td>\n",
       "      <td>38.0</td>\n",
       "      <td>1</td>\n",
       "      <td>0</td>\n",
       "      <td>PC 17599</td>\n",
       "      <td>71.2833</td>\n",
       "      <td>C85</td>\n",
       "      <td>C</td>\n",
       "      <td>Adult</td>\n",
       "    </tr>\n",
       "    <tr>\n",
       "      <th>2</th>\n",
       "      <td>3</td>\n",
       "      <td>1</td>\n",
       "      <td>3</td>\n",
       "      <td>Heikkinen, Miss. Laina</td>\n",
       "      <td>female</td>\n",
       "      <td>26.0</td>\n",
       "      <td>0</td>\n",
       "      <td>0</td>\n",
       "      <td>STON/O2. 3101282</td>\n",
       "      <td>7.9250</td>\n",
       "      <td>Cabinless</td>\n",
       "      <td>S</td>\n",
       "      <td>Adult</td>\n",
       "    </tr>\n",
       "    <tr>\n",
       "      <th>3</th>\n",
       "      <td>4</td>\n",
       "      <td>1</td>\n",
       "      <td>1</td>\n",
       "      <td>Futrelle, Mrs. Jacques Heath (Lily May Peel)</td>\n",
       "      <td>female</td>\n",
       "      <td>35.0</td>\n",
       "      <td>1</td>\n",
       "      <td>0</td>\n",
       "      <td>113803</td>\n",
       "      <td>53.1000</td>\n",
       "      <td>C123</td>\n",
       "      <td>S</td>\n",
       "      <td>Adult</td>\n",
       "    </tr>\n",
       "    <tr>\n",
       "      <th>4</th>\n",
       "      <td>5</td>\n",
       "      <td>0</td>\n",
       "      <td>3</td>\n",
       "      <td>Allen, Mr. William Henry</td>\n",
       "      <td>male</td>\n",
       "      <td>35.0</td>\n",
       "      <td>0</td>\n",
       "      <td>0</td>\n",
       "      <td>373450</td>\n",
       "      <td>8.0500</td>\n",
       "      <td>Cabinless</td>\n",
       "      <td>S</td>\n",
       "      <td>Adult</td>\n",
       "    </tr>\n",
       "  </tbody>\n",
       "</table>\n",
       "</div>"
      ],
      "text/plain": [
       "   PassengerId  Survived  Pclass  \\\n",
       "0            1         0       3   \n",
       "1            2         1       1   \n",
       "2            3         1       3   \n",
       "3            4         1       1   \n",
       "4            5         0       3   \n",
       "\n",
       "                                                Name     Sex   Age  SibSp  \\\n",
       "0                            Braund, Mr. Owen Harris    male  22.0      1   \n",
       "1  Cumings, Mrs. John Bradley (Florence Briggs Th...  female  38.0      1   \n",
       "2                             Heikkinen, Miss. Laina  female  26.0      0   \n",
       "3       Futrelle, Mrs. Jacques Heath (Lily May Peel)  female  35.0      1   \n",
       "4                           Allen, Mr. William Henry    male  35.0      0   \n",
       "\n",
       "   Parch            Ticket     Fare      Cabin Embarked AgeGroup  \n",
       "0      0         A/5 21171   7.2500  Cabinless        S    Adult  \n",
       "1      0          PC 17599  71.2833        C85        C    Adult  \n",
       "2      0  STON/O2. 3101282   7.9250  Cabinless        S    Adult  \n",
       "3      0            113803  53.1000       C123        S    Adult  \n",
       "4      0            373450   8.0500  Cabinless        S    Adult  "
      ]
     },
     "execution_count": 28,
     "metadata": {},
     "output_type": "execute_result"
    }
   ],
   "source": [
    "train_data1.head()"
   ]
  },
  {
   "cell_type": "code",
   "execution_count": 29,
   "id": "825d4efd",
   "metadata": {
    "execution": {
     "iopub.execute_input": "2022-07-18T03:44:21.682471Z",
     "iopub.status.busy": "2022-07-18T03:44:21.681685Z",
     "iopub.status.idle": "2022-07-18T03:44:21.689961Z",
     "shell.execute_reply": "2022-07-18T03:44:21.689001Z"
    },
    "papermill": {
     "duration": 0.044172,
     "end_time": "2022-07-18T03:44:21.692198",
     "exception": false,
     "start_time": "2022-07-18T03:44:21.648026",
     "status": "completed"
    },
    "tags": []
   },
   "outputs": [
    {
     "data": {
      "text/plain": [
       "0                              Braund, Mr. Owen Harris\n",
       "1    Cumings, Mrs. John Bradley (Florence Briggs Th...\n",
       "2                               Heikkinen, Miss. Laina\n",
       "3         Futrelle, Mrs. Jacques Heath (Lily May Peel)\n",
       "4                             Allen, Mr. William Henry\n",
       "Name: Name, dtype: object"
      ]
     },
     "execution_count": 29,
     "metadata": {},
     "output_type": "execute_result"
    }
   ],
   "source": [
    "train_data1['Name'].head()"
   ]
  },
  {
   "cell_type": "code",
   "execution_count": null,
   "id": "0eed7764",
   "metadata": {
    "papermill": {
     "duration": 0.032264,
     "end_time": "2022-07-18T03:44:21.756477",
     "exception": false,
     "start_time": "2022-07-18T03:44:21.724213",
     "status": "completed"
    },
    "tags": []
   },
   "outputs": [],
   "source": []
  },
  {
   "cell_type": "code",
   "execution_count": null,
   "id": "0a8ae9e8",
   "metadata": {
    "papermill": {
     "duration": 0.031107,
     "end_time": "2022-07-18T03:44:21.819773",
     "exception": false,
     "start_time": "2022-07-18T03:44:21.788666",
     "status": "completed"
    },
    "tags": []
   },
   "outputs": [],
   "source": []
  },
  {
   "cell_type": "markdown",
   "id": "c1f2d884",
   "metadata": {
    "papermill": {
     "duration": 0.031839,
     "end_time": "2022-07-18T03:44:21.882733",
     "exception": false,
     "start_time": "2022-07-18T03:44:21.850894",
     "status": "completed"
    },
    "tags": []
   },
   "source": [
    "Data Visualization"
   ]
  },
  {
   "cell_type": "markdown",
   "id": "b2b5d8a2",
   "metadata": {
    "papermill": {
     "duration": 0.03128,
     "end_time": "2022-07-18T03:44:21.945942",
     "exception": false,
     "start_time": "2022-07-18T03:44:21.914662",
     "status": "completed"
    },
    "tags": []
   },
   "source": [
    "Univariate Analysis:-In this section, we will be generating more insights by visualizing the data and spot the hidden patterns through graphical analysis.\n",
    "\n",
    "Categorical Variables → Bar chart\n",
    "\n",
    "The easiest yet most intuitive way to visualize the property of a categorical variable is to use a bar chart to plot the frequency of each categorical value.\n",
    "\n",
    "Numerical Variables → histogram\n",
    "\n",
    "To graph out the numeric variable distribution, we can use histogram which is very similar to bar chart. It splits continuous numbers into equal size bins and plot the frequency of records falling between the interval."
   ]
  },
  {
   "cell_type": "code",
   "execution_count": 30,
   "id": "9252c026",
   "metadata": {
    "execution": {
     "iopub.execute_input": "2022-07-18T03:44:22.012103Z",
     "iopub.status.busy": "2022-07-18T03:44:22.011355Z",
     "iopub.status.idle": "2022-07-18T03:44:22.018040Z",
     "shell.execute_reply": "2022-07-18T03:44:22.017237Z"
    },
    "papermill": {
     "duration": 0.042199,
     "end_time": "2022-07-18T03:44:22.020166",
     "exception": false,
     "start_time": "2022-07-18T03:44:21.977967",
     "status": "completed"
    },
    "tags": []
   },
   "outputs": [
    {
     "data": {
      "text/plain": [
       "Index(['PassengerId', 'Survived', 'Pclass', 'Name', 'Sex', 'Age', 'SibSp',\n",
       "       'Parch', 'Ticket', 'Fare', 'Cabin', 'Embarked', 'AgeGroup'],\n",
       "      dtype='object')"
      ]
     },
     "execution_count": 30,
     "metadata": {},
     "output_type": "execute_result"
    }
   ],
   "source": [
    "train_data1.columns"
   ]
  },
  {
   "cell_type": "code",
   "execution_count": 31,
   "id": "1cbbb09a",
   "metadata": {
    "execution": {
     "iopub.execute_input": "2022-07-18T03:44:22.084492Z",
     "iopub.status.busy": "2022-07-18T03:44:22.084100Z",
     "iopub.status.idle": "2022-07-18T03:44:22.091077Z",
     "shell.execute_reply": "2022-07-18T03:44:22.089599Z"
    },
    "papermill": {
     "duration": 0.043148,
     "end_time": "2022-07-18T03:44:22.094173",
     "exception": false,
     "start_time": "2022-07-18T03:44:22.051025",
     "status": "completed"
    },
    "tags": []
   },
   "outputs": [
    {
     "data": {
      "text/plain": [
       "(889, 13)"
      ]
     },
     "execution_count": 31,
     "metadata": {},
     "output_type": "execute_result"
    }
   ],
   "source": [
    "train_data1.shape"
   ]
  },
  {
   "cell_type": "markdown",
   "id": "a84ccd23",
   "metadata": {
    "execution": {
     "iopub.execute_input": "2022-07-16T19:48:55.923425Z",
     "iopub.status.busy": "2022-07-16T19:48:55.923038Z",
     "iopub.status.idle": "2022-07-16T19:48:55.930403Z",
     "shell.execute_reply": "2022-07-16T19:48:55.928840Z",
     "shell.execute_reply.started": "2022-07-16T19:48:55.923394Z"
    },
    "papermill": {
     "duration": 0.030933,
     "end_time": "2022-07-18T03:44:22.156739",
     "exception": false,
     "start_time": "2022-07-18T03:44:22.125806",
     "status": "completed"
    },
    "tags": []
   },
   "source": [
    "We will only be working with some of the variables — let’s filter and store their names in two lists called numerical and categorical, then redefine our DataFrame to contain only these variables"
   ]
  },
  {
   "cell_type": "code",
   "execution_count": 32,
   "id": "df24217e",
   "metadata": {
    "execution": {
     "iopub.execute_input": "2022-07-18T03:44:22.221051Z",
     "iopub.status.busy": "2022-07-18T03:44:22.220055Z",
     "iopub.status.idle": "2022-07-18T03:44:22.229723Z",
     "shell.execute_reply": "2022-07-18T03:44:22.228851Z"
    },
    "papermill": {
     "duration": 0.044023,
     "end_time": "2022-07-18T03:44:22.231812",
     "exception": false,
     "start_time": "2022-07-18T03:44:22.187789",
     "status": "completed"
    },
    "tags": []
   },
   "outputs": [
    {
     "data": {
      "text/plain": [
       "(889, 9)"
      ]
     },
     "execution_count": 32,
     "metadata": {},
     "output_type": "execute_result"
    }
   ],
   "source": [
    "numerical = ['PassengerId','Survived','Pclass','SibSp','Parch','Fare']\n",
    "categorical = ['AgeGroup','Sex','Embarked',]\n",
    "train_data1= train_data1[numerical + categorical]\n",
    "train_data1.shape\n",
    "#Cabin:-\"Error\""
   ]
  },
  {
   "cell_type": "code",
   "execution_count": 33,
   "id": "7cab4569",
   "metadata": {
    "execution": {
     "iopub.execute_input": "2022-07-18T03:44:22.296665Z",
     "iopub.status.busy": "2022-07-18T03:44:22.296267Z",
     "iopub.status.idle": "2022-07-18T03:44:22.570827Z",
     "shell.execute_reply": "2022-07-18T03:44:22.569529Z"
    },
    "papermill": {
     "duration": 0.309763,
     "end_time": "2022-07-18T03:44:22.573531",
     "exception": false,
     "start_time": "2022-07-18T03:44:22.263768",
     "status": "completed"
    },
    "tags": []
   },
   "outputs": [
    {
     "name": "stderr",
     "output_type": "stream",
     "text": [
      "/opt/conda/lib/python3.7/site-packages/seaborn/distributions.py:2619: FutureWarning: `distplot` is a deprecated function and will be removed in a future version. Please adapt your code to use either `displot` (a figure-level function with similar flexibility) or `histplot` (an axes-level function for histograms).\n",
      "  warnings.warn(msg, FutureWarning)\n"
     ]
    },
    {
     "data": {
      "image/png": "[encoded data removed]",
      "text/plain": [
       "<Figure size 576x360 with 1 Axes>"
      ]
     },
     "metadata": {},
     "output_type": "display_data"
    }
   ],
   "source": [
    "#Target Variable:-Survived\n",
    "sns.set(style='whitegrid', palette=\"deep\", font_scale=1.1, rc={\"figure.figsize\": [8, 5]})\n",
    "sns.distplot(\n",
    "    train_data1['Survived'], norm_hist=False, kde=True, bins=20, hist_kws={\"alpha\": 1}\n",
    ").set(xlabel='Sale Price', ylabel='Count');"
   ]
  },
  {
   "cell_type": "code",
   "execution_count": 34,
   "id": "13d3a44f",
   "metadata": {
    "execution": {
     "iopub.execute_input": "2022-07-18T03:44:22.642861Z",
     "iopub.status.busy": "2022-07-18T03:44:22.642391Z",
     "iopub.status.idle": "2022-07-18T03:44:23.563539Z",
     "shell.execute_reply": "2022-07-18T03:44:23.562346Z"
    },
    "papermill": {
     "duration": 0.959313,
     "end_time": "2022-07-18T03:44:23.566198",
     "exception": false,
     "start_time": "2022-07-18T03:44:22.606885",
     "status": "completed"
    },
    "tags": []
   },
   "outputs": [
    {
     "data": {
      "image/png": "[encoded data removed]",
      "text/plain": [
       "<Figure size 1080x576 with 6 Axes>"
      ]
     },
     "metadata": {},
     "output_type": "display_data"
    }
   ],
   "source": [
    "train_data1[numerical].hist(bins=10, figsize=(15, 8),layout=(2,3));"
   ]
  },
  {
   "cell_type": "code",
   "execution_count": null,
   "id": "4bc445aa",
   "metadata": {
    "papermill": {
     "duration": 0.032336,
     "end_time": "2022-07-18T03:44:23.631630",
     "exception": false,
     "start_time": "2022-07-18T03:44:23.599294",
     "status": "completed"
    },
    "tags": []
   },
   "outputs": [],
   "source": []
  },
  {
   "cell_type": "code",
   "execution_count": 35,
   "id": "dec0baf3",
   "metadata": {
    "execution": {
     "iopub.execute_input": "2022-07-18T03:44:23.698295Z",
     "iopub.status.busy": "2022-07-18T03:44:23.697169Z",
     "iopub.status.idle": "2022-07-18T03:44:23.867458Z",
     "shell.execute_reply": "2022-07-18T03:44:23.865676Z"
    },
    "papermill": {
     "duration": 0.207145,
     "end_time": "2022-07-18T03:44:23.870808",
     "exception": false,
     "start_time": "2022-07-18T03:44:23.663663",
     "status": "completed"
    },
    "tags": []
   },
   "outputs": [
    {
     "name": "stderr",
     "output_type": "stream",
     "text": [
      "/opt/conda/lib/python3.7/site-packages/seaborn/_decorators.py:43: FutureWarning: Pass the following variable as a keyword arg: x. From version 0.12, the only valid positional argument will be `data`, and passing other arguments without an explicit keyword will result in an error or misinterpretation.\n",
      "  FutureWarning\n"
     ]
    },
    {
     "data": {
      "image/png": "[encoded data removed]",
      "text/plain": [
       "<Figure size 576x360 with 1 Axes>"
      ]
     },
     "metadata": {},
     "output_type": "display_data"
    }
   ],
   "source": [
    "#Target Variable\n",
    "sns.countplot(train_data1['Survived']);"
   ]
  },
  {
   "cell_type": "code",
   "execution_count": null,
   "id": "b6ae3129",
   "metadata": {
    "papermill": {
     "duration": 0.032598,
     "end_time": "2022-07-18T03:44:23.936863",
     "exception": false,
     "start_time": "2022-07-18T03:44:23.904265",
     "status": "completed"
    },
    "tags": []
   },
   "outputs": [],
   "source": []
  },
  {
   "cell_type": "code",
   "execution_count": null,
   "id": "b838f888",
   "metadata": {
    "papermill": {
     "duration": 0.032255,
     "end_time": "2022-07-18T03:44:24.001565",
     "exception": false,
     "start_time": "2022-07-18T03:44:23.969310",
     "status": "completed"
    },
    "tags": []
   },
   "outputs": [],
   "source": []
  },
  {
   "cell_type": "code",
   "execution_count": 36,
   "id": "949ada3b",
   "metadata": {
    "execution": {
     "iopub.execute_input": "2022-07-18T03:44:24.068595Z",
     "iopub.status.busy": "2022-07-18T03:44:24.067423Z",
     "iopub.status.idle": "2022-07-18T03:44:24.476525Z",
     "shell.execute_reply": "2022-07-18T03:44:24.475458Z"
    },
    "papermill": {
     "duration": 0.445178,
     "end_time": "2022-07-18T03:44:24.478874",
     "exception": false,
     "start_time": "2022-07-18T03:44:24.033696",
     "status": "completed"
    },
    "tags": []
   },
   "outputs": [
    {
     "name": "stderr",
     "output_type": "stream",
     "text": [
      "/opt/conda/lib/python3.7/site-packages/seaborn/_decorators.py:43: FutureWarning: Pass the following variable as a keyword arg: x. From version 0.12, the only valid positional argument will be `data`, and passing other arguments without an explicit keyword will result in an error or misinterpretation.\n",
      "  FutureWarning\n",
      "/opt/conda/lib/python3.7/site-packages/seaborn/_decorators.py:43: FutureWarning: Pass the following variable as a keyword arg: x. From version 0.12, the only valid positional argument will be `data`, and passing other arguments without an explicit keyword will result in an error or misinterpretation.\n",
      "  FutureWarning\n"
     ]
    },
    {
     "data": {
      "image/png": "[encoded data removed]",
      "text/plain": [
       "<Figure size 1440x720 with 3 Axes>"
      ]
     },
     "metadata": {},
     "output_type": "display_data"
    }
   ],
   "source": [
    "#Analyzing Categorical Variables\n",
    "fig, ax = plt.subplots(1, 3, figsize=(20, 10))\n",
    "for variable, subplot in zip(categorical, ax.flatten()):\n",
    "    sns.countplot(train_data1[variable], ax=subplot)\n",
    "    for label in subplot.get_xticklabels():\n",
    "        label.set_rotation(90)"
   ]
  },
  {
   "cell_type": "markdown",
   "id": "363dc271",
   "metadata": {
    "papermill": {
     "duration": 0.034183,
     "end_time": "2022-07-18T03:44:24.546126",
     "exception": false,
     "start_time": "2022-07-18T03:44:24.511943",
     "status": "completed"
    },
    "tags": []
   },
   "source": [
    "Multivariate Analysis\n",
    "\n",
    "Multivariate analysis is categorized into these three conditions to address various combinations of numerical variables and categorical variables."
   ]
  },
  {
   "cell_type": "markdown",
   "id": "bd27a76e",
   "metadata": {
    "papermill": {
     "duration": 0.03269,
     "end_time": "2022-07-18T03:44:24.611986",
     "exception": false,
     "start_time": "2022-07-18T03:44:24.579296",
     "status": "completed"
    },
    "tags": []
   },
   "source": [
    "Analyzing Relationships Between Numerical Variables\n",
    "\n",
    "Plotting relationships between variables allows us to easily get a visual understanding of patterns and correlations."
   ]
  },
  {
   "cell_type": "code",
   "execution_count": null,
   "id": "e8d744e8",
   "metadata": {
    "papermill": {
     "duration": 0.033725,
     "end_time": "2022-07-18T03:44:24.679462",
     "exception": false,
     "start_time": "2022-07-18T03:44:24.645737",
     "status": "completed"
    },
    "tags": []
   },
   "outputs": [],
   "source": []
  },
  {
   "cell_type": "code",
   "execution_count": 37,
   "id": "bb969690",
   "metadata": {
    "execution": {
     "iopub.execute_input": "2022-07-18T03:44:24.748827Z",
     "iopub.status.busy": "2022-07-18T03:44:24.748392Z",
     "iopub.status.idle": "2022-07-18T03:44:25.030826Z",
     "shell.execute_reply": "2022-07-18T03:44:25.029911Z"
    },
    "papermill": {
     "duration": 0.319692,
     "end_time": "2022-07-18T03:44:25.033047",
     "exception": false,
     "start_time": "2022-07-18T03:44:24.713355",
     "status": "completed"
    },
    "tags": []
   },
   "outputs": [
    {
     "data": {
      "text/plain": [
       "<AxesSubplot:>"
      ]
     },
     "execution_count": 37,
     "metadata": {},
     "output_type": "execute_result"
    },
    {
     "data": {
      "image/png": "[encoded data removed]",
      "text/plain": [
       "<Figure size 576x360 with 2 Axes>"
      ]
     },
     "metadata": {},
     "output_type": "display_data"
    }
   ],
   "source": [
    "#Building correlation matrix\n",
    "sns.heatmap(train_data1.corr(), cmap= \"GnBu\")"
   ]
  },
  {
   "cell_type": "markdown",
   "id": "1284210c",
   "metadata": {
    "papermill": {
     "duration": 0.036238,
     "end_time": "2022-07-18T03:44:25.103958",
     "exception": false,
     "start_time": "2022-07-18T03:44:25.067720",
     "status": "completed"
    },
    "tags": []
   },
   "source": [
    "Since the correlation matrix only indicates the strength of linear relationship, it is better to plot the numerical variables using seaborn function sns.pairplot()"
   ]
  },
  {
   "cell_type": "code",
   "execution_count": 38,
   "id": "771f53d3",
   "metadata": {
    "execution": {
     "iopub.execute_input": "2022-07-18T03:44:25.173966Z",
     "iopub.status.busy": "2022-07-18T03:44:25.173097Z",
     "iopub.status.idle": "2022-07-18T03:44:31.356582Z",
     "shell.execute_reply": "2022-07-18T03:44:31.355370Z"
    },
    "papermill": {
     "duration": 6.221124,
     "end_time": "2022-07-18T03:44:31.359611",
     "exception": false,
     "start_time": "2022-07-18T03:44:25.138487",
     "status": "completed"
    },
    "tags": []
   },
   "outputs": [
    {
     "data": {
      "text/plain": [
       "<seaborn.axisgrid.PairGrid at 0x7f676ebd8cd0>"
      ]
     },
     "execution_count": 38,
     "metadata": {},
     "output_type": "execute_result"
    },
    {
     "data": {
      "image/png": "[encoded data removed]",
      "text/plain": [
       "<Figure size 1080x1080 with 42 Axes>"
      ]
     },
     "metadata": {},
     "output_type": "display_data"
    }
   ],
   "source": [
    "#pairplot\n",
    "sns.pairplot(train_data1,height=2.5)"
   ]
  },
  {
   "cell_type": "code",
   "execution_count": null,
   "id": "141d7bea",
   "metadata": {
    "papermill": {
     "duration": 0.036674,
     "end_time": "2022-07-18T03:44:31.432992",
     "exception": false,
     "start_time": "2022-07-18T03:44:31.396318",
     "status": "completed"
    },
    "tags": []
   },
   "outputs": [],
   "source": []
  },
  {
   "cell_type": "markdown",
   "id": "f851cdf2",
   "metadata": {
    "papermill": {
     "duration": 0.036808,
     "end_time": "2022-07-18T03:44:31.506873",
     "exception": false,
     "start_time": "2022-07-18T03:44:31.470065",
     "status": "completed"
    },
    "tags": []
   },
   "source": [
    "The scatter plot is often used for visualizing relationships between two numerical variables."
   ]
  },
  {
   "cell_type": "code",
   "execution_count": 39,
   "id": "6e362cdb",
   "metadata": {
    "execution": {
     "iopub.execute_input": "2022-07-18T03:44:31.584006Z",
     "iopub.status.busy": "2022-07-18T03:44:31.583224Z",
     "iopub.status.idle": "2022-07-18T03:44:31.814152Z",
     "shell.execute_reply": "2022-07-18T03:44:31.813378Z"
    },
    "papermill": {
     "duration": 0.271732,
     "end_time": "2022-07-18T03:44:31.816251",
     "exception": false,
     "start_time": "2022-07-18T03:44:31.544519",
     "status": "completed"
    },
    "tags": []
   },
   "outputs": [
    {
     "data": {
      "image/png": "[encoded data removed]",
      "text/plain": [
       "<Figure size 576x360 with 1 Axes>"
      ]
     },
     "metadata": {},
     "output_type": "display_data"
    }
   ],
   "source": [
    "sns.scatterplot(x=train_data1['Fare'], y=train_data1['Survived']);"
   ]
  },
  {
   "cell_type": "code",
   "execution_count": null,
   "id": "fd1abd9e",
   "metadata": {
    "papermill": {
     "duration": 0.03683,
     "end_time": "2022-07-18T03:44:31.890353",
     "exception": false,
     "start_time": "2022-07-18T03:44:31.853523",
     "status": "completed"
    },
    "tags": []
   },
   "outputs": [],
   "source": []
  },
  {
   "cell_type": "code",
   "execution_count": 40,
   "id": "6c769cde",
   "metadata": {
    "execution": {
     "iopub.execute_input": "2022-07-18T03:44:31.968516Z",
     "iopub.status.busy": "2022-07-18T03:44:31.967836Z",
     "iopub.status.idle": "2022-07-18T03:44:32.637779Z",
     "shell.execute_reply": "2022-07-18T03:44:32.636646Z"
    },
    "papermill": {
     "duration": 0.711562,
     "end_time": "2022-07-18T03:44:32.640026",
     "exception": false,
     "start_time": "2022-07-18T03:44:31.928464",
     "status": "completed"
    },
    "tags": []
   },
   "outputs": [
    {
     "data": {
      "image/png": "[encoded data removed]",
      "text/plain": [
       "<Figure size 432x432 with 3 Axes>"
      ]
     },
     "metadata": {},
     "output_type": "display_data"
    }
   ],
   "source": [
    "sns.jointplot(x=train_data1['PassengerId'], y=train_data1['Fare']);\n",
    "#showing the relationship between two variables along with histograms of each variable in the margins"
   ]
  },
  {
   "cell_type": "markdown",
   "id": "9f9f438f",
   "metadata": {
    "papermill": {
     "duration": 0.039743,
     "end_time": "2022-07-18T03:44:32.719007",
     "exception": false,
     "start_time": "2022-07-18T03:44:32.679264",
     "status": "completed"
    },
    "tags": []
   },
   "source": [
    "1. Categorical vs. Categorical "
   ]
  },
  {
   "cell_type": "code",
   "execution_count": 41,
   "id": "191b465e",
   "metadata": {
    "execution": {
     "iopub.execute_input": "2022-07-18T03:44:32.797824Z",
     "iopub.status.busy": "2022-07-18T03:44:32.797188Z",
     "iopub.status.idle": "2022-07-18T03:44:32.812158Z",
     "shell.execute_reply": "2022-07-18T03:44:32.811016Z"
    },
    "papermill": {
     "duration": 0.057792,
     "end_time": "2022-07-18T03:44:32.814720",
     "exception": false,
     "start_time": "2022-07-18T03:44:32.756928",
     "status": "completed"
    },
    "tags": []
   },
   "outputs": [
    {
     "data": {
      "text/html": [
       "<div>\n",
       "<style scoped>\n",
       "    .dataframe tbody tr th:only-of-type {\n",
       "        vertical-align: middle;\n",
       "    }\n",
       "\n",
       "    .dataframe tbody tr th {\n",
       "        vertical-align: top;\n",
       "    }\n",
       "\n",
       "    .dataframe thead th {\n",
       "        text-align: right;\n",
       "    }\n",
       "</style>\n",
       "<table border=\"1\" class=\"dataframe\">\n",
       "  <thead>\n",
       "    <tr style=\"text-align: right;\">\n",
       "      <th></th>\n",
       "      <th>AgeGroup</th>\n",
       "      <th>Sex</th>\n",
       "      <th>Embarked</th>\n",
       "    </tr>\n",
       "  </thead>\n",
       "  <tbody>\n",
       "    <tr>\n",
       "      <th>0</th>\n",
       "      <td>Adult</td>\n",
       "      <td>male</td>\n",
       "      <td>S</td>\n",
       "    </tr>\n",
       "    <tr>\n",
       "      <th>1</th>\n",
       "      <td>Adult</td>\n",
       "      <td>female</td>\n",
       "      <td>C</td>\n",
       "    </tr>\n",
       "    <tr>\n",
       "      <th>2</th>\n",
       "      <td>Adult</td>\n",
       "      <td>female</td>\n",
       "      <td>S</td>\n",
       "    </tr>\n",
       "    <tr>\n",
       "      <th>3</th>\n",
       "      <td>Adult</td>\n",
       "      <td>female</td>\n",
       "      <td>S</td>\n",
       "    </tr>\n",
       "    <tr>\n",
       "      <th>4</th>\n",
       "      <td>Adult</td>\n",
       "      <td>male</td>\n",
       "      <td>S</td>\n",
       "    </tr>\n",
       "    <tr>\n",
       "      <th>...</th>\n",
       "      <td>...</td>\n",
       "      <td>...</td>\n",
       "      <td>...</td>\n",
       "    </tr>\n",
       "    <tr>\n",
       "      <th>886</th>\n",
       "      <td>Adult</td>\n",
       "      <td>male</td>\n",
       "      <td>S</td>\n",
       "    </tr>\n",
       "    <tr>\n",
       "      <th>887</th>\n",
       "      <td>Teen</td>\n",
       "      <td>female</td>\n",
       "      <td>S</td>\n",
       "    </tr>\n",
       "    <tr>\n",
       "      <th>888</th>\n",
       "      <td>Unkwown</td>\n",
       "      <td>female</td>\n",
       "      <td>S</td>\n",
       "    </tr>\n",
       "    <tr>\n",
       "      <th>889</th>\n",
       "      <td>Adult</td>\n",
       "      <td>male</td>\n",
       "      <td>C</td>\n",
       "    </tr>\n",
       "    <tr>\n",
       "      <th>890</th>\n",
       "      <td>Adult</td>\n",
       "      <td>male</td>\n",
       "      <td>Q</td>\n",
       "    </tr>\n",
       "  </tbody>\n",
       "</table>\n",
       "<p>889 rows × 3 columns</p>\n",
       "</div>"
      ],
      "text/plain": [
       "    AgeGroup     Sex Embarked\n",
       "0      Adult    male        S\n",
       "1      Adult  female        C\n",
       "2      Adult  female        S\n",
       "3      Adult  female        S\n",
       "4      Adult    male        S\n",
       "..       ...     ...      ...\n",
       "886    Adult    male        S\n",
       "887     Teen  female        S\n",
       "888  Unkwown  female        S\n",
       "889    Adult    male        C\n",
       "890    Adult    male        Q\n",
       "\n",
       "[889 rows x 3 columns]"
      ]
     },
     "execution_count": 41,
     "metadata": {},
     "output_type": "execute_result"
    }
   ],
   "source": [
    "train_data1[categorical]"
   ]
  },
  {
   "cell_type": "code",
   "execution_count": 42,
   "id": "40b8172d",
   "metadata": {
    "execution": {
     "iopub.execute_input": "2022-07-18T03:44:32.894535Z",
     "iopub.status.busy": "2022-07-18T03:44:32.894053Z",
     "iopub.status.idle": "2022-07-18T03:44:32.921795Z",
     "shell.execute_reply": "2022-07-18T03:44:32.920247Z"
    },
    "papermill": {
     "duration": 0.07062,
     "end_time": "2022-07-18T03:44:32.924469",
     "exception": false,
     "start_time": "2022-07-18T03:44:32.853849",
     "status": "completed"
    },
    "tags": []
   },
   "outputs": [
    {
     "name": "stdout",
     "output_type": "stream",
     "text": [
      "Embarked   C   Q    S\n",
      "Sex                  \n",
      "female    73  36  203\n",
      "male      95  41  441\n"
     ]
    }
   ],
   "source": [
    "CrosstabResult=pd.crosstab(index=train_data1['Sex'],columns=train_data['Embarked'])\n",
    "print(CrosstabResult)"
   ]
  },
  {
   "cell_type": "code",
   "execution_count": 43,
   "id": "19427860",
   "metadata": {
    "execution": {
     "iopub.execute_input": "2022-07-18T03:44:33.006194Z",
     "iopub.status.busy": "2022-07-18T03:44:33.005798Z",
     "iopub.status.idle": "2022-07-18T03:44:33.213782Z",
     "shell.execute_reply": "2022-07-18T03:44:33.212651Z"
    },
    "papermill": {
     "duration": 0.252596,
     "end_time": "2022-07-18T03:44:33.216027",
     "exception": false,
     "start_time": "2022-07-18T03:44:32.963431",
     "status": "completed"
    },
    "tags": []
   },
   "outputs": [
    {
     "data": {
      "text/plain": [
       "<AxesSubplot:xlabel='Sex'>"
      ]
     },
     "execution_count": 43,
     "metadata": {},
     "output_type": "execute_result"
    },
    {
     "data": {
      "image/png": "[encoded data removed]",
      "text/plain": [
       "<Figure size 576x360 with 1 Axes>"
      ]
     },
     "metadata": {},
     "output_type": "display_data"
    }
   ],
   "source": [
    "CrosstabResult.plot.bar()"
   ]
  },
  {
   "cell_type": "code",
   "execution_count": 44,
   "id": "376bee78",
   "metadata": {
    "execution": {
     "iopub.execute_input": "2022-07-18T03:44:33.296051Z",
     "iopub.status.busy": "2022-07-18T03:44:33.295310Z",
     "iopub.status.idle": "2022-07-18T03:44:33.313821Z",
     "shell.execute_reply": "2022-07-18T03:44:33.312999Z"
    },
    "papermill": {
     "duration": 0.061393,
     "end_time": "2022-07-18T03:44:33.316076",
     "exception": false,
     "start_time": "2022-07-18T03:44:33.254683",
     "status": "completed"
    },
    "tags": []
   },
   "outputs": [
    {
     "name": "stdout",
     "output_type": "stream",
     "text": [
      "AgeGroup  Unkwown  Infant  Toddler  Kid  Teen  Adult\n",
      "Sex                                                 \n",
      "female         53       4        8   20    43    184\n",
      "male          124      10        8   19    52    364\n"
     ]
    }
   ],
   "source": [
    "CrosstabResult=pd.crosstab(index=train_data1['Sex'],columns=train_data1['AgeGroup'])\n",
    "print(CrosstabResult)"
   ]
  },
  {
   "cell_type": "code",
   "execution_count": 45,
   "id": "d7b8cf4e",
   "metadata": {
    "execution": {
     "iopub.execute_input": "2022-07-18T03:44:33.396116Z",
     "iopub.status.busy": "2022-07-18T03:44:33.395422Z",
     "iopub.status.idle": "2022-07-18T03:44:33.634961Z",
     "shell.execute_reply": "2022-07-18T03:44:33.633764Z"
    },
    "papermill": {
     "duration": 0.282343,
     "end_time": "2022-07-18T03:44:33.637377",
     "exception": false,
     "start_time": "2022-07-18T03:44:33.355034",
     "status": "completed"
    },
    "tags": []
   },
   "outputs": [
    {
     "data": {
      "text/plain": [
       "<AxesSubplot:xlabel='Sex'>"
      ]
     },
     "execution_count": 45,
     "metadata": {},
     "output_type": "execute_result"
    },
    {
     "data": {
      "image/png": "[encoded data removed]",
      "text/plain": [
       "<Figure size 576x360 with 1 Axes>"
      ]
     },
     "metadata": {},
     "output_type": "display_data"
    }
   ],
   "source": [
    "CrosstabResult.plot.bar()"
   ]
  },
  {
   "cell_type": "code",
   "execution_count": 46,
   "id": "cbf3f3be",
   "metadata": {
    "execution": {
     "iopub.execute_input": "2022-07-18T03:44:33.718354Z",
     "iopub.status.busy": "2022-07-18T03:44:33.717975Z",
     "iopub.status.idle": "2022-07-18T03:44:33.746257Z",
     "shell.execute_reply": "2022-07-18T03:44:33.744182Z"
    },
    "papermill": {
     "duration": 0.071872,
     "end_time": "2022-07-18T03:44:33.749632",
     "exception": false,
     "start_time": "2022-07-18T03:44:33.677760",
     "status": "completed"
    },
    "tags": []
   },
   "outputs": [
    {
     "name": "stdout",
     "output_type": "stream",
     "text": [
      "Embarked    C   Q    S\n",
      "AgeGroup              \n",
      "Unkwown    38  49   90\n",
      "Infant      5   0    9\n",
      "Toddler     1   1   14\n",
      "Kid         5   3   31\n",
      "Teen       18   6   71\n",
      "Adult     101  18  429\n"
     ]
    }
   ],
   "source": [
    "CrosstabResult=pd.crosstab(index=train_data1['AgeGroup'],columns=train_data1['Embarked'])\n",
    "print(CrosstabResult)"
   ]
  },
  {
   "cell_type": "code",
   "execution_count": 47,
   "id": "a381ccfc",
   "metadata": {
    "execution": {
     "iopub.execute_input": "2022-07-18T03:44:33.848063Z",
     "iopub.status.busy": "2022-07-18T03:44:33.841638Z",
     "iopub.status.idle": "2022-07-18T03:44:34.130571Z",
     "shell.execute_reply": "2022-07-18T03:44:34.129100Z"
    },
    "papermill": {
     "duration": 0.337166,
     "end_time": "2022-07-18T03:44:34.134113",
     "exception": false,
     "start_time": "2022-07-18T03:44:33.796947",
     "status": "completed"
    },
    "tags": []
   },
   "outputs": [
    {
     "data": {
      "text/plain": [
       "<AxesSubplot:xlabel='AgeGroup'>"
      ]
     },
     "execution_count": 47,
     "metadata": {},
     "output_type": "execute_result"
    },
    {
     "data": {
      "image/png": "[encoded data removed]",
      "text/plain": [
       "<Figure size 576x360 with 1 Axes>"
      ]
     },
     "metadata": {},
     "output_type": "display_data"
    }
   ],
   "source": [
    "CrosstabResult.plot.bar()"
   ]
  },
  {
   "cell_type": "code",
   "execution_count": 48,
   "id": "a5b7922b",
   "metadata": {
    "execution": {
     "iopub.execute_input": "2022-07-18T03:44:34.226992Z",
     "iopub.status.busy": "2022-07-18T03:44:34.226647Z",
     "iopub.status.idle": "2022-07-18T03:44:34.251836Z",
     "shell.execute_reply": "2022-07-18T03:44:34.250152Z"
    },
    "papermill": {
     "duration": 0.069429,
     "end_time": "2022-07-18T03:44:34.254991",
     "exception": false,
     "start_time": "2022-07-18T03:44:34.185562",
     "status": "completed"
    },
    "tags": []
   },
   "outputs": [
    {
     "name": "stdout",
     "output_type": "stream",
     "text": [
      "Embarked      C           Q           S     \n",
      "Sex      female male female male female male\n",
      "AgeGroup                                    \n",
      "Unkwown      12   26     24   25     17   73\n",
      "Infant        3    2      0    0      1    8\n",
      "Toddler       1    0      0    1      7    7\n",
      "Kid           3    2      0    3     17   14\n",
      "Teen         14    4      5    1     24   47\n",
      "Adult        40   61      7   11    137  292\n"
     ]
    }
   ],
   "source": [
    "CrosstabResult=pd.crosstab(train_data1['AgeGroup'],[train_data1['Embarked'],train_data1['Sex']])\n",
    "print(CrosstabResult)"
   ]
  },
  {
   "cell_type": "code",
   "execution_count": 49,
   "id": "19086fb3",
   "metadata": {
    "execution": {
     "iopub.execute_input": "2022-07-18T03:44:34.339958Z",
     "iopub.status.busy": "2022-07-18T03:44:34.339200Z",
     "iopub.status.idle": "2022-07-18T03:44:34.651598Z",
     "shell.execute_reply": "2022-07-18T03:44:34.650299Z"
    },
    "papermill": {
     "duration": 0.356144,
     "end_time": "2022-07-18T03:44:34.654048",
     "exception": false,
     "start_time": "2022-07-18T03:44:34.297904",
     "status": "completed"
    },
    "tags": []
   },
   "outputs": [
    {
     "data": {
      "text/plain": [
       "<AxesSubplot:xlabel='AgeGroup'>"
      ]
     },
     "execution_count": 49,
     "metadata": {},
     "output_type": "execute_result"
    },
    {
     "data": {
      "image/png": "[encoded data removed]",
      "text/plain": [
       "<Figure size 576x360 with 1 Axes>"
      ]
     },
     "metadata": {},
     "output_type": "display_data"
    }
   ],
   "source": [
    "CrosstabResult.plot.bar()"
   ]
  },
  {
   "cell_type": "code",
   "execution_count": null,
   "id": "a8f4607b",
   "metadata": {
    "papermill": {
     "duration": 0.110367,
     "end_time": "2022-07-18T03:44:34.805157",
     "exception": false,
     "start_time": "2022-07-18T03:44:34.694790",
     "status": "completed"
    },
    "tags": []
   },
   "outputs": [],
   "source": []
  },
  {
   "cell_type": "markdown",
   "id": "32fe30a3",
   "metadata": {
    "papermill": {
     "duration": 0.040846,
     "end_time": "2022-07-18T03:44:34.886276",
     "exception": false,
     "start_time": "2022-07-18T03:44:34.845430",
     "status": "completed"
    },
    "tags": []
   },
   "source": [
    "Analyzing Relationships Between Numerical and Categorical Variables"
   ]
  },
  {
   "cell_type": "markdown",
   "id": "d8e44d8e",
   "metadata": {
    "papermill": {
     "duration": 0.039814,
     "end_time": "2022-07-18T03:44:34.966770",
     "exception": false,
     "start_time": "2022-07-18T03:44:34.926956",
     "status": "completed"
    },
    "tags": []
   },
   "source": [
    "The box-and-whisker plot is commonly used for visualizing relationships between numerical variables and categorical variables, and complex conditional plots are used to visualize conditional relationships."
   ]
  },
  {
   "cell_type": "code",
   "execution_count": 50,
   "id": "549bdb07",
   "metadata": {
    "execution": {
     "iopub.execute_input": "2022-07-18T03:44:35.049225Z",
     "iopub.status.busy": "2022-07-18T03:44:35.048870Z",
     "iopub.status.idle": "2022-07-18T03:44:35.547986Z",
     "shell.execute_reply": "2022-07-18T03:44:35.546862Z"
    },
    "papermill": {
     "duration": 0.543166,
     "end_time": "2022-07-18T03:44:35.550551",
     "exception": false,
     "start_time": "2022-07-18T03:44:35.007385",
     "status": "completed"
    },
    "tags": []
   },
   "outputs": [
    {
     "data": {
      "image/png": "[encoded data removed]",
      "text/plain": [
       "<Figure size 1440x720 with 3 Axes>"
      ]
     },
     "metadata": {},
     "output_type": "display_data"
    }
   ],
   "source": [
    "fig, ax = plt.subplots(1, 3, figsize=(20, 10))\n",
    "for var, subplot in zip(categorical, ax.flatten()):\n",
    "    sns.boxplot(x=var, y='Survived', data=train_data1, ax=subplot)"
   ]
  },
  {
   "cell_type": "code",
   "execution_count": null,
   "id": "9ea56e18",
   "metadata": {
    "papermill": {
     "duration": 0.040513,
     "end_time": "2022-07-18T03:44:35.632144",
     "exception": false,
     "start_time": "2022-07-18T03:44:35.591631",
     "status": "completed"
    },
    "tags": []
   },
   "outputs": [],
   "source": []
  },
  {
   "cell_type": "code",
   "execution_count": null,
   "id": "cfd4e8b9",
   "metadata": {
    "papermill": {
     "duration": 0.040553,
     "end_time": "2022-07-18T03:44:35.718161",
     "exception": false,
     "start_time": "2022-07-18T03:44:35.677608",
     "status": "completed"
    },
    "tags": []
   },
   "outputs": [],
   "source": []
  },
  {
   "cell_type": "code",
   "execution_count": 51,
   "id": "f0f74e70",
   "metadata": {
    "execution": {
     "iopub.execute_input": "2022-07-18T03:44:35.802078Z",
     "iopub.status.busy": "2022-07-18T03:44:35.801500Z",
     "iopub.status.idle": "2022-07-18T03:44:36.873589Z",
     "shell.execute_reply": "2022-07-18T03:44:36.872492Z"
    },
    "papermill": {
     "duration": 1.11661,
     "end_time": "2022-07-18T03:44:36.876005",
     "exception": false,
     "start_time": "2022-07-18T03:44:35.759395",
     "status": "completed"
    },
    "tags": []
   },
   "outputs": [
    {
     "data": {
      "image/png": "[encoded data removed]",
      "text/plain": [
       "<Figure size 1440x720 with 3 Axes>"
      ]
     },
     "metadata": {},
     "output_type": "display_data"
    }
   ],
   "source": [
    "fig, ax = plt.subplots(1, 3, figsize=(20, 10))\n",
    "for var, subplot in zip(categorical, ax.flatten()):\n",
    "    sns.boxplot(x=var, y='Fare', data=train_data1, ax=subplot, hue='Pclass')\n",
    "    "
   ]
  },
  {
   "cell_type": "code",
   "execution_count": null,
   "id": "2aa7dbf9",
   "metadata": {
    "papermill": {
     "duration": 0.050655,
     "end_time": "2022-07-18T03:44:36.970300",
     "exception": false,
     "start_time": "2022-07-18T03:44:36.919645",
     "status": "completed"
    },
    "tags": []
   },
   "outputs": [],
   "source": []
  },
  {
   "cell_type": "code",
   "execution_count": 52,
   "id": "09f485e0",
   "metadata": {
    "execution": {
     "iopub.execute_input": "2022-07-18T03:44:37.057230Z",
     "iopub.status.busy": "2022-07-18T03:44:37.056535Z",
     "iopub.status.idle": "2022-07-18T03:44:38.326371Z",
     "shell.execute_reply": "2022-07-18T03:44:38.325272Z"
    },
    "papermill": {
     "duration": 1.315819,
     "end_time": "2022-07-18T03:44:38.329321",
     "exception": false,
     "start_time": "2022-07-18T03:44:37.013502",
     "status": "completed"
    },
    "tags": []
   },
   "outputs": [
    {
     "data": {
      "image/png": "[encoded data removed]",
      "text/plain": [
       "<Figure size 1160.46x504 with 3 Axes>"
      ]
     },
     "metadata": {},
     "output_type": "display_data"
    }
   ],
   "source": [
    "g = sns.catplot(x=var, y=\"Fare\",\n",
    "                hue=\"AgeGroup\", col=\"Pclass\",\n",
    "                data=train_data1, kind=\"box\",\n",
    "                height=7, aspect=.7);"
   ]
  },
  {
   "cell_type": "code",
   "execution_count": null,
   "id": "4fdaa465",
   "metadata": {
    "papermill": {
     "duration": 0.04149,
     "end_time": "2022-07-18T03:44:38.413243",
     "exception": false,
     "start_time": "2022-07-18T03:44:38.371753",
     "status": "completed"
    },
    "tags": []
   },
   "outputs": [],
   "source": []
  },
  {
   "cell_type": "code",
   "execution_count": 53,
   "id": "52d76bce",
   "metadata": {
    "execution": {
     "iopub.execute_input": "2022-07-18T03:44:38.500245Z",
     "iopub.status.busy": "2022-07-18T03:44:38.499885Z",
     "iopub.status.idle": "2022-07-18T03:44:38.705681Z",
     "shell.execute_reply": "2022-07-18T03:44:38.704836Z"
    },
    "papermill": {
     "duration": 0.252482,
     "end_time": "2022-07-18T03:44:38.708090",
     "exception": false,
     "start_time": "2022-07-18T03:44:38.455608",
     "status": "completed"
    },
    "tags": []
   },
   "outputs": [
    {
     "data": {
      "text/plain": [
       "<AxesSubplot:xlabel='Pclass', ylabel='Fare'>"
      ]
     },
     "execution_count": 53,
     "metadata": {},
     "output_type": "execute_result"
    },
    {
     "data": {
      "image/png": "[encoded data removed]",
      "text/plain": [
       "<Figure size 576x360 with 1 Axes>"
      ]
     },
     "metadata": {},
     "output_type": "display_data"
    }
   ],
   "source": [
    "sorted_nb = train_data1.groupby(['Pclass'])['Fare'].median().sort_values()\n",
    "sns.boxplot(x=train_data1['Pclass'], y=train_data1['Fare'], order=list(sorted_nb.index))"
   ]
  },
  {
   "cell_type": "code",
   "execution_count": null,
   "id": "a2689d00",
   "metadata": {
    "papermill": {
     "duration": 0.043737,
     "end_time": "2022-07-18T03:44:38.797036",
     "exception": false,
     "start_time": "2022-07-18T03:44:38.753299",
     "status": "completed"
    },
    "tags": []
   },
   "outputs": [],
   "source": []
  },
  {
   "cell_type": "markdown",
   "id": "dcfd8167",
   "metadata": {
    "execution": {
     "iopub.execute_input": "2022-07-16T22:16:28.335471Z",
     "iopub.status.busy": "2022-07-16T22:16:28.335040Z",
     "iopub.status.idle": "2022-07-16T22:16:28.341717Z",
     "shell.execute_reply": "2022-07-16T22:16:28.340673Z",
     "shell.execute_reply.started": "2022-07-16T22:16:28.335429Z"
    },
    "papermill": {
     "duration": 0.042821,
     "end_time": "2022-07-18T03:44:38.882936",
     "exception": false,
     "start_time": "2022-07-18T03:44:38.840115",
     "status": "completed"
    },
    "tags": []
   },
   "source": [
    "Categorical Feature Encoding\n",
    "\n",
    "Logistic regression only accepts numeric values as the input, therefore, it is necessary to encode the categorical data into numbers. The most common techniques are one-hot encoding and label encoding"
   ]
  },
  {
   "cell_type": "code",
   "execution_count": 54,
   "id": "e462f55f",
   "metadata": {
    "execution": {
     "iopub.execute_input": "2022-07-18T03:44:38.975920Z",
     "iopub.status.busy": "2022-07-18T03:44:38.974952Z",
     "iopub.status.idle": "2022-07-18T03:44:38.989864Z",
     "shell.execute_reply": "2022-07-18T03:44:38.988694Z"
    },
    "papermill": {
     "duration": 0.065611,
     "end_time": "2022-07-18T03:44:38.992079",
     "exception": false,
     "start_time": "2022-07-18T03:44:38.926468",
     "status": "completed"
    },
    "tags": []
   },
   "outputs": [
    {
     "data": {
      "text/html": [
       "<div>\n",
       "<style scoped>\n",
       "    .dataframe tbody tr th:only-of-type {\n",
       "        vertical-align: middle;\n",
       "    }\n",
       "\n",
       "    .dataframe tbody tr th {\n",
       "        vertical-align: top;\n",
       "    }\n",
       "\n",
       "    .dataframe thead th {\n",
       "        text-align: right;\n",
       "    }\n",
       "</style>\n",
       "<table border=\"1\" class=\"dataframe\">\n",
       "  <thead>\n",
       "    <tr style=\"text-align: right;\">\n",
       "      <th></th>\n",
       "      <th>AgeGroup</th>\n",
       "      <th>Sex</th>\n",
       "      <th>Embarked</th>\n",
       "    </tr>\n",
       "  </thead>\n",
       "  <tbody>\n",
       "    <tr>\n",
       "      <th>0</th>\n",
       "      <td>Adult</td>\n",
       "      <td>male</td>\n",
       "      <td>S</td>\n",
       "    </tr>\n",
       "    <tr>\n",
       "      <th>1</th>\n",
       "      <td>Adult</td>\n",
       "      <td>female</td>\n",
       "      <td>C</td>\n",
       "    </tr>\n",
       "    <tr>\n",
       "      <th>2</th>\n",
       "      <td>Adult</td>\n",
       "      <td>female</td>\n",
       "      <td>S</td>\n",
       "    </tr>\n",
       "    <tr>\n",
       "      <th>3</th>\n",
       "      <td>Adult</td>\n",
       "      <td>female</td>\n",
       "      <td>S</td>\n",
       "    </tr>\n",
       "    <tr>\n",
       "      <th>4</th>\n",
       "      <td>Adult</td>\n",
       "      <td>male</td>\n",
       "      <td>S</td>\n",
       "    </tr>\n",
       "    <tr>\n",
       "      <th>...</th>\n",
       "      <td>...</td>\n",
       "      <td>...</td>\n",
       "      <td>...</td>\n",
       "    </tr>\n",
       "    <tr>\n",
       "      <th>886</th>\n",
       "      <td>Adult</td>\n",
       "      <td>male</td>\n",
       "      <td>S</td>\n",
       "    </tr>\n",
       "    <tr>\n",
       "      <th>887</th>\n",
       "      <td>Teen</td>\n",
       "      <td>female</td>\n",
       "      <td>S</td>\n",
       "    </tr>\n",
       "    <tr>\n",
       "      <th>888</th>\n",
       "      <td>Unkwown</td>\n",
       "      <td>female</td>\n",
       "      <td>S</td>\n",
       "    </tr>\n",
       "    <tr>\n",
       "      <th>889</th>\n",
       "      <td>Adult</td>\n",
       "      <td>male</td>\n",
       "      <td>C</td>\n",
       "    </tr>\n",
       "    <tr>\n",
       "      <th>890</th>\n",
       "      <td>Adult</td>\n",
       "      <td>male</td>\n",
       "      <td>Q</td>\n",
       "    </tr>\n",
       "  </tbody>\n",
       "</table>\n",
       "<p>889 rows × 3 columns</p>\n",
       "</div>"
      ],
      "text/plain": [
       "    AgeGroup     Sex Embarked\n",
       "0      Adult    male        S\n",
       "1      Adult  female        C\n",
       "2      Adult  female        S\n",
       "3      Adult  female        S\n",
       "4      Adult    male        S\n",
       "..       ...     ...      ...\n",
       "886    Adult    male        S\n",
       "887     Teen  female        S\n",
       "888  Unkwown  female        S\n",
       "889    Adult    male        C\n",
       "890    Adult    male        Q\n",
       "\n",
       "[889 rows x 3 columns]"
      ]
     },
     "execution_count": 54,
     "metadata": {},
     "output_type": "execute_result"
    }
   ],
   "source": [
    "train_data1[categorical]"
   ]
  },
  {
   "cell_type": "code",
   "execution_count": 55,
   "id": "fee95312",
   "metadata": {
    "execution": {
     "iopub.execute_input": "2022-07-18T03:44:39.082576Z",
     "iopub.status.busy": "2022-07-18T03:44:39.081957Z",
     "iopub.status.idle": "2022-07-18T03:44:39.095595Z",
     "shell.execute_reply": "2022-07-18T03:44:39.094398Z"
    },
    "papermill": {
     "duration": 0.060079,
     "end_time": "2022-07-18T03:44:39.097842",
     "exception": false,
     "start_time": "2022-07-18T03:44:39.037763",
     "status": "completed"
    },
    "tags": []
   },
   "outputs": [
    {
     "data": {
      "text/html": [
       "<div>\n",
       "<style scoped>\n",
       "    .dataframe tbody tr th:only-of-type {\n",
       "        vertical-align: middle;\n",
       "    }\n",
       "\n",
       "    .dataframe tbody tr th {\n",
       "        vertical-align: top;\n",
       "    }\n",
       "\n",
       "    .dataframe thead th {\n",
       "        text-align: right;\n",
       "    }\n",
       "</style>\n",
       "<table border=\"1\" class=\"dataframe\">\n",
       "  <thead>\n",
       "    <tr style=\"text-align: right;\">\n",
       "      <th></th>\n",
       "      <th>PassengerId</th>\n",
       "      <th>Survived</th>\n",
       "      <th>Pclass</th>\n",
       "      <th>SibSp</th>\n",
       "      <th>Parch</th>\n",
       "      <th>Fare</th>\n",
       "      <th>AgeGroup</th>\n",
       "      <th>Sex</th>\n",
       "      <th>Embarked</th>\n",
       "    </tr>\n",
       "  </thead>\n",
       "  <tbody>\n",
       "    <tr>\n",
       "      <th>886</th>\n",
       "      <td>887</td>\n",
       "      <td>0</td>\n",
       "      <td>2</td>\n",
       "      <td>0</td>\n",
       "      <td>0</td>\n",
       "      <td>13.00</td>\n",
       "      <td>Adult</td>\n",
       "      <td>male</td>\n",
       "      <td>S</td>\n",
       "    </tr>\n",
       "    <tr>\n",
       "      <th>887</th>\n",
       "      <td>888</td>\n",
       "      <td>1</td>\n",
       "      <td>1</td>\n",
       "      <td>0</td>\n",
       "      <td>0</td>\n",
       "      <td>30.00</td>\n",
       "      <td>Teen</td>\n",
       "      <td>female</td>\n",
       "      <td>S</td>\n",
       "    </tr>\n",
       "    <tr>\n",
       "      <th>888</th>\n",
       "      <td>889</td>\n",
       "      <td>0</td>\n",
       "      <td>3</td>\n",
       "      <td>1</td>\n",
       "      <td>2</td>\n",
       "      <td>23.45</td>\n",
       "      <td>Unkwown</td>\n",
       "      <td>female</td>\n",
       "      <td>S</td>\n",
       "    </tr>\n",
       "    <tr>\n",
       "      <th>889</th>\n",
       "      <td>890</td>\n",
       "      <td>1</td>\n",
       "      <td>1</td>\n",
       "      <td>0</td>\n",
       "      <td>0</td>\n",
       "      <td>30.00</td>\n",
       "      <td>Adult</td>\n",
       "      <td>male</td>\n",
       "      <td>C</td>\n",
       "    </tr>\n",
       "    <tr>\n",
       "      <th>890</th>\n",
       "      <td>891</td>\n",
       "      <td>0</td>\n",
       "      <td>3</td>\n",
       "      <td>0</td>\n",
       "      <td>0</td>\n",
       "      <td>7.75</td>\n",
       "      <td>Adult</td>\n",
       "      <td>male</td>\n",
       "      <td>Q</td>\n",
       "    </tr>\n",
       "  </tbody>\n",
       "</table>\n",
       "</div>"
      ],
      "text/plain": [
       "     PassengerId  Survived  Pclass  SibSp  Parch   Fare AgeGroup     Sex  \\\n",
       "886          887         0       2      0      0  13.00    Adult    male   \n",
       "887          888         1       1      0      0  30.00     Teen  female   \n",
       "888          889         0       3      1      2  23.45  Unkwown  female   \n",
       "889          890         1       1      0      0  30.00    Adult    male   \n",
       "890          891         0       3      0      0   7.75    Adult    male   \n",
       "\n",
       "    Embarked  \n",
       "886        S  \n",
       "887        S  \n",
       "888        S  \n",
       "889        C  \n",
       "890        Q  "
      ]
     },
     "execution_count": 55,
     "metadata": {},
     "output_type": "execute_result"
    }
   ],
   "source": [
    "train_data1.tail()\n"
   ]
  },
  {
   "cell_type": "code",
   "execution_count": 56,
   "id": "e0c40617",
   "metadata": {
    "execution": {
     "iopub.execute_input": "2022-07-18T03:44:39.187283Z",
     "iopub.status.busy": "2022-07-18T03:44:39.186240Z",
     "iopub.status.idle": "2022-07-18T03:44:39.193370Z",
     "shell.execute_reply": "2022-07-18T03:44:39.192252Z"
    },
    "papermill": {
     "duration": 0.054721,
     "end_time": "2022-07-18T03:44:39.195728",
     "exception": false,
     "start_time": "2022-07-18T03:44:39.141007",
     "status": "completed"
    },
    "tags": []
   },
   "outputs": [
    {
     "data": {
      "text/plain": [
       "(889, 9)"
      ]
     },
     "execution_count": 56,
     "metadata": {},
     "output_type": "execute_result"
    }
   ],
   "source": [
    "train_data1.shape"
   ]
  },
  {
   "cell_type": "code",
   "execution_count": 57,
   "id": "6a93a172",
   "metadata": {
    "execution": {
     "iopub.execute_input": "2022-07-18T03:44:39.284122Z",
     "iopub.status.busy": "2022-07-18T03:44:39.283748Z",
     "iopub.status.idle": "2022-07-18T03:44:39.291008Z",
     "shell.execute_reply": "2022-07-18T03:44:39.289825Z"
    },
    "papermill": {
     "duration": 0.053823,
     "end_time": "2022-07-18T03:44:39.293130",
     "exception": false,
     "start_time": "2022-07-18T03:44:39.239307",
     "status": "completed"
    },
    "tags": []
   },
   "outputs": [
    {
     "data": {
      "text/plain": [
       "889"
      ]
     },
     "execution_count": 57,
     "metadata": {},
     "output_type": "execute_result"
    }
   ],
   "source": [
    "len(train_data1.index)"
   ]
  },
  {
   "cell_type": "code",
   "execution_count": 58,
   "id": "163887a8",
   "metadata": {
    "execution": {
     "iopub.execute_input": "2022-07-18T03:44:39.381431Z",
     "iopub.status.busy": "2022-07-18T03:44:39.381021Z",
     "iopub.status.idle": "2022-07-18T03:44:39.387460Z",
     "shell.execute_reply": "2022-07-18T03:44:39.386317Z"
    },
    "papermill": {
     "duration": 0.052627,
     "end_time": "2022-07-18T03:44:39.389546",
     "exception": false,
     "start_time": "2022-07-18T03:44:39.336919",
     "status": "completed"
    },
    "tags": []
   },
   "outputs": [
    {
     "data": {
      "text/plain": [
       "889"
      ]
     },
     "execution_count": 58,
     "metadata": {},
     "output_type": "execute_result"
    }
   ],
   "source": [
    "train_data1['Embarked'].size"
   ]
  },
  {
   "cell_type": "code",
   "execution_count": 59,
   "id": "fc407dd6",
   "metadata": {
    "execution": {
     "iopub.execute_input": "2022-07-18T03:44:39.477386Z",
     "iopub.status.busy": "2022-07-18T03:44:39.476813Z",
     "iopub.status.idle": "2022-07-18T03:44:39.646871Z",
     "shell.execute_reply": "2022-07-18T03:44:39.645597Z"
    },
    "papermill": {
     "duration": 0.216884,
     "end_time": "2022-07-18T03:44:39.649530",
     "exception": false,
     "start_time": "2022-07-18T03:44:39.432646",
     "status": "completed"
    },
    "tags": []
   },
   "outputs": [
    {
     "data": {
      "text/html": [
       "<div>\n",
       "<style scoped>\n",
       "    .dataframe tbody tr th:only-of-type {\n",
       "        vertical-align: middle;\n",
       "    }\n",
       "\n",
       "    .dataframe tbody tr th {\n",
       "        vertical-align: top;\n",
       "    }\n",
       "\n",
       "    .dataframe thead th {\n",
       "        text-align: right;\n",
       "    }\n",
       "</style>\n",
       "<table border=\"1\" class=\"dataframe\">\n",
       "  <thead>\n",
       "    <tr style=\"text-align: right;\">\n",
       "      <th></th>\n",
       "      <th>PassengerId</th>\n",
       "      <th>Survived</th>\n",
       "      <th>Pclass</th>\n",
       "      <th>SibSp</th>\n",
       "      <th>Parch</th>\n",
       "      <th>Fare</th>\n",
       "      <th>AgeGroup</th>\n",
       "      <th>Sex</th>\n",
       "      <th>Embarked</th>\n",
       "    </tr>\n",
       "  </thead>\n",
       "  <tbody>\n",
       "    <tr>\n",
       "      <th>0</th>\n",
       "      <td>1</td>\n",
       "      <td>0</td>\n",
       "      <td>3</td>\n",
       "      <td>1</td>\n",
       "      <td>0</td>\n",
       "      <td>7.2500</td>\n",
       "      <td>0</td>\n",
       "      <td>1</td>\n",
       "      <td>2</td>\n",
       "    </tr>\n",
       "    <tr>\n",
       "      <th>1</th>\n",
       "      <td>2</td>\n",
       "      <td>1</td>\n",
       "      <td>1</td>\n",
       "      <td>1</td>\n",
       "      <td>0</td>\n",
       "      <td>71.2833</td>\n",
       "      <td>0</td>\n",
       "      <td>0</td>\n",
       "      <td>0</td>\n",
       "    </tr>\n",
       "    <tr>\n",
       "      <th>2</th>\n",
       "      <td>3</td>\n",
       "      <td>1</td>\n",
       "      <td>3</td>\n",
       "      <td>0</td>\n",
       "      <td>0</td>\n",
       "      <td>7.9250</td>\n",
       "      <td>0</td>\n",
       "      <td>0</td>\n",
       "      <td>2</td>\n",
       "    </tr>\n",
       "    <tr>\n",
       "      <th>3</th>\n",
       "      <td>4</td>\n",
       "      <td>1</td>\n",
       "      <td>1</td>\n",
       "      <td>1</td>\n",
       "      <td>0</td>\n",
       "      <td>53.1000</td>\n",
       "      <td>0</td>\n",
       "      <td>0</td>\n",
       "      <td>2</td>\n",
       "    </tr>\n",
       "    <tr>\n",
       "      <th>4</th>\n",
       "      <td>5</td>\n",
       "      <td>0</td>\n",
       "      <td>3</td>\n",
       "      <td>0</td>\n",
       "      <td>0</td>\n",
       "      <td>8.0500</td>\n",
       "      <td>0</td>\n",
       "      <td>1</td>\n",
       "      <td>2</td>\n",
       "    </tr>\n",
       "  </tbody>\n",
       "</table>\n",
       "</div>"
      ],
      "text/plain": [
       "   PassengerId  Survived  Pclass  SibSp  Parch     Fare  AgeGroup  Sex  \\\n",
       "0            1         0       3      1      0   7.2500         0    1   \n",
       "1            2         1       1      1      0  71.2833         0    0   \n",
       "2            3         1       3      0      0   7.9250         0    0   \n",
       "3            4         1       1      1      0  53.1000         0    0   \n",
       "4            5         0       3      0      0   8.0500         0    1   \n",
       "\n",
       "   Embarked  \n",
       "0         2  \n",
       "1         0  \n",
       "2         2  \n",
       "3         2  \n",
       "4         2  "
      ]
     },
     "execution_count": 59,
     "metadata": {},
     "output_type": "execute_result"
    }
   ],
   "source": [
    "# Import label encoder \n",
    "from sklearn import preprocessing\n",
    "# label_encoder object knows how to understand word labels. \n",
    "label_encoder = preprocessing.LabelEncoder()\n",
    "#categorical columns\n",
    "\n",
    "# Encode labels in column 'Embarked'. \n",
    "train_data1['Embarked']= label_encoder.fit_transform(train_data1['Embarked'])\n",
    "# Encode labels in column 'AgeGroup'. \n",
    "train_data1['AgeGroup']= label_encoder.fit_transform(train_data1['AgeGroup']) \n",
    "# Encode labels in column 'Sex'. \n",
    "train_data1['Sex']= label_encoder.fit_transform(train_data1['Sex']) \n",
    "train_data1.head()\n"
   ]
  },
  {
   "cell_type": "code",
   "execution_count": 60,
   "id": "59ab4853",
   "metadata": {
    "execution": {
     "iopub.execute_input": "2022-07-18T03:44:39.763547Z",
     "iopub.status.busy": "2022-07-18T03:44:39.762393Z",
     "iopub.status.idle": "2022-07-18T03:44:39.776186Z",
     "shell.execute_reply": "2022-07-18T03:44:39.774944Z"
    },
    "papermill": {
     "duration": 0.074411,
     "end_time": "2022-07-18T03:44:39.780111",
     "exception": false,
     "start_time": "2022-07-18T03:44:39.705700",
     "status": "completed"
    },
    "tags": []
   },
   "outputs": [
    {
     "name": "stdout",
     "output_type": "stream",
     "text": [
      "<class 'pandas.core.frame.DataFrame'>\n",
      "Int64Index: 889 entries, 0 to 890\n",
      "Data columns (total 9 columns):\n",
      " #   Column       Non-Null Count  Dtype  \n",
      "---  ------       --------------  -----  \n",
      " 0   PassengerId  889 non-null    int64  \n",
      " 1   Survived     889 non-null    int64  \n",
      " 2   Pclass       889 non-null    int64  \n",
      " 3   SibSp        889 non-null    int64  \n",
      " 4   Parch        889 non-null    int64  \n",
      " 5   Fare         889 non-null    float64\n",
      " 6   AgeGroup     889 non-null    int64  \n",
      " 7   Sex          889 non-null    int64  \n",
      " 8   Embarked     889 non-null    int64  \n",
      "dtypes: float64(1), int64(8)\n",
      "memory usage: 101.7 KB\n"
     ]
    }
   ],
   "source": [
    "train_data1.info()\n",
    "#Now all variables are transformed into either integer or float."
   ]
  },
  {
   "cell_type": "code",
   "execution_count": null,
   "id": "9efc3626",
   "metadata": {
    "papermill": {
     "duration": 0.044221,
     "end_time": "2022-07-18T03:44:39.871977",
     "exception": false,
     "start_time": "2022-07-18T03:44:39.827756",
     "status": "completed"
    },
    "tags": []
   },
   "outputs": [],
   "source": []
  },
  {
   "cell_type": "code",
   "execution_count": 61,
   "id": "3fbb7148",
   "metadata": {
    "execution": {
     "iopub.execute_input": "2022-07-18T03:44:39.961979Z",
     "iopub.status.busy": "2022-07-18T03:44:39.961620Z",
     "iopub.status.idle": "2022-07-18T03:44:40.297728Z",
     "shell.execute_reply": "2022-07-18T03:44:40.296479Z"
    },
    "papermill": {
     "duration": 0.383557,
     "end_time": "2022-07-18T03:44:40.300127",
     "exception": false,
     "start_time": "2022-07-18T03:44:39.916570",
     "status": "completed"
    },
    "tags": []
   },
   "outputs": [
    {
     "data": {
      "text/plain": [
       "<AxesSubplot:>"
      ]
     },
     "execution_count": 61,
     "metadata": {},
     "output_type": "execute_result"
    },
    {
     "data": {
      "image/png": "[encoded data removed]",
      "text/plain": [
       "<Figure size 576x360 with 2 Axes>"
      ]
     },
     "metadata": {},
     "output_type": "display_data"
    }
   ],
   "source": [
    "#Building correlation matrix\n",
    "sns.heatmap(train_data1.corr())"
   ]
  },
  {
   "cell_type": "code",
   "execution_count": 62,
   "id": "18cd88c0",
   "metadata": {
    "execution": {
     "iopub.execute_input": "2022-07-18T03:44:40.393388Z",
     "iopub.status.busy": "2022-07-18T03:44:40.392977Z",
     "iopub.status.idle": "2022-07-18T03:44:40.411419Z",
     "shell.execute_reply": "2022-07-18T03:44:40.410250Z"
    },
    "papermill": {
     "duration": 0.067975,
     "end_time": "2022-07-18T03:44:40.413562",
     "exception": false,
     "start_time": "2022-07-18T03:44:40.345587",
     "status": "completed"
    },
    "tags": []
   },
   "outputs": [
    {
     "data": {
      "text/html": [
       "<div>\n",
       "<style scoped>\n",
       "    .dataframe tbody tr th:only-of-type {\n",
       "        vertical-align: middle;\n",
       "    }\n",
       "\n",
       "    .dataframe tbody tr th {\n",
       "        vertical-align: top;\n",
       "    }\n",
       "\n",
       "    .dataframe thead th {\n",
       "        text-align: right;\n",
       "    }\n",
       "</style>\n",
       "<table border=\"1\" class=\"dataframe\">\n",
       "  <thead>\n",
       "    <tr style=\"text-align: right;\">\n",
       "      <th></th>\n",
       "      <th>Embarked</th>\n",
       "      <th>Sex</th>\n",
       "      <th>AgeGroup</th>\n",
       "      <th>Fare</th>\n",
       "      <th>SibSp</th>\n",
       "      <th>Pclass</th>\n",
       "      <th>PassengerId</th>\n",
       "      <th>Survived</th>\n",
       "    </tr>\n",
       "  </thead>\n",
       "  <tbody>\n",
       "    <tr>\n",
       "      <th>0</th>\n",
       "      <td>2</td>\n",
       "      <td>1</td>\n",
       "      <td>0</td>\n",
       "      <td>7.2500</td>\n",
       "      <td>1</td>\n",
       "      <td>3</td>\n",
       "      <td>1</td>\n",
       "      <td>0</td>\n",
       "    </tr>\n",
       "    <tr>\n",
       "      <th>1</th>\n",
       "      <td>0</td>\n",
       "      <td>0</td>\n",
       "      <td>0</td>\n",
       "      <td>71.2833</td>\n",
       "      <td>1</td>\n",
       "      <td>1</td>\n",
       "      <td>2</td>\n",
       "      <td>1</td>\n",
       "    </tr>\n",
       "    <tr>\n",
       "      <th>2</th>\n",
       "      <td>2</td>\n",
       "      <td>0</td>\n",
       "      <td>0</td>\n",
       "      <td>7.9250</td>\n",
       "      <td>0</td>\n",
       "      <td>3</td>\n",
       "      <td>3</td>\n",
       "      <td>1</td>\n",
       "    </tr>\n",
       "    <tr>\n",
       "      <th>3</th>\n",
       "      <td>2</td>\n",
       "      <td>0</td>\n",
       "      <td>0</td>\n",
       "      <td>53.1000</td>\n",
       "      <td>1</td>\n",
       "      <td>1</td>\n",
       "      <td>4</td>\n",
       "      <td>1</td>\n",
       "    </tr>\n",
       "    <tr>\n",
       "      <th>4</th>\n",
       "      <td>2</td>\n",
       "      <td>1</td>\n",
       "      <td>0</td>\n",
       "      <td>8.0500</td>\n",
       "      <td>0</td>\n",
       "      <td>3</td>\n",
       "      <td>5</td>\n",
       "      <td>0</td>\n",
       "    </tr>\n",
       "    <tr>\n",
       "      <th>...</th>\n",
       "      <td>...</td>\n",
       "      <td>...</td>\n",
       "      <td>...</td>\n",
       "      <td>...</td>\n",
       "      <td>...</td>\n",
       "      <td>...</td>\n",
       "      <td>...</td>\n",
       "      <td>...</td>\n",
       "    </tr>\n",
       "    <tr>\n",
       "      <th>886</th>\n",
       "      <td>2</td>\n",
       "      <td>1</td>\n",
       "      <td>0</td>\n",
       "      <td>13.0000</td>\n",
       "      <td>0</td>\n",
       "      <td>2</td>\n",
       "      <td>887</td>\n",
       "      <td>0</td>\n",
       "    </tr>\n",
       "    <tr>\n",
       "      <th>887</th>\n",
       "      <td>2</td>\n",
       "      <td>0</td>\n",
       "      <td>3</td>\n",
       "      <td>30.0000</td>\n",
       "      <td>0</td>\n",
       "      <td>1</td>\n",
       "      <td>888</td>\n",
       "      <td>1</td>\n",
       "    </tr>\n",
       "    <tr>\n",
       "      <th>888</th>\n",
       "      <td>2</td>\n",
       "      <td>0</td>\n",
       "      <td>5</td>\n",
       "      <td>23.4500</td>\n",
       "      <td>1</td>\n",
       "      <td>3</td>\n",
       "      <td>889</td>\n",
       "      <td>0</td>\n",
       "    </tr>\n",
       "    <tr>\n",
       "      <th>889</th>\n",
       "      <td>0</td>\n",
       "      <td>1</td>\n",
       "      <td>0</td>\n",
       "      <td>30.0000</td>\n",
       "      <td>0</td>\n",
       "      <td>1</td>\n",
       "      <td>890</td>\n",
       "      <td>1</td>\n",
       "    </tr>\n",
       "    <tr>\n",
       "      <th>890</th>\n",
       "      <td>1</td>\n",
       "      <td>1</td>\n",
       "      <td>0</td>\n",
       "      <td>7.7500</td>\n",
       "      <td>0</td>\n",
       "      <td>3</td>\n",
       "      <td>891</td>\n",
       "      <td>0</td>\n",
       "    </tr>\n",
       "  </tbody>\n",
       "</table>\n",
       "<p>889 rows × 8 columns</p>\n",
       "</div>"
      ],
      "text/plain": [
       "     Embarked  Sex  AgeGroup     Fare  SibSp  Pclass  PassengerId  Survived\n",
       "0           2    1         0   7.2500      1       3            1         0\n",
       "1           0    0         0  71.2833      1       1            2         1\n",
       "2           2    0         0   7.9250      0       3            3         1\n",
       "3           2    0         0  53.1000      1       1            4         1\n",
       "4           2    1         0   8.0500      0       3            5         0\n",
       "..        ...  ...       ...      ...    ...     ...          ...       ...\n",
       "886         2    1         0  13.0000      0       2          887         0\n",
       "887         2    0         3  30.0000      0       1          888         1\n",
       "888         2    0         5  23.4500      1       3          889         0\n",
       "889         0    1         0  30.0000      0       1          890         1\n",
       "890         1    1         0   7.7500      0       3          891         0\n",
       "\n",
       "[889 rows x 8 columns]"
      ]
     },
     "execution_count": 62,
     "metadata": {},
     "output_type": "execute_result"
    }
   ],
   "source": [
    "#Since logistic regression requires there to be little multicollinearity among predictors, I tried to keep only one variable in each group of highly correlated variables.\n",
    "td=train_data1[['Embarked','Sex','AgeGroup','Fare','SibSp','Pclass','PassengerId','Survived']]\n",
    "td"
   ]
  },
  {
   "cell_type": "code",
   "execution_count": 63,
   "id": "6630a440",
   "metadata": {
    "execution": {
     "iopub.execute_input": "2022-07-18T03:44:40.504429Z",
     "iopub.status.busy": "2022-07-18T03:44:40.503841Z",
     "iopub.status.idle": "2022-07-18T03:44:40.509293Z",
     "shell.execute_reply": "2022-07-18T03:44:40.508497Z"
    },
    "papermill": {
     "duration": 0.053414,
     "end_time": "2022-07-18T03:44:40.511627",
     "exception": false,
     "start_time": "2022-07-18T03:44:40.458213",
     "status": "completed"
    },
    "tags": []
   },
   "outputs": [],
   "source": [
    "# the input features (independent variables — X) and the label (dependent variable - y)\n",
    "X=td.iloc[:,:-1]\n",
    "y=td['Survived']"
   ]
  },
  {
   "cell_type": "code",
   "execution_count": 64,
   "id": "6d19b0d5",
   "metadata": {
    "execution": {
     "iopub.execute_input": "2022-07-18T03:44:40.603069Z",
     "iopub.status.busy": "2022-07-18T03:44:40.602488Z",
     "iopub.status.idle": "2022-07-18T03:44:40.666347Z",
     "shell.execute_reply": "2022-07-18T03:44:40.664783Z"
    },
    "papermill": {
     "duration": 0.113488,
     "end_time": "2022-07-18T03:44:40.669645",
     "exception": false,
     "start_time": "2022-07-18T03:44:40.556157",
     "status": "completed"
    },
    "tags": []
   },
   "outputs": [
    {
     "name": "stdout",
     "output_type": "stream",
     "text": [
      "(595, 7) (294, 7) (595,) (294,)\n"
     ]
    }
   ],
   "source": [
    "#Secondly, both features and labels are broken down into a subset for training and another for testing\n",
    "from sklearn.model_selection import train_test_split\n",
    "X_train,X_test,y_train,y_test=train_test_split(X,y,test_size=0.33,random_state=42)\n",
    "print(X_train.shape,X_test.shape,y_train.shape,y_test.shape)"
   ]
  },
  {
   "cell_type": "code",
   "execution_count": 65,
   "id": "c2c96e27",
   "metadata": {
    "execution": {
     "iopub.execute_input": "2022-07-18T03:44:40.762469Z",
     "iopub.status.busy": "2022-07-18T03:44:40.761264Z",
     "iopub.status.idle": "2022-07-18T03:44:40.877683Z",
     "shell.execute_reply": "2022-07-18T03:44:40.876414Z"
    },
    "papermill": {
     "duration": 0.165313,
     "end_time": "2022-07-18T03:44:40.880177",
     "exception": false,
     "start_time": "2022-07-18T03:44:40.714864",
     "status": "completed"
    },
    "tags": []
   },
   "outputs": [],
   "source": [
    "from sklearn.linear_model import LogisticRegression\n",
    "reg= LogisticRegression(max_iter= 400)\n",
    "reg.fit(X_train,y_train)\n",
    "y_pred =reg.predict(X_test)"
   ]
  },
  {
   "cell_type": "code",
   "execution_count": null,
   "id": "1260b54d",
   "metadata": {
    "papermill": {
     "duration": 0.044938,
     "end_time": "2022-07-18T03:44:40.969710",
     "exception": false,
     "start_time": "2022-07-18T03:44:40.924772",
     "status": "completed"
    },
    "tags": []
   },
   "outputs": [],
   "source": []
  },
  {
   "cell_type": "markdown",
   "id": "45bac05d",
   "metadata": {
    "papermill": {
     "duration": 0.046002,
     "end_time": "2022-07-18T03:44:41.062126",
     "exception": false,
     "start_time": "2022-07-18T03:44:41.016124",
     "status": "completed"
    },
    "tags": []
   },
   "source": [
    "Model Evaluation"
   ]
  },
  {
   "cell_type": "markdown",
   "id": "a4967db1",
   "metadata": {
    "execution": {
     "iopub.execute_input": "2022-07-17T00:43:55.430737Z",
     "iopub.status.busy": "2022-07-17T00:43:55.430333Z",
     "iopub.status.idle": "2022-07-17T00:43:55.439364Z",
     "shell.execute_reply": "2022-07-17T00:43:55.438027Z",
     "shell.execute_reply.started": "2022-07-17T00:43:55.430704Z"
    },
    "papermill": {
     "duration": 0.046326,
     "end_time": "2022-07-18T03:44:41.156093",
     "exception": false,
     "start_time": "2022-07-18T03:44:41.109767",
     "status": "completed"
    },
    "tags": []
   },
   "source": [
    "ROC, AUC, Confusion Matrix and Accuracy are widely used for evaluating Logistic Regression model. All of these metrics are based on calculating the difference between the y values predicted by the model and the actual y values of the test set, hence y_pred and y_test. There are four possible scenarios while comparing the differences:\n",
    "\n",
    "True Positive: survived when predicted survived\n",
    "    \n",
    "True Negative: Didn't survive when predicted Didn't survive\n",
    "    \n",
    "False Positive: Didn;t survive when predicted survived\n",
    "    \n",
    "False Negative:Survived when predicted Didn't survive"
   ]
  },
  {
   "cell_type": "code",
   "execution_count": null,
   "id": "47b17c6e",
   "metadata": {
    "papermill": {
     "duration": 0.046312,
     "end_time": "2022-07-18T03:44:41.247652",
     "exception": false,
     "start_time": "2022-07-18T03:44:41.201340",
     "status": "completed"
    },
    "tags": []
   },
   "outputs": [],
   "source": []
  },
  {
   "cell_type": "markdown",
   "id": "a3074401",
   "metadata": {
    "papermill": {
     "duration": 0.045276,
     "end_time": "2022-07-18T03:44:41.338550",
     "exception": false,
     "start_time": "2022-07-18T03:44:41.293274",
     "status": "completed"
    },
    "tags": []
   },
   "source": [
    "Confusion Matrix"
   ]
  },
  {
   "cell_type": "code",
   "execution_count": 66,
   "id": "f840edc4",
   "metadata": {
    "execution": {
     "iopub.execute_input": "2022-07-18T03:44:41.431671Z",
     "iopub.status.busy": "2022-07-18T03:44:41.430889Z",
     "iopub.status.idle": "2022-07-18T03:44:41.663265Z",
     "shell.execute_reply": "2022-07-18T03:44:41.662034Z"
    },
    "papermill": {
     "duration": 0.282009,
     "end_time": "2022-07-18T03:44:41.665849",
     "exception": false,
     "start_time": "2022-07-18T03:44:41.383840",
     "status": "completed"
    },
    "tags": []
   },
   "outputs": [
    {
     "name": "stderr",
     "output_type": "stream",
     "text": [
      "/opt/conda/lib/python3.7/site-packages/sklearn/utils/deprecation.py:87: FutureWarning: Function plot_confusion_matrix is deprecated; Function `plot_confusion_matrix` is deprecated in 1.0 and will be removed in 1.2. Use one of the class methods: ConfusionMatrixDisplay.from_predictions or ConfusionMatrixDisplay.from_estimator.\n",
      "  warnings.warn(msg, category=FutureWarning)\n"
     ]
    },
    {
     "data": {
      "text/plain": [
       "<sklearn.metrics._plot.confusion_matrix.ConfusionMatrixDisplay at 0x7f67665eabd0>"
      ]
     },
     "execution_count": 66,
     "metadata": {},
     "output_type": "execute_result"
    },
    {
     "data": {
      "image/png": "[encoded data removed]",
      "text/plain": [
       "<Figure size 576x360 with 2 Axes>"
      ]
     },
     "metadata": {},
     "output_type": "display_data"
    }
   ],
   "source": [
    "from sklearn import metrics\n",
    "#confusion matrix\n",
    "confusion_matrix=metrics.plot_confusion_matrix(reg,X_test,y_test, cmap=\"GnBu\")\n",
    "confusion_matrix"
   ]
  },
  {
   "cell_type": "code",
   "execution_count": 67,
   "id": "0cd5f712",
   "metadata": {
    "execution": {
     "iopub.execute_input": "2022-07-18T03:44:41.758338Z",
     "iopub.status.busy": "2022-07-18T03:44:41.757643Z",
     "iopub.status.idle": "2022-07-18T03:44:41.764457Z",
     "shell.execute_reply": "2022-07-18T03:44:41.762788Z"
    },
    "papermill": {
     "duration": 0.055332,
     "end_time": "2022-07-18T03:44:41.766691",
     "exception": false,
     "start_time": "2022-07-18T03:44:41.711359",
     "status": "completed"
    },
    "tags": []
   },
   "outputs": [
    {
     "name": "stdout",
     "output_type": "stream",
     "text": [
      "Accuracy: 0.7959183673469388\n"
     ]
    }
   ],
   "source": [
    "#Accuracy calculates the ratio of all correct predictions\n",
    "print(\"Accuracy:\",metrics.accuracy_score(y_test,y_pred))"
   ]
  },
  {
   "cell_type": "code",
   "execution_count": 68,
   "id": "ec69ece7",
   "metadata": {
    "execution": {
     "iopub.execute_input": "2022-07-18T03:44:41.857794Z",
     "iopub.status.busy": "2022-07-18T03:44:41.857388Z",
     "iopub.status.idle": "2022-07-18T03:44:41.864922Z",
     "shell.execute_reply": "2022-07-18T03:44:41.863782Z"
    },
    "papermill": {
     "duration": 0.055576,
     "end_time": "2022-07-18T03:44:41.866807",
     "exception": false,
     "start_time": "2022-07-18T03:44:41.811231",
     "status": "completed"
    },
    "tags": []
   },
   "outputs": [
    {
     "name": "stdout",
     "output_type": "stream",
     "text": [
      "AUC: 0.79\n"
     ]
    }
   ],
   "source": [
    "fpr, tpr, _thresholds = metrics.roc_curve(y_test,y_pred)\n",
    "print(\"AUC:\",round(metrics.auc(fpr,tpr),2)) "
   ]
  },
  {
   "cell_type": "code",
   "execution_count": null,
   "id": "f24a89f8",
   "metadata": {
    "papermill": {
     "duration": 0.046136,
     "end_time": "2022-07-18T03:44:41.957709",
     "exception": false,
     "start_time": "2022-07-18T03:44:41.911573",
     "status": "completed"
    },
    "tags": []
   },
   "outputs": [],
   "source": []
  },
  {
   "cell_type": "markdown",
   "id": "e45ac225",
   "metadata": {
    "papermill": {
     "duration": 0.04646,
     "end_time": "2022-07-18T03:44:42.089752",
     "exception": false,
     "start_time": "2022-07-18T03:44:42.043292",
     "status": "completed"
    },
    "tags": []
   },
   "source": [
    "Improve the current model, by introducing hyperparameter tuning, feature importance, and standardization"
   ]
  },
  {
   "cell_type": "code",
   "execution_count": null,
   "id": "d3a65a8e",
   "metadata": {
    "papermill": {
     "duration": 0.044369,
     "end_time": "2022-07-18T03:44:42.180285",
     "exception": false,
     "start_time": "2022-07-18T03:44:42.135916",
     "status": "completed"
    },
    "tags": []
   },
   "outputs": [],
   "source": []
  },
  {
   "cell_type": "markdown",
   "id": "9f1a1669",
   "metadata": {
    "papermill": {
     "duration": 0.044352,
     "end_time": "2022-07-18T03:44:42.270802",
     "exception": false,
     "start_time": "2022-07-18T03:44:42.226450",
     "status": "completed"
    },
    "tags": []
   },
   "source": [
    "Decision Tree Implementation"
   ]
  },
  {
   "cell_type": "code",
   "execution_count": 69,
   "id": "7dbbbd1b",
   "metadata": {
    "execution": {
     "iopub.execute_input": "2022-07-18T03:44:42.361665Z",
     "iopub.status.busy": "2022-07-18T03:44:42.360980Z",
     "iopub.status.idle": "2022-07-18T03:44:42.453596Z",
     "shell.execute_reply": "2022-07-18T03:44:42.452570Z"
    },
    "papermill": {
     "duration": 0.141557,
     "end_time": "2022-07-18T03:44:42.456791",
     "exception": false,
     "start_time": "2022-07-18T03:44:42.315234",
     "status": "completed"
    },
    "tags": []
   },
   "outputs": [],
   "source": [
    "from sklearn.tree import DecisionTreeClassifier\n",
    "model=DecisionTreeClassifier(criterion = \"entropy\")"
   ]
  },
  {
   "cell_type": "code",
   "execution_count": 70,
   "id": "b734609b",
   "metadata": {
    "execution": {
     "iopub.execute_input": "2022-07-18T03:44:42.548721Z",
     "iopub.status.busy": "2022-07-18T03:44:42.548343Z",
     "iopub.status.idle": "2022-07-18T03:44:42.561744Z",
     "shell.execute_reply": "2022-07-18T03:44:42.560912Z"
    },
    "papermill": {
     "duration": 0.061223,
     "end_time": "2022-07-18T03:44:42.563874",
     "exception": false,
     "start_time": "2022-07-18T03:44:42.502651",
     "status": "completed"
    },
    "tags": []
   },
   "outputs": [
    {
     "data": {
      "text/plain": [
       "DecisionTreeClassifier(criterion='entropy')"
      ]
     },
     "execution_count": 70,
     "metadata": {},
     "output_type": "execute_result"
    }
   ],
   "source": [
    "model.fit(X_train,y_train)"
   ]
  },
  {
   "cell_type": "code",
   "execution_count": 71,
   "id": "b3af910d",
   "metadata": {
    "execution": {
     "iopub.execute_input": "2022-07-18T03:44:42.657716Z",
     "iopub.status.busy": "2022-07-18T03:44:42.657331Z",
     "iopub.status.idle": "2022-07-18T03:44:42.663380Z",
     "shell.execute_reply": "2022-07-18T03:44:42.662518Z"
    },
    "papermill": {
     "duration": 0.054989,
     "end_time": "2022-07-18T03:44:42.665731",
     "exception": false,
     "start_time": "2022-07-18T03:44:42.610742",
     "status": "completed"
    },
    "tags": []
   },
   "outputs": [],
   "source": [
    "d_pred=model.predict(X_test)"
   ]
  },
  {
   "cell_type": "code",
   "execution_count": 72,
   "id": "4adfb77f",
   "metadata": {
    "execution": {
     "iopub.execute_input": "2022-07-18T03:44:42.761272Z",
     "iopub.status.busy": "2022-07-18T03:44:42.760592Z",
     "iopub.status.idle": "2022-07-18T03:44:42.766788Z",
     "shell.execute_reply": "2022-07-18T03:44:42.765882Z"
    },
    "papermill": {
     "duration": 0.05521,
     "end_time": "2022-07-18T03:44:42.768789",
     "exception": false,
     "start_time": "2022-07-18T03:44:42.713579",
     "status": "completed"
    },
    "tags": []
   },
   "outputs": [
    {
     "data": {
      "text/plain": [
       "array([0, 1, 1, 0, 1, 0, 0, 0, 1, 1, 0, 1, 0, 1, 0, 0, 1, 0, 1, 0, 1, 1,\n",
       "       0, 1, 0, 0, 1, 1, 0, 0, 0, 1, 0, 1, 0, 0, 1, 1, 1, 0, 0, 1, 0, 0,\n",
       "       0, 0, 1, 0, 0, 1, 1, 1, 1, 0, 1, 1, 1, 0, 0, 0, 0, 1, 1, 0, 1, 1,\n",
       "       0, 0, 1, 1, 0, 1, 1, 0, 0, 1, 0, 0, 1, 1, 0, 1, 1, 0, 0, 0, 0, 0,\n",
       "       0, 1, 1, 1, 0, 0, 1, 0, 0, 0, 1, 0, 0, 1, 0, 0, 0, 0, 0, 1, 0, 0,\n",
       "       0, 0, 0, 1, 0, 0, 1, 0, 1, 0, 0, 1, 0, 0, 1, 1, 0, 1, 1, 1, 1, 0,\n",
       "       0, 0, 0, 1, 0, 1, 0, 1, 0, 0, 1, 0, 1, 0, 0, 1, 0, 1, 0, 1, 0, 1,\n",
       "       0, 1, 1, 0, 0, 1, 0, 1, 0, 0, 0, 1, 1, 0, 0, 1, 1, 1, 0, 0, 0, 0,\n",
       "       0, 1, 1, 1, 1, 0, 0, 1, 0, 0, 0, 0, 0, 0, 1, 1, 1, 0, 0, 1, 0, 1,\n",
       "       0, 0, 0, 1, 1, 0, 0, 0, 0, 1, 1, 1, 0, 1, 0, 0, 0, 0, 1, 0, 0, 0,\n",
       "       0, 1, 1, 0, 1, 0, 0, 0, 0, 1, 1, 0, 0, 0, 0, 0, 0, 1, 0, 0, 1, 0,\n",
       "       1, 1, 0, 0, 0, 0, 0, 1, 0, 0, 0, 1, 0, 0, 0, 1, 0, 0, 0, 0, 0, 1,\n",
       "       0, 0, 0, 1, 0, 0, 0, 1, 1, 0, 0, 0, 0, 1, 0, 0, 1, 1, 0, 1, 0, 1,\n",
       "       0, 1, 0, 1, 1, 1, 1, 0])"
      ]
     },
     "execution_count": 72,
     "metadata": {},
     "output_type": "execute_result"
    }
   ],
   "source": [
    "d_pred"
   ]
  },
  {
   "cell_type": "code",
   "execution_count": 73,
   "id": "f63168a1",
   "metadata": {
    "execution": {
     "iopub.execute_input": "2022-07-18T03:44:42.860767Z",
     "iopub.status.busy": "2022-07-18T03:44:42.860108Z",
     "iopub.status.idle": "2022-07-18T03:44:42.866252Z",
     "shell.execute_reply": "2022-07-18T03:44:42.864893Z"
    },
    "papermill": {
     "duration": 0.055347,
     "end_time": "2022-07-18T03:44:42.869341",
     "exception": false,
     "start_time": "2022-07-18T03:44:42.813994",
     "status": "completed"
    },
    "tags": []
   },
   "outputs": [
    {
     "name": "stdout",
     "output_type": "stream",
     "text": [
      "Accuracy: 0.7244897959183674\n"
     ]
    }
   ],
   "source": [
    "print(\"Accuracy:\",metrics.accuracy_score(y_test,d_pred))"
   ]
  },
  {
   "cell_type": "code",
   "execution_count": 74,
   "id": "0fba5d12",
   "metadata": {
    "execution": {
     "iopub.execute_input": "2022-07-18T03:44:42.964551Z",
     "iopub.status.busy": "2022-07-18T03:44:42.962833Z",
     "iopub.status.idle": "2022-07-18T03:44:42.972366Z",
     "shell.execute_reply": "2022-07-18T03:44:42.971189Z"
    },
    "papermill": {
     "duration": 0.058361,
     "end_time": "2022-07-18T03:44:42.974850",
     "exception": false,
     "start_time": "2022-07-18T03:44:42.916489",
     "status": "completed"
    },
    "tags": []
   },
   "outputs": [
    {
     "name": "stdout",
     "output_type": "stream",
     "text": [
      "AUC: 0.71\n"
     ]
    }
   ],
   "source": [
    "fpr, tpr, _thresholds = metrics.roc_curve(y_test,d_pred)\n",
    "print(\"AUC:\",round(metrics.auc(fpr,tpr),2)) "
   ]
  },
  {
   "cell_type": "code",
   "execution_count": 75,
   "id": "381cb097",
   "metadata": {
    "execution": {
     "iopub.execute_input": "2022-07-18T03:44:43.067806Z",
     "iopub.status.busy": "2022-07-18T03:44:43.066758Z",
     "iopub.status.idle": "2022-07-18T03:44:43.289140Z",
     "shell.execute_reply": "2022-07-18T03:44:43.287986Z"
    },
    "papermill": {
     "duration": 0.270787,
     "end_time": "2022-07-18T03:44:43.291565",
     "exception": false,
     "start_time": "2022-07-18T03:44:43.020778",
     "status": "completed"
    },
    "tags": []
   },
   "outputs": [
    {
     "name": "stderr",
     "output_type": "stream",
     "text": [
      "/opt/conda/lib/python3.7/site-packages/sklearn/utils/deprecation.py:87: FutureWarning: Function plot_confusion_matrix is deprecated; Function `plot_confusion_matrix` is deprecated in 1.0 and will be removed in 1.2. Use one of the class methods: ConfusionMatrixDisplay.from_predictions or ConfusionMatrixDisplay.from_estimator.\n",
      "  warnings.warn(msg, category=FutureWarning)\n"
     ]
    },
    {
     "data": {
      "text/plain": [
       "<sklearn.metrics._plot.confusion_matrix.ConfusionMatrixDisplay at 0x7f6765f13950>"
      ]
     },
     "execution_count": 75,
     "metadata": {},
     "output_type": "execute_result"
    },
    {
     "data": {
      "image/png": "[encoded data removed]",
      "text/plain": [
       "<Figure size 576x360 with 2 Axes>"
      ]
     },
     "metadata": {},
     "output_type": "display_data"
    }
   ],
   "source": [
    "from sklearn import metrics\n",
    "#confusion matrix\n",
    "confusion_matrix=metrics.plot_confusion_matrix(model,X_test,y_test, cmap=\"GnBu\")\n",
    "confusion_matrix"
   ]
  },
  {
   "cell_type": "code",
   "execution_count": null,
   "id": "5af0b8f8",
   "metadata": {
    "papermill": {
     "duration": 0.045455,
     "end_time": "2022-07-18T03:44:43.382648",
     "exception": false,
     "start_time": "2022-07-18T03:44:43.337193",
     "status": "completed"
    },
    "tags": []
   },
   "outputs": [],
   "source": []
  },
  {
   "cell_type": "markdown",
   "id": "a9952e18",
   "metadata": {
    "execution": {
     "iopub.execute_input": "2022-07-18T02:44:37.025234Z",
     "iopub.status.busy": "2022-07-18T02:44:37.024923Z",
     "iopub.status.idle": "2022-07-18T02:44:37.030057Z",
     "shell.execute_reply": "2022-07-18T02:44:37.028549Z",
     "shell.execute_reply.started": "2022-07-18T02:44:37.025210Z"
    },
    "papermill": {
     "duration": 0.045115,
     "end_time": "2022-07-18T03:44:43.473119",
     "exception": false,
     "start_time": "2022-07-18T03:44:43.428004",
     "status": "completed"
    },
    "tags": []
   },
   "source": [
    " Random Forest Algorithm"
   ]
  },
  {
   "cell_type": "code",
   "execution_count": 76,
   "id": "15c750be",
   "metadata": {
    "execution": {
     "iopub.execute_input": "2022-07-18T03:44:43.568206Z",
     "iopub.status.busy": "2022-07-18T03:44:43.567769Z",
     "iopub.status.idle": "2022-07-18T03:44:43.814497Z",
     "shell.execute_reply": "2022-07-18T03:44:43.813244Z"
    },
    "papermill": {
     "duration": 0.297391,
     "end_time": "2022-07-18T03:44:43.817081",
     "exception": false,
     "start_time": "2022-07-18T03:44:43.519690",
     "status": "completed"
    },
    "tags": []
   },
   "outputs": [],
   "source": [
    "from sklearn.ensemble import RandomForestClassifier\n",
    "rfc = RandomForestClassifier()\n",
    "rfc.fit(X_train, y_train)\n",
    "r_pred = rfc.predict(X_test)"
   ]
  },
  {
   "cell_type": "code",
   "execution_count": 77,
   "id": "b8d0d43f",
   "metadata": {
    "execution": {
     "iopub.execute_input": "2022-07-18T03:44:43.910174Z",
     "iopub.status.busy": "2022-07-18T03:44:43.909755Z",
     "iopub.status.idle": "2022-07-18T03:44:43.917174Z",
     "shell.execute_reply": "2022-07-18T03:44:43.916084Z"
    },
    "papermill": {
     "duration": 0.056814,
     "end_time": "2022-07-18T03:44:43.919506",
     "exception": false,
     "start_time": "2022-07-18T03:44:43.862692",
     "status": "completed"
    },
    "tags": []
   },
   "outputs": [
    {
     "data": {
      "text/plain": [
       "array([0, 1, 1, 0, 1, 0, 0, 0, 1, 1, 0, 0, 0, 0, 0, 0, 1, 0, 0, 0, 0, 1,\n",
       "       0, 0, 0, 0, 0, 1, 0, 0, 0, 1, 0, 1, 0, 0, 1, 1, 0, 0, 0, 0, 0, 0,\n",
       "       0, 0, 1, 0, 0, 1, 1, 1, 1, 0, 1, 1, 1, 0, 0, 0, 0, 0, 1, 1, 0, 0,\n",
       "       0, 1, 1, 1, 0, 1, 1, 0, 0, 1, 0, 0, 1, 1, 0, 1, 1, 0, 0, 0, 0, 0,\n",
       "       0, 0, 0, 0, 0, 0, 1, 0, 0, 0, 0, 0, 0, 1, 0, 0, 0, 0, 0, 1, 0, 0,\n",
       "       0, 0, 0, 1, 0, 0, 0, 0, 1, 0, 0, 1, 0, 0, 1, 1, 0, 1, 1, 1, 1, 0,\n",
       "       0, 0, 0, 1, 0, 1, 0, 1, 1, 0, 1, 0, 1, 0, 0, 1, 0, 1, 0, 1, 0, 0,\n",
       "       0, 1, 0, 1, 0, 1, 0, 1, 0, 0, 0, 0, 1, 0, 0, 1, 1, 1, 1, 0, 1, 0,\n",
       "       0, 0, 1, 1, 1, 0, 0, 0, 0, 0, 0, 0, 0, 0, 0, 0, 1, 0, 0, 0, 0, 1,\n",
       "       1, 0, 0, 0, 0, 0, 0, 0, 0, 0, 1, 1, 0, 1, 0, 0, 0, 0, 1, 0, 0, 0,\n",
       "       0, 1, 1, 1, 1, 0, 0, 0, 0, 1, 1, 0, 0, 0, 0, 0, 0, 1, 0, 0, 1, 0,\n",
       "       1, 0, 0, 1, 0, 0, 0, 0, 0, 0, 0, 1, 0, 0, 0, 1, 0, 0, 0, 0, 0, 1,\n",
       "       0, 1, 0, 1, 0, 0, 0, 0, 0, 0, 0, 0, 0, 1, 0, 0, 0, 1, 1, 1, 0, 1,\n",
       "       0, 1, 0, 1, 0, 1, 0, 0])"
      ]
     },
     "execution_count": 77,
     "metadata": {},
     "output_type": "execute_result"
    }
   ],
   "source": [
    "r_pred"
   ]
  },
  {
   "cell_type": "code",
   "execution_count": 78,
   "id": "98859217",
   "metadata": {
    "execution": {
     "iopub.execute_input": "2022-07-18T03:44:44.013306Z",
     "iopub.status.busy": "2022-07-18T03:44:44.012911Z",
     "iopub.status.idle": "2022-07-18T03:44:44.019764Z",
     "shell.execute_reply": "2022-07-18T03:44:44.018759Z"
    },
    "papermill": {
     "duration": 0.056969,
     "end_time": "2022-07-18T03:44:44.022051",
     "exception": false,
     "start_time": "2022-07-18T03:44:43.965082",
     "status": "completed"
    },
    "tags": []
   },
   "outputs": [
    {
     "name": "stdout",
     "output_type": "stream",
     "text": [
      "Accuracy: 0.7755102040816326\n"
     ]
    }
   ],
   "source": [
    "print(\"Accuracy:\",metrics.accuracy_score(y_test,r_pred))"
   ]
  },
  {
   "cell_type": "code",
   "execution_count": 79,
   "id": "e51299ba",
   "metadata": {
    "execution": {
     "iopub.execute_input": "2022-07-18T03:44:44.115690Z",
     "iopub.status.busy": "2022-07-18T03:44:44.115172Z",
     "iopub.status.idle": "2022-07-18T03:44:44.123672Z",
     "shell.execute_reply": "2022-07-18T03:44:44.121979Z"
    },
    "papermill": {
     "duration": 0.057928,
     "end_time": "2022-07-18T03:44:44.125877",
     "exception": false,
     "start_time": "2022-07-18T03:44:44.067949",
     "status": "completed"
    },
    "tags": []
   },
   "outputs": [
    {
     "name": "stdout",
     "output_type": "stream",
     "text": [
      "AUC: 0.75\n"
     ]
    }
   ],
   "source": [
    "fpr, tpr, _thresholds = metrics.roc_curve(y_test,r_pred)\n",
    "print(\"AUC:\",round(metrics.auc(fpr,tpr),2)) "
   ]
  },
  {
   "cell_type": "code",
   "execution_count": 80,
   "id": "729157bb",
   "metadata": {
    "execution": {
     "iopub.execute_input": "2022-07-18T03:44:44.220746Z",
     "iopub.status.busy": "2022-07-18T03:44:44.219705Z",
     "iopub.status.idle": "2022-07-18T03:44:44.470692Z",
     "shell.execute_reply": "2022-07-18T03:44:44.469516Z"
    },
    "papermill": {
     "duration": 0.301275,
     "end_time": "2022-07-18T03:44:44.473225",
     "exception": false,
     "start_time": "2022-07-18T03:44:44.171950",
     "status": "completed"
    },
    "tags": []
   },
   "outputs": [
    {
     "name": "stderr",
     "output_type": "stream",
     "text": [
      "/opt/conda/lib/python3.7/site-packages/sklearn/utils/deprecation.py:87: FutureWarning: Function plot_confusion_matrix is deprecated; Function `plot_confusion_matrix` is deprecated in 1.0 and will be removed in 1.2. Use one of the class methods: ConfusionMatrixDisplay.from_predictions or ConfusionMatrixDisplay.from_estimator.\n",
      "  warnings.warn(msg, category=FutureWarning)\n"
     ]
    },
    {
     "data": {
      "text/plain": [
       "<sklearn.metrics._plot.confusion_matrix.ConfusionMatrixDisplay at 0x7f6765e68e10>"
      ]
     },
     "execution_count": 80,
     "metadata": {},
     "output_type": "execute_result"
    },
    {
     "data": {
      "image/png": "[encoded data removed]",
      "text/plain": [
       "<Figure size 576x360 with 2 Axes>"
      ]
     },
     "metadata": {},
     "output_type": "display_data"
    }
   ],
   "source": [
    "from sklearn import metrics\n",
    "#confusion matrix\n",
    "confusion_matrix=metrics.plot_confusion_matrix(rfc,X_test,y_test, cmap=\"GnBu\")\n",
    "confusion_matrix"
   ]
  },
  {
   "cell_type": "code",
   "execution_count": null,
   "id": "f2b979b7",
   "metadata": {
    "papermill": {
     "duration": 0.046693,
     "end_time": "2022-07-18T03:44:44.568569",
     "exception": false,
     "start_time": "2022-07-18T03:44:44.521876",
     "status": "completed"
    },
    "tags": []
   },
   "outputs": [],
   "source": []
  },
  {
   "cell_type": "code",
   "execution_count": null,
   "id": "48745977",
   "metadata": {
    "papermill": {
     "duration": 0.046681,
     "end_time": "2022-07-18T03:44:44.663395",
     "exception": false,
     "start_time": "2022-07-18T03:44:44.616714",
     "status": "completed"
    },
    "tags": []
   },
   "outputs": [],
   "source": []
  },
  {
   "cell_type": "markdown",
   "id": "7b84c29d",
   "metadata": {
    "papermill": {
     "duration": 0.047783,
     "end_time": "2022-07-18T03:44:44.758557",
     "exception": false,
     "start_time": "2022-07-18T03:44:44.710774",
     "status": "completed"
    },
    "tags": []
   },
   "source": [
    "Support Vector Machine (SVM)"
   ]
  },
  {
   "cell_type": "code",
   "execution_count": 81,
   "id": "1c7e0694",
   "metadata": {
    "execution": {
     "iopub.execute_input": "2022-07-18T03:44:44.856523Z",
     "iopub.status.busy": "2022-07-18T03:44:44.856090Z",
     "iopub.status.idle": "2022-07-18T03:44:44.888422Z",
     "shell.execute_reply": "2022-07-18T03:44:44.887209Z"
    },
    "papermill": {
     "duration": 0.084175,
     "end_time": "2022-07-18T03:44:44.890950",
     "exception": false,
     "start_time": "2022-07-18T03:44:44.806775",
     "status": "completed"
    },
    "tags": []
   },
   "outputs": [],
   "source": [
    "from sklearn.svm import SVC\n",
    "svc = SVC()\n",
    "svc.fit(X_train, y_train)\n",
    "svm_pred = svc.predict(X_test)"
   ]
  },
  {
   "cell_type": "code",
   "execution_count": 82,
   "id": "ea4f508d",
   "metadata": {
    "execution": {
     "iopub.execute_input": "2022-07-18T03:44:44.988823Z",
     "iopub.status.busy": "2022-07-18T03:44:44.988366Z",
     "iopub.status.idle": "2022-07-18T03:44:44.994958Z",
     "shell.execute_reply": "2022-07-18T03:44:44.993902Z"
    },
    "papermill": {
     "duration": 0.057746,
     "end_time": "2022-07-18T03:44:44.997166",
     "exception": false,
     "start_time": "2022-07-18T03:44:44.939420",
     "status": "completed"
    },
    "tags": []
   },
   "outputs": [
    {
     "data": {
      "text/plain": [
       "array([0, 1, 0, 0, 0, 0, 0, 0, 1, 1, 0, 0, 0, 0, 0, 0, 1, 0, 0, 0, 0, 0,\n",
       "       0, 0, 0, 0, 0, 0, 0, 0, 0, 0, 0, 0, 0, 0, 0, 1, 0, 0, 0, 0, 0, 0,\n",
       "       0, 0, 0, 0, 0, 1, 0, 0, 0, 0, 0, 0, 0, 0, 0, 0, 0, 0, 0, 0, 0, 0,\n",
       "       0, 0, 0, 0, 0, 1, 0, 0, 0, 0, 0, 0, 0, 0, 0, 0, 0, 0, 0, 0, 0, 0,\n",
       "       0, 0, 0, 0, 0, 0, 0, 0, 0, 0, 0, 0, 0, 1, 0, 0, 0, 0, 0, 0, 0, 0,\n",
       "       0, 0, 0, 0, 0, 0, 0, 0, 0, 0, 0, 1, 0, 0, 0, 0, 0, 0, 0, 0, 0, 0,\n",
       "       0, 0, 0, 0, 0, 0, 0, 0, 0, 0, 0, 0, 0, 0, 0, 0, 0, 1, 0, 0, 0, 0,\n",
       "       0, 0, 0, 0, 0, 0, 0, 0, 0, 0, 0, 0, 0, 0, 0, 0, 0, 0, 0, 0, 0, 0,\n",
       "       0, 0, 1, 0, 0, 0, 0, 0, 0, 0, 0, 0, 0, 0, 0, 0, 0, 0, 0, 0, 0, 0,\n",
       "       0, 0, 0, 0, 0, 0, 0, 0, 0, 0, 0, 0, 0, 0, 0, 0, 0, 0, 0, 0, 0, 0,\n",
       "       0, 0, 0, 0, 0, 0, 0, 0, 0, 0, 0, 0, 0, 0, 0, 0, 0, 0, 0, 0, 0, 0,\n",
       "       1, 0, 0, 1, 0, 0, 0, 0, 0, 0, 0, 0, 0, 0, 0, 0, 0, 0, 0, 0, 0, 0,\n",
       "       0, 0, 0, 0, 0, 0, 0, 0, 1, 0, 0, 0, 0, 0, 0, 0, 0, 1, 0, 0, 0, 0,\n",
       "       0, 0, 0, 0, 0, 0, 0, 0])"
      ]
     },
     "execution_count": 82,
     "metadata": {},
     "output_type": "execute_result"
    }
   ],
   "source": [
    "svm_pred"
   ]
  },
  {
   "cell_type": "code",
   "execution_count": 83,
   "id": "e126c3b9",
   "metadata": {
    "execution": {
     "iopub.execute_input": "2022-07-18T03:44:45.092251Z",
     "iopub.status.busy": "2022-07-18T03:44:45.091861Z",
     "iopub.status.idle": "2022-07-18T03:44:45.099332Z",
     "shell.execute_reply": "2022-07-18T03:44:45.097624Z"
    },
    "papermill": {
     "duration": 0.058517,
     "end_time": "2022-07-18T03:44:45.102213",
     "exception": false,
     "start_time": "2022-07-18T03:44:45.043696",
     "status": "completed"
    },
    "tags": []
   },
   "outputs": [
    {
     "name": "stdout",
     "output_type": "stream",
     "text": [
      "Accuracy: 0.6428571428571429\n"
     ]
    }
   ],
   "source": [
    "print(\"Accuracy:\",metrics.accuracy_score(y_test,svm_pred))"
   ]
  },
  {
   "cell_type": "code",
   "execution_count": 84,
   "id": "b5bed4cd",
   "metadata": {
    "execution": {
     "iopub.execute_input": "2022-07-18T03:44:45.199014Z",
     "iopub.status.busy": "2022-07-18T03:44:45.198664Z",
     "iopub.status.idle": "2022-07-18T03:44:45.205481Z",
     "shell.execute_reply": "2022-07-18T03:44:45.204262Z"
    },
    "papermill": {
     "duration": 0.057291,
     "end_time": "2022-07-18T03:44:45.207925",
     "exception": false,
     "start_time": "2022-07-18T03:44:45.150634",
     "status": "completed"
    },
    "tags": []
   },
   "outputs": [
    {
     "name": "stdout",
     "output_type": "stream",
     "text": [
      "AUC: 0.53\n"
     ]
    }
   ],
   "source": [
    "fpr, tpr, _thresholds = metrics.roc_curve(y_test,svm_pred)\n",
    "print(\"AUC:\",round(metrics.auc(fpr,tpr),2)) "
   ]
  },
  {
   "cell_type": "code",
   "execution_count": 85,
   "id": "dd013fb3",
   "metadata": {
    "execution": {
     "iopub.execute_input": "2022-07-18T03:44:45.305723Z",
     "iopub.status.busy": "2022-07-18T03:44:45.304654Z",
     "iopub.status.idle": "2022-07-18T03:44:45.549445Z",
     "shell.execute_reply": "2022-07-18T03:44:45.548318Z"
    },
    "papermill": {
     "duration": 0.296659,
     "end_time": "2022-07-18T03:44:45.551692",
     "exception": false,
     "start_time": "2022-07-18T03:44:45.255033",
     "status": "completed"
    },
    "tags": []
   },
   "outputs": [
    {
     "name": "stderr",
     "output_type": "stream",
     "text": [
      "/opt/conda/lib/python3.7/site-packages/sklearn/utils/deprecation.py:87: FutureWarning: Function plot_confusion_matrix is deprecated; Function `plot_confusion_matrix` is deprecated in 1.0 and will be removed in 1.2. Use one of the class methods: ConfusionMatrixDisplay.from_predictions or ConfusionMatrixDisplay.from_estimator.\n",
      "  warnings.warn(msg, category=FutureWarning)\n"
     ]
    },
    {
     "data": {
      "text/plain": [
       "<sklearn.metrics._plot.confusion_matrix.ConfusionMatrixDisplay at 0x7f676676e910>"
      ]
     },
     "execution_count": 85,
     "metadata": {},
     "output_type": "execute_result"
    },
    {
     "data": {
      "image/png": "[encoded data removed]",
      "text/plain": [
       "<Figure size 576x360 with 2 Axes>"
      ]
     },
     "metadata": {},
     "output_type": "display_data"
    }
   ],
   "source": [
    "from sklearn import metrics\n",
    "#confusion matrix\n",
    "confusion_matrix=metrics.plot_confusion_matrix(svc,X_test,y_test, cmap=\"GnBu\")\n",
    "confusion_matrix"
   ]
  },
  {
   "cell_type": "code",
   "execution_count": null,
   "id": "ce3ca455",
   "metadata": {
    "papermill": {
     "duration": 0.046774,
     "end_time": "2022-07-18T03:44:45.645678",
     "exception": false,
     "start_time": "2022-07-18T03:44:45.598904",
     "status": "completed"
    },
    "tags": []
   },
   "outputs": [],
   "source": []
  },
  {
   "cell_type": "code",
   "execution_count": null,
   "id": "4a33d89f",
   "metadata": {
    "papermill": {
     "duration": 0.047965,
     "end_time": "2022-07-18T03:44:45.745734",
     "exception": false,
     "start_time": "2022-07-18T03:44:45.697769",
     "status": "completed"
    },
    "tags": []
   },
   "outputs": [],
   "source": []
  },
  {
   "cell_type": "markdown",
   "id": "7664793c",
   "metadata": {
    "papermill": {
     "duration": 0.048955,
     "end_time": "2022-07-18T03:44:45.842252",
     "exception": false,
     "start_time": "2022-07-18T03:44:45.793297",
     "status": "completed"
    },
    "tags": []
   },
   "source": [
    "K-Nearest Neighbour (KNN)"
   ]
  },
  {
   "cell_type": "code",
   "execution_count": 86,
   "id": "544ab1df",
   "metadata": {
    "execution": {
     "iopub.execute_input": "2022-07-18T03:44:45.940364Z",
     "iopub.status.busy": "2022-07-18T03:44:45.939433Z",
     "iopub.status.idle": "2022-07-18T03:44:45.958143Z",
     "shell.execute_reply": "2022-07-18T03:44:45.956903Z"
    },
    "papermill": {
     "duration": 0.070446,
     "end_time": "2022-07-18T03:44:45.960508",
     "exception": false,
     "start_time": "2022-07-18T03:44:45.890062",
     "status": "completed"
    },
    "tags": []
   },
   "outputs": [],
   "source": [
    "from sklearn.neighbors import KNeighborsClassifier\n",
    "knn = KNeighborsClassifier()\n",
    "knn.fit(X_train, y_train)\n",
    "knn_pred = knn.predict(X_test)"
   ]
  },
  {
   "cell_type": "code",
   "execution_count": 87,
   "id": "176144c5",
   "metadata": {
    "execution": {
     "iopub.execute_input": "2022-07-18T03:44:46.058173Z",
     "iopub.status.busy": "2022-07-18T03:44:46.057356Z",
     "iopub.status.idle": "2022-07-18T03:44:46.065415Z",
     "shell.execute_reply": "2022-07-18T03:44:46.064308Z"
    },
    "papermill": {
     "duration": 0.059862,
     "end_time": "2022-07-18T03:44:46.067515",
     "exception": false,
     "start_time": "2022-07-18T03:44:46.007653",
     "status": "completed"
    },
    "tags": []
   },
   "outputs": [
    {
     "data": {
      "text/plain": [
       "array([1, 1, 0, 0, 1, 0, 1, 0, 1, 1, 0, 0, 0, 0, 0, 1, 1, 0, 0, 0, 0, 0,\n",
       "       0, 0, 0, 0, 1, 0, 1, 0, 0, 0, 0, 1, 0, 0, 0, 1, 0, 0, 1, 0, 0, 0,\n",
       "       0, 0, 1, 0, 0, 1, 0, 0, 0, 1, 0, 0, 0, 0, 0, 0, 0, 0, 0, 1, 0, 0,\n",
       "       0, 0, 1, 0, 0, 1, 0, 0, 0, 0, 0, 0, 0, 0, 1, 0, 0, 0, 0, 0, 0, 0,\n",
       "       0, 0, 0, 0, 1, 0, 1, 0, 0, 0, 0, 0, 0, 1, 0, 0, 0, 0, 0, 0, 0, 0,\n",
       "       0, 0, 0, 0, 0, 0, 0, 0, 0, 1, 1, 1, 0, 0, 1, 1, 1, 1, 0, 1, 0, 0,\n",
       "       1, 0, 0, 0, 0, 0, 0, 0, 0, 0, 0, 1, 1, 1, 0, 0, 0, 1, 0, 0, 0, 0,\n",
       "       0, 1, 0, 1, 0, 1, 0, 1, 0, 0, 0, 0, 0, 0, 1, 0, 0, 1, 0, 0, 0, 0,\n",
       "       0, 1, 1, 0, 0, 1, 0, 1, 1, 0, 1, 0, 0, 1, 0, 1, 0, 0, 0, 0, 0, 0,\n",
       "       0, 0, 0, 0, 1, 0, 0, 1, 0, 0, 1, 0, 0, 1, 0, 1, 1, 0, 0, 1, 0, 0,\n",
       "       0, 0, 0, 0, 0, 0, 1, 0, 0, 0, 0, 0, 0, 0, 1, 0, 0, 0, 0, 0, 1, 0,\n",
       "       1, 1, 1, 1, 0, 1, 0, 0, 0, 0, 0, 1, 0, 0, 0, 1, 0, 0, 0, 0, 0, 0,\n",
       "       0, 1, 0, 1, 1, 0, 0, 0, 1, 0, 0, 0, 1, 0, 1, 0, 0, 1, 0, 0, 0, 1,\n",
       "       0, 1, 0, 1, 0, 0, 0, 0])"
      ]
     },
     "execution_count": 87,
     "metadata": {},
     "output_type": "execute_result"
    }
   ],
   "source": [
    "knn_pred"
   ]
  },
  {
   "cell_type": "code",
   "execution_count": 88,
   "id": "6f24986e",
   "metadata": {
    "execution": {
     "iopub.execute_input": "2022-07-18T03:44:46.165282Z",
     "iopub.status.busy": "2022-07-18T03:44:46.164902Z",
     "iopub.status.idle": "2022-07-18T03:44:46.171098Z",
     "shell.execute_reply": "2022-07-18T03:44:46.169776Z"
    },
    "papermill": {
     "duration": 0.058377,
     "end_time": "2022-07-18T03:44:46.173181",
     "exception": false,
     "start_time": "2022-07-18T03:44:46.114804",
     "status": "completed"
    },
    "tags": []
   },
   "outputs": [
    {
     "name": "stdout",
     "output_type": "stream",
     "text": [
      "Accuracy: 0.5884353741496599\n"
     ]
    }
   ],
   "source": [
    "print(\"Accuracy:\",metrics.accuracy_score(y_test,knn_pred))"
   ]
  },
  {
   "cell_type": "code",
   "execution_count": 89,
   "id": "2a559666",
   "metadata": {
    "execution": {
     "iopub.execute_input": "2022-07-18T03:44:46.269785Z",
     "iopub.status.busy": "2022-07-18T03:44:46.268805Z",
     "iopub.status.idle": "2022-07-18T03:44:46.276179Z",
     "shell.execute_reply": "2022-07-18T03:44:46.274767Z"
    },
    "papermill": {
     "duration": 0.059493,
     "end_time": "2022-07-18T03:44:46.279503",
     "exception": false,
     "start_time": "2022-07-18T03:44:46.220010",
     "status": "completed"
    },
    "tags": []
   },
   "outputs": [
    {
     "name": "stdout",
     "output_type": "stream",
     "text": [
      "AUC: 0.53\n"
     ]
    }
   ],
   "source": [
    "fpr, tpr, _thresholds = metrics.roc_curve(y_test,knn_pred)\n",
    "print(\"AUC:\",round(metrics.auc(fpr,tpr),2)) "
   ]
  },
  {
   "cell_type": "code",
   "execution_count": 90,
   "id": "b7f5c8ed",
   "metadata": {
    "execution": {
     "iopub.execute_input": "2022-07-18T03:44:46.377644Z",
     "iopub.status.busy": "2022-07-18T03:44:46.377222Z",
     "iopub.status.idle": "2022-07-18T03:44:46.608317Z",
     "shell.execute_reply": "2022-07-18T03:44:46.607249Z"
    },
    "papermill": {
     "duration": 0.282279,
     "end_time": "2022-07-18T03:44:46.610534",
     "exception": false,
     "start_time": "2022-07-18T03:44:46.328255",
     "status": "completed"
    },
    "tags": []
   },
   "outputs": [
    {
     "name": "stderr",
     "output_type": "stream",
     "text": [
      "/opt/conda/lib/python3.7/site-packages/sklearn/utils/deprecation.py:87: FutureWarning: Function plot_confusion_matrix is deprecated; Function `plot_confusion_matrix` is deprecated in 1.0 and will be removed in 1.2. Use one of the class methods: ConfusionMatrixDisplay.from_predictions or ConfusionMatrixDisplay.from_estimator.\n",
      "  warnings.warn(msg, category=FutureWarning)\n"
     ]
    },
    {
     "data": {
      "text/plain": [
       "<sklearn.metrics._plot.confusion_matrix.ConfusionMatrixDisplay at 0x7f6765a12a90>"
      ]
     },
     "execution_count": 90,
     "metadata": {},
     "output_type": "execute_result"
    },
    {
     "data": {
      "image/png": "[encoded data removed]",
      "text/plain": [
       "<Figure size 576x360 with 2 Axes>"
      ]
     },
     "metadata": {},
     "output_type": "display_data"
    }
   ],
   "source": [
    "from sklearn import metrics\n",
    "#confusion matrix\n",
    "confusion_matrix=metrics.plot_confusion_matrix(knn,X_test,y_test, cmap=\"GnBu\")\n",
    "confusion_matrix"
   ]
  },
  {
   "cell_type": "code",
   "execution_count": null,
   "id": "81fa645f",
   "metadata": {
    "papermill": {
     "duration": 0.047792,
     "end_time": "2022-07-18T03:44:46.705617",
     "exception": false,
     "start_time": "2022-07-18T03:44:46.657825",
     "status": "completed"
    },
    "tags": []
   },
   "outputs": [],
   "source": []
  },
  {
   "cell_type": "code",
   "execution_count": null,
   "id": "f87f905f",
   "metadata": {
    "papermill": {
     "duration": 0.04739,
     "end_time": "2022-07-18T03:44:46.800649",
     "exception": false,
     "start_time": "2022-07-18T03:44:46.753259",
     "status": "completed"
    },
    "tags": []
   },
   "outputs": [],
   "source": []
  },
  {
   "cell_type": "markdown",
   "id": "b9b0f492",
   "metadata": {
    "papermill": {
     "duration": 0.047155,
     "end_time": "2022-07-18T03:44:46.896768",
     "exception": false,
     "start_time": "2022-07-18T03:44:46.849613",
     "status": "completed"
    },
    "tags": []
   },
   "source": [
    " Naive Bayes"
   ]
  },
  {
   "cell_type": "code",
   "execution_count": 91,
   "id": "b0e6dea0",
   "metadata": {
    "execution": {
     "iopub.execute_input": "2022-07-18T03:44:46.995220Z",
     "iopub.status.busy": "2022-07-18T03:44:46.994245Z",
     "iopub.status.idle": "2022-07-18T03:44:47.006527Z",
     "shell.execute_reply": "2022-07-18T03:44:47.005349Z"
    },
    "papermill": {
     "duration": 0.06507,
     "end_time": "2022-07-18T03:44:47.009326",
     "exception": false,
     "start_time": "2022-07-18T03:44:46.944256",
     "status": "completed"
    },
    "tags": []
   },
   "outputs": [],
   "source": [
    "from sklearn.naive_bayes import GaussianNB\n",
    "gnb = GaussianNB()\n",
    "gnb.fit(X_train, y_train)\n",
    "nb_pred = gnb.predict(X_test)"
   ]
  },
  {
   "cell_type": "code",
   "execution_count": 92,
   "id": "d9e5afe4",
   "metadata": {
    "execution": {
     "iopub.execute_input": "2022-07-18T03:44:47.209175Z",
     "iopub.status.busy": "2022-07-18T03:44:47.208464Z",
     "iopub.status.idle": "2022-07-18T03:44:47.214781Z",
     "shell.execute_reply": "2022-07-18T03:44:47.213967Z"
    },
    "papermill": {
     "duration": 0.05727,
     "end_time": "2022-07-18T03:44:47.217079",
     "exception": false,
     "start_time": "2022-07-18T03:44:47.159809",
     "status": "completed"
    },
    "tags": []
   },
   "outputs": [
    {
     "data": {
      "text/plain": [
       "array([0, 1, 1, 0, 1, 0, 0, 0, 1, 1, 0, 1, 0, 0, 0, 0, 1, 0, 0, 0, 0, 1,\n",
       "       0, 1, 0, 1, 0, 1, 0, 0, 0, 1, 0, 1, 0, 0, 1, 1, 0, 0, 0, 1, 0, 0,\n",
       "       0, 1, 1, 0, 0, 1, 1, 1, 0, 0, 1, 1, 1, 0, 0, 0, 0, 1, 1, 0, 1, 0,\n",
       "       0, 0, 1, 1, 0, 1, 1, 0, 1, 1, 0, 0, 1, 0, 1, 1, 1, 1, 0, 0, 0, 0,\n",
       "       0, 0, 0, 1, 0, 0, 0, 1, 0, 0, 0, 0, 0, 1, 0, 0, 0, 0, 1, 1, 0, 0,\n",
       "       0, 1, 0, 1, 0, 0, 0, 0, 1, 0, 0, 1, 0, 0, 1, 1, 1, 1, 1, 0, 1, 0,\n",
       "       0, 0, 1, 1, 0, 1, 1, 1, 1, 0, 1, 1, 1, 0, 0, 1, 0, 1, 0, 1, 0, 0,\n",
       "       0, 1, 0, 1, 0, 1, 0, 1, 0, 0, 1, 1, 1, 0, 0, 1, 1, 1, 1, 0, 1, 1,\n",
       "       0, 1, 1, 1, 0, 0, 0, 0, 0, 0, 0, 0, 0, 0, 0, 0, 1, 0, 0, 0, 0, 1,\n",
       "       0, 0, 0, 1, 0, 0, 0, 0, 0, 0, 1, 1, 0, 0, 0, 1, 0, 0, 1, 0, 0, 1,\n",
       "       0, 1, 1, 1, 1, 0, 0, 1, 1, 1, 1, 0, 0, 0, 0, 0, 0, 1, 0, 0, 1, 0,\n",
       "       1, 0, 1, 1, 1, 0, 0, 0, 0, 0, 0, 1, 0, 1, 0, 1, 0, 0, 0, 0, 0, 1,\n",
       "       0, 1, 0, 1, 1, 0, 0, 0, 1, 0, 0, 0, 0, 1, 0, 0, 1, 1, 1, 1, 0, 1,\n",
       "       0, 1, 1, 0, 0, 1, 1, 1])"
      ]
     },
     "execution_count": 92,
     "metadata": {},
     "output_type": "execute_result"
    }
   ],
   "source": [
    "nb_pred"
   ]
  },
  {
   "cell_type": "code",
   "execution_count": 93,
   "id": "5a09de02",
   "metadata": {
    "execution": {
     "iopub.execute_input": "2022-07-18T03:44:47.315313Z",
     "iopub.status.busy": "2022-07-18T03:44:47.314667Z",
     "iopub.status.idle": "2022-07-18T03:44:47.320424Z",
     "shell.execute_reply": "2022-07-18T03:44:47.319023Z"
    },
    "papermill": {
     "duration": 0.05742,
     "end_time": "2022-07-18T03:44:47.322604",
     "exception": false,
     "start_time": "2022-07-18T03:44:47.265184",
     "status": "completed"
    },
    "tags": []
   },
   "outputs": [
    {
     "name": "stdout",
     "output_type": "stream",
     "text": [
      "Accuracy: 0.782312925170068\n"
     ]
    }
   ],
   "source": [
    "print(\"Accuracy:\",metrics.accuracy_score(y_test,nb_pred))"
   ]
  },
  {
   "cell_type": "code",
   "execution_count": 94,
   "id": "0dcf2fd0",
   "metadata": {
    "execution": {
     "iopub.execute_input": "2022-07-18T03:44:47.421144Z",
     "iopub.status.busy": "2022-07-18T03:44:47.420418Z",
     "iopub.status.idle": "2022-07-18T03:44:47.426983Z",
     "shell.execute_reply": "2022-07-18T03:44:47.425754Z"
    },
    "papermill": {
     "duration": 0.05995,
     "end_time": "2022-07-18T03:44:47.430305",
     "exception": false,
     "start_time": "2022-07-18T03:44:47.370355",
     "status": "completed"
    },
    "tags": []
   },
   "outputs": [
    {
     "name": "stdout",
     "output_type": "stream",
     "text": [
      "AUC: 0.78\n"
     ]
    }
   ],
   "source": [
    "fpr, tpr, _thresholds = metrics.roc_curve(y_test,nb_pred)\n",
    "print(\"AUC:\",round(metrics.auc(fpr,tpr),2)) "
   ]
  },
  {
   "cell_type": "code",
   "execution_count": 95,
   "id": "4d71a174",
   "metadata": {
    "execution": {
     "iopub.execute_input": "2022-07-18T03:44:47.528916Z",
     "iopub.status.busy": "2022-07-18T03:44:47.528228Z",
     "iopub.status.idle": "2022-07-18T03:44:47.752603Z",
     "shell.execute_reply": "2022-07-18T03:44:47.751488Z"
    },
    "papermill": {
     "duration": 0.276053,
     "end_time": "2022-07-18T03:44:47.755114",
     "exception": false,
     "start_time": "2022-07-18T03:44:47.479061",
     "status": "completed"
    },
    "tags": []
   },
   "outputs": [
    {
     "name": "stderr",
     "output_type": "stream",
     "text": [
      "/opt/conda/lib/python3.7/site-packages/sklearn/utils/deprecation.py:87: FutureWarning: Function plot_confusion_matrix is deprecated; Function `plot_confusion_matrix` is deprecated in 1.0 and will be removed in 1.2. Use one of the class methods: ConfusionMatrixDisplay.from_predictions or ConfusionMatrixDisplay.from_estimator.\n",
      "  warnings.warn(msg, category=FutureWarning)\n"
     ]
    },
    {
     "data": {
      "text/plain": [
       "<sklearn.metrics._plot.confusion_matrix.ConfusionMatrixDisplay at 0x7f67658958d0>"
      ]
     },
     "execution_count": 95,
     "metadata": {},
     "output_type": "execute_result"
    },
    {
     "data": {
      "image/png": "[encoded data removed]",
      "text/plain": [
       "<Figure size 576x360 with 2 Axes>"
      ]
     },
     "metadata": {},
     "output_type": "display_data"
    }
   ],
   "source": [
    "from sklearn import metrics\n",
    "#confusion matrix\n",
    "confusion_matrix=metrics.plot_confusion_matrix(gnb,X_test,y_test, cmap=\"GnBu\")\n",
    "confusion_matrix"
   ]
  },
  {
   "cell_type": "code",
   "execution_count": null,
   "id": "c8af390d",
   "metadata": {
    "papermill": {
     "duration": 0.050193,
     "end_time": "2022-07-18T03:44:47.855648",
     "exception": false,
     "start_time": "2022-07-18T03:44:47.805455",
     "status": "completed"
    },
    "tags": []
   },
   "outputs": [],
   "source": []
  },
  {
   "cell_type": "code",
   "execution_count": 96,
   "id": "65064002",
   "metadata": {
    "execution": {
     "iopub.execute_input": "2022-07-18T03:44:47.955918Z",
     "iopub.status.busy": "2022-07-18T03:44:47.955552Z",
     "iopub.status.idle": "2022-07-18T03:44:47.961627Z",
     "shell.execute_reply": "2022-07-18T03:44:47.960481Z"
    },
    "papermill": {
     "duration": 0.059371,
     "end_time": "2022-07-18T03:44:47.963907",
     "exception": false,
     "start_time": "2022-07-18T03:44:47.904536",
     "status": "completed"
    },
    "tags": []
   },
   "outputs": [],
   "source": [
    "auc_list=[0.79,0.53,0.53,0.72,0.76,0.78,]\n",
    "acc_list=[0.7959183673469388,0.6428571428571429,0.5884353741496599,0.7346938775510204,0.7857142857142857,0.782312925170068,]\n",
    "model_list=[\"Logistic Regression\",\"SVM\",\"KNN\",\"Decision Tree\",\"Random Forest\",\"Naives Bayes\"]\n",
    "acc_list=[round(num,2) for num in acc_list]"
   ]
  },
  {
   "cell_type": "code",
   "execution_count": 97,
   "id": "93ed924d",
   "metadata": {
    "execution": {
     "iopub.execute_input": "2022-07-18T03:44:48.064872Z",
     "iopub.status.busy": "2022-07-18T03:44:48.064243Z",
     "iopub.status.idle": "2022-07-18T03:44:48.076460Z",
     "shell.execute_reply": "2022-07-18T03:44:48.075303Z"
    },
    "papermill": {
     "duration": 0.064934,
     "end_time": "2022-07-18T03:44:48.078535",
     "exception": false,
     "start_time": "2022-07-18T03:44:48.013601",
     "status": "completed"
    },
    "tags": []
   },
   "outputs": [
    {
     "data": {
      "text/html": [
       "<div>\n",
       "<style scoped>\n",
       "    .dataframe tbody tr th:only-of-type {\n",
       "        vertical-align: middle;\n",
       "    }\n",
       "\n",
       "    .dataframe tbody tr th {\n",
       "        vertical-align: top;\n",
       "    }\n",
       "\n",
       "    .dataframe thead th {\n",
       "        text-align: right;\n",
       "    }\n",
       "</style>\n",
       "<table border=\"1\" class=\"dataframe\">\n",
       "  <thead>\n",
       "    <tr style=\"text-align: right;\">\n",
       "      <th></th>\n",
       "      <th>Model</th>\n",
       "      <th>Accuracy</th>\n",
       "      <th>AUC</th>\n",
       "    </tr>\n",
       "  </thead>\n",
       "  <tbody>\n",
       "    <tr>\n",
       "      <th>0</th>\n",
       "      <td>Logistic Regression</td>\n",
       "      <td>0.80</td>\n",
       "      <td>0.79</td>\n",
       "    </tr>\n",
       "    <tr>\n",
       "      <th>1</th>\n",
       "      <td>SVM</td>\n",
       "      <td>0.64</td>\n",
       "      <td>0.53</td>\n",
       "    </tr>\n",
       "    <tr>\n",
       "      <th>2</th>\n",
       "      <td>KNN</td>\n",
       "      <td>0.59</td>\n",
       "      <td>0.53</td>\n",
       "    </tr>\n",
       "    <tr>\n",
       "      <th>3</th>\n",
       "      <td>Decision Tree</td>\n",
       "      <td>0.73</td>\n",
       "      <td>0.72</td>\n",
       "    </tr>\n",
       "    <tr>\n",
       "      <th>4</th>\n",
       "      <td>Random Forest</td>\n",
       "      <td>0.79</td>\n",
       "      <td>0.76</td>\n",
       "    </tr>\n",
       "    <tr>\n",
       "      <th>5</th>\n",
       "      <td>Naives Bayes</td>\n",
       "      <td>0.78</td>\n",
       "      <td>0.78</td>\n",
       "    </tr>\n",
       "  </tbody>\n",
       "</table>\n",
       "</div>"
      ],
      "text/plain": [
       "                 Model  Accuracy   AUC\n",
       "0  Logistic Regression      0.80  0.79\n",
       "1                  SVM      0.64  0.53\n",
       "2                  KNN      0.59  0.53\n",
       "3        Decision Tree      0.73  0.72\n",
       "4        Random Forest      0.79  0.76\n",
       "5         Naives Bayes      0.78  0.78"
      ]
     },
     "execution_count": 97,
     "metadata": {},
     "output_type": "execute_result"
    }
   ],
   "source": [
    "#Accuracy and AUC\n",
    "result_df=pd.DataFrame({\"Model\":model_list, \"Accuracy\":acc_list, \"AUC\":auc_list})\n",
    "result_df"
   ]
  },
  {
   "cell_type": "code",
   "execution_count": null,
   "id": "e28344bc",
   "metadata": {
    "papermill": {
     "duration": 0.053094,
     "end_time": "2022-07-18T03:44:48.179771",
     "exception": false,
     "start_time": "2022-07-18T03:44:48.126677",
     "status": "completed"
    },
    "tags": []
   },
   "outputs": [],
   "source": []
  },
  {
   "cell_type": "code",
   "execution_count": 98,
   "id": "dde4c683",
   "metadata": {
    "execution": {
     "iopub.execute_input": "2022-07-18T03:44:48.280043Z",
     "iopub.status.busy": "2022-07-18T03:44:48.279427Z",
     "iopub.status.idle": "2022-07-18T03:44:48.308427Z",
     "shell.execute_reply": "2022-07-18T03:44:48.307326Z"
    },
    "papermill": {
     "duration": 0.081288,
     "end_time": "2022-07-18T03:44:48.310619",
     "exception": false,
     "start_time": "2022-07-18T03:44:48.229331",
     "status": "completed"
    },
    "tags": []
   },
   "outputs": [
    {
     "data": {
      "text/html": [
       "<div>\n",
       "<style scoped>\n",
       "    .dataframe tbody tr th:only-of-type {\n",
       "        vertical-align: middle;\n",
       "    }\n",
       "\n",
       "    .dataframe tbody tr th {\n",
       "        vertical-align: top;\n",
       "    }\n",
       "\n",
       "    .dataframe thead th {\n",
       "        text-align: right;\n",
       "    }\n",
       "</style>\n",
       "<table border=\"1\" class=\"dataframe\">\n",
       "  <thead>\n",
       "    <tr style=\"text-align: right;\">\n",
       "      <th></th>\n",
       "      <th>PassengerId</th>\n",
       "      <th>Pclass</th>\n",
       "      <th>Name</th>\n",
       "      <th>Sex</th>\n",
       "      <th>Age</th>\n",
       "      <th>SibSp</th>\n",
       "      <th>Parch</th>\n",
       "      <th>Ticket</th>\n",
       "      <th>Fare</th>\n",
       "      <th>Cabin</th>\n",
       "      <th>Embarked</th>\n",
       "    </tr>\n",
       "  </thead>\n",
       "  <tbody>\n",
       "    <tr>\n",
       "      <th>0</th>\n",
       "      <td>892</td>\n",
       "      <td>3</td>\n",
       "      <td>Kelly, Mr. James</td>\n",
       "      <td>male</td>\n",
       "      <td>34.5</td>\n",
       "      <td>0</td>\n",
       "      <td>0</td>\n",
       "      <td>330911</td>\n",
       "      <td>7.8292</td>\n",
       "      <td>NaN</td>\n",
       "      <td>Q</td>\n",
       "    </tr>\n",
       "    <tr>\n",
       "      <th>1</th>\n",
       "      <td>893</td>\n",
       "      <td>3</td>\n",
       "      <td>Wilkes, Mrs. James (Ellen Needs)</td>\n",
       "      <td>female</td>\n",
       "      <td>47.0</td>\n",
       "      <td>1</td>\n",
       "      <td>0</td>\n",
       "      <td>363272</td>\n",
       "      <td>7.0000</td>\n",
       "      <td>NaN</td>\n",
       "      <td>S</td>\n",
       "    </tr>\n",
       "    <tr>\n",
       "      <th>2</th>\n",
       "      <td>894</td>\n",
       "      <td>2</td>\n",
       "      <td>Myles, Mr. Thomas Francis</td>\n",
       "      <td>male</td>\n",
       "      <td>62.0</td>\n",
       "      <td>0</td>\n",
       "      <td>0</td>\n",
       "      <td>240276</td>\n",
       "      <td>9.6875</td>\n",
       "      <td>NaN</td>\n",
       "      <td>Q</td>\n",
       "    </tr>\n",
       "    <tr>\n",
       "      <th>3</th>\n",
       "      <td>895</td>\n",
       "      <td>3</td>\n",
       "      <td>Wirz, Mr. Albert</td>\n",
       "      <td>male</td>\n",
       "      <td>27.0</td>\n",
       "      <td>0</td>\n",
       "      <td>0</td>\n",
       "      <td>315154</td>\n",
       "      <td>8.6625</td>\n",
       "      <td>NaN</td>\n",
       "      <td>S</td>\n",
       "    </tr>\n",
       "    <tr>\n",
       "      <th>4</th>\n",
       "      <td>896</td>\n",
       "      <td>3</td>\n",
       "      <td>Hirvonen, Mrs. Alexander (Helga E Lindqvist)</td>\n",
       "      <td>female</td>\n",
       "      <td>22.0</td>\n",
       "      <td>1</td>\n",
       "      <td>1</td>\n",
       "      <td>3101298</td>\n",
       "      <td>12.2875</td>\n",
       "      <td>NaN</td>\n",
       "      <td>S</td>\n",
       "    </tr>\n",
       "    <tr>\n",
       "      <th>...</th>\n",
       "      <td>...</td>\n",
       "      <td>...</td>\n",
       "      <td>...</td>\n",
       "      <td>...</td>\n",
       "      <td>...</td>\n",
       "      <td>...</td>\n",
       "      <td>...</td>\n",
       "      <td>...</td>\n",
       "      <td>...</td>\n",
       "      <td>...</td>\n",
       "      <td>...</td>\n",
       "    </tr>\n",
       "    <tr>\n",
       "      <th>413</th>\n",
       "      <td>1305</td>\n",
       "      <td>3</td>\n",
       "      <td>Spector, Mr. Woolf</td>\n",
       "      <td>male</td>\n",
       "      <td>NaN</td>\n",
       "      <td>0</td>\n",
       "      <td>0</td>\n",
       "      <td>A.5. 3236</td>\n",
       "      <td>8.0500</td>\n",
       "      <td>NaN</td>\n",
       "      <td>S</td>\n",
       "    </tr>\n",
       "    <tr>\n",
       "      <th>414</th>\n",
       "      <td>1306</td>\n",
       "      <td>1</td>\n",
       "      <td>Oliva y Ocana, Dona. Fermina</td>\n",
       "      <td>female</td>\n",
       "      <td>39.0</td>\n",
       "      <td>0</td>\n",
       "      <td>0</td>\n",
       "      <td>PC 17758</td>\n",
       "      <td>108.9000</td>\n",
       "      <td>C105</td>\n",
       "      <td>C</td>\n",
       "    </tr>\n",
       "    <tr>\n",
       "      <th>415</th>\n",
       "      <td>1307</td>\n",
       "      <td>3</td>\n",
       "      <td>Saether, Mr. Simon Sivertsen</td>\n",
       "      <td>male</td>\n",
       "      <td>38.5</td>\n",
       "      <td>0</td>\n",
       "      <td>0</td>\n",
       "      <td>SOTON/O.Q. 3101262</td>\n",
       "      <td>7.2500</td>\n",
       "      <td>NaN</td>\n",
       "      <td>S</td>\n",
       "    </tr>\n",
       "    <tr>\n",
       "      <th>416</th>\n",
       "      <td>1308</td>\n",
       "      <td>3</td>\n",
       "      <td>Ware, Mr. Frederick</td>\n",
       "      <td>male</td>\n",
       "      <td>NaN</td>\n",
       "      <td>0</td>\n",
       "      <td>0</td>\n",
       "      <td>359309</td>\n",
       "      <td>8.0500</td>\n",
       "      <td>NaN</td>\n",
       "      <td>S</td>\n",
       "    </tr>\n",
       "    <tr>\n",
       "      <th>417</th>\n",
       "      <td>1309</td>\n",
       "      <td>3</td>\n",
       "      <td>Peter, Master. Michael J</td>\n",
       "      <td>male</td>\n",
       "      <td>NaN</td>\n",
       "      <td>1</td>\n",
       "      <td>1</td>\n",
       "      <td>2668</td>\n",
       "      <td>22.3583</td>\n",
       "      <td>NaN</td>\n",
       "      <td>C</td>\n",
       "    </tr>\n",
       "  </tbody>\n",
       "</table>\n",
       "<p>418 rows × 11 columns</p>\n",
       "</div>"
      ],
      "text/plain": [
       "     PassengerId  Pclass                                          Name  \\\n",
       "0            892       3                              Kelly, Mr. James   \n",
       "1            893       3              Wilkes, Mrs. James (Ellen Needs)   \n",
       "2            894       2                     Myles, Mr. Thomas Francis   \n",
       "3            895       3                              Wirz, Mr. Albert   \n",
       "4            896       3  Hirvonen, Mrs. Alexander (Helga E Lindqvist)   \n",
       "..           ...     ...                                           ...   \n",
       "413         1305       3                            Spector, Mr. Woolf   \n",
       "414         1306       1                  Oliva y Ocana, Dona. Fermina   \n",
       "415         1307       3                  Saether, Mr. Simon Sivertsen   \n",
       "416         1308       3                           Ware, Mr. Frederick   \n",
       "417         1309       3                      Peter, Master. Michael J   \n",
       "\n",
       "        Sex   Age  SibSp  Parch              Ticket      Fare Cabin Embarked  \n",
       "0      male  34.5      0      0              330911    7.8292   NaN        Q  \n",
       "1    female  47.0      1      0              363272    7.0000   NaN        S  \n",
       "2      male  62.0      0      0              240276    9.6875   NaN        Q  \n",
       "3      male  27.0      0      0              315154    8.6625   NaN        S  \n",
       "4    female  22.0      1      1             3101298   12.2875   NaN        S  \n",
       "..      ...   ...    ...    ...                 ...       ...   ...      ...  \n",
       "413    male   NaN      0      0           A.5. 3236    8.0500   NaN        S  \n",
       "414  female  39.0      0      0            PC 17758  108.9000  C105        C  \n",
       "415    male  38.5      0      0  SOTON/O.Q. 3101262    7.2500   NaN        S  \n",
       "416    male   NaN      0      0              359309    8.0500   NaN        S  \n",
       "417    male   NaN      1      1                2668   22.3583   NaN        C  \n",
       "\n",
       "[418 rows x 11 columns]"
      ]
     },
     "execution_count": 98,
     "metadata": {},
     "output_type": "execute_result"
    }
   ],
   "source": [
    "test_data=pd.read_csv(\"/kaggle/input/titanic/test.csv\")\n",
    "test_data"
   ]
  },
  {
   "cell_type": "code",
   "execution_count": 99,
   "id": "a5435d73",
   "metadata": {
    "execution": {
     "iopub.execute_input": "2022-07-18T03:44:48.410140Z",
     "iopub.status.busy": "2022-07-18T03:44:48.409580Z",
     "iopub.status.idle": "2022-07-18T03:44:48.416005Z",
     "shell.execute_reply": "2022-07-18T03:44:48.414950Z"
    },
    "papermill": {
     "duration": 0.058657,
     "end_time": "2022-07-18T03:44:48.418331",
     "exception": false,
     "start_time": "2022-07-18T03:44:48.359674",
     "status": "completed"
    },
    "tags": []
   },
   "outputs": [
    {
     "data": {
      "text/plain": [
       "(418, 11)"
      ]
     },
     "execution_count": 99,
     "metadata": {},
     "output_type": "execute_result"
    }
   ],
   "source": [
    "test_data.shape"
   ]
  },
  {
   "cell_type": "code",
   "execution_count": 100,
   "id": "f80dd2c7",
   "metadata": {
    "execution": {
     "iopub.execute_input": "2022-07-18T03:44:48.517865Z",
     "iopub.status.busy": "2022-07-18T03:44:48.517481Z",
     "iopub.status.idle": "2022-07-18T03:44:48.526532Z",
     "shell.execute_reply": "2022-07-18T03:44:48.525550Z"
    },
    "papermill": {
     "duration": 0.061626,
     "end_time": "2022-07-18T03:44:48.528523",
     "exception": false,
     "start_time": "2022-07-18T03:44:48.466897",
     "status": "completed"
    },
    "tags": []
   },
   "outputs": [
    {
     "data": {
      "text/plain": [
       "PassengerId      0\n",
       "Pclass           0\n",
       "Name             0\n",
       "Sex              0\n",
       "Age             86\n",
       "SibSp            0\n",
       "Parch            0\n",
       "Ticket           0\n",
       "Fare             1\n",
       "Cabin          327\n",
       "Embarked         0\n",
       "dtype: int64"
      ]
     },
     "execution_count": 100,
     "metadata": {},
     "output_type": "execute_result"
    }
   ],
   "source": [
    "test_data.isna().sum()"
   ]
  },
  {
   "cell_type": "code",
   "execution_count": 101,
   "id": "57056b29",
   "metadata": {
    "execution": {
     "iopub.execute_input": "2022-07-18T03:44:48.629383Z",
     "iopub.status.busy": "2022-07-18T03:44:48.628560Z",
     "iopub.status.idle": "2022-07-18T03:44:48.652308Z",
     "shell.execute_reply": "2022-07-18T03:44:48.651140Z"
    },
    "papermill": {
     "duration": 0.077365,
     "end_time": "2022-07-18T03:44:48.654650",
     "exception": false,
     "start_time": "2022-07-18T03:44:48.577285",
     "status": "completed"
    },
    "tags": []
   },
   "outputs": [
    {
     "data": {
      "text/html": [
       "<div>\n",
       "<style scoped>\n",
       "    .dataframe tbody tr th:only-of-type {\n",
       "        vertical-align: middle;\n",
       "    }\n",
       "\n",
       "    .dataframe tbody tr th {\n",
       "        vertical-align: top;\n",
       "    }\n",
       "\n",
       "    .dataframe thead th {\n",
       "        text-align: right;\n",
       "    }\n",
       "</style>\n",
       "<table border=\"1\" class=\"dataframe\">\n",
       "  <thead>\n",
       "    <tr style=\"text-align: right;\">\n",
       "      <th></th>\n",
       "      <th>PassengerId</th>\n",
       "      <th>Pclass</th>\n",
       "      <th>Name</th>\n",
       "      <th>Sex</th>\n",
       "      <th>Age</th>\n",
       "      <th>SibSp</th>\n",
       "      <th>Parch</th>\n",
       "      <th>Ticket</th>\n",
       "      <th>Fare</th>\n",
       "      <th>Cabin</th>\n",
       "      <th>Embarked</th>\n",
       "    </tr>\n",
       "  </thead>\n",
       "  <tbody>\n",
       "    <tr>\n",
       "      <th>0</th>\n",
       "      <td>892</td>\n",
       "      <td>3</td>\n",
       "      <td>Kelly, Mr. James</td>\n",
       "      <td>male</td>\n",
       "      <td>34.5</td>\n",
       "      <td>0</td>\n",
       "      <td>0</td>\n",
       "      <td>330911</td>\n",
       "      <td>7.8292</td>\n",
       "      <td>NaN</td>\n",
       "      <td>Q</td>\n",
       "    </tr>\n",
       "    <tr>\n",
       "      <th>1</th>\n",
       "      <td>893</td>\n",
       "      <td>3</td>\n",
       "      <td>Wilkes, Mrs. James (Ellen Needs)</td>\n",
       "      <td>female</td>\n",
       "      <td>47.0</td>\n",
       "      <td>1</td>\n",
       "      <td>0</td>\n",
       "      <td>363272</td>\n",
       "      <td>7.0000</td>\n",
       "      <td>NaN</td>\n",
       "      <td>S</td>\n",
       "    </tr>\n",
       "    <tr>\n",
       "      <th>2</th>\n",
       "      <td>894</td>\n",
       "      <td>2</td>\n",
       "      <td>Myles, Mr. Thomas Francis</td>\n",
       "      <td>male</td>\n",
       "      <td>62.0</td>\n",
       "      <td>0</td>\n",
       "      <td>0</td>\n",
       "      <td>240276</td>\n",
       "      <td>9.6875</td>\n",
       "      <td>NaN</td>\n",
       "      <td>Q</td>\n",
       "    </tr>\n",
       "    <tr>\n",
       "      <th>3</th>\n",
       "      <td>895</td>\n",
       "      <td>3</td>\n",
       "      <td>Wirz, Mr. Albert</td>\n",
       "      <td>male</td>\n",
       "      <td>27.0</td>\n",
       "      <td>0</td>\n",
       "      <td>0</td>\n",
       "      <td>315154</td>\n",
       "      <td>8.6625</td>\n",
       "      <td>NaN</td>\n",
       "      <td>S</td>\n",
       "    </tr>\n",
       "    <tr>\n",
       "      <th>4</th>\n",
       "      <td>896</td>\n",
       "      <td>3</td>\n",
       "      <td>Hirvonen, Mrs. Alexander (Helga E Lindqvist)</td>\n",
       "      <td>female</td>\n",
       "      <td>22.0</td>\n",
       "      <td>1</td>\n",
       "      <td>1</td>\n",
       "      <td>3101298</td>\n",
       "      <td>12.2875</td>\n",
       "      <td>NaN</td>\n",
       "      <td>S</td>\n",
       "    </tr>\n",
       "    <tr>\n",
       "      <th>...</th>\n",
       "      <td>...</td>\n",
       "      <td>...</td>\n",
       "      <td>...</td>\n",
       "      <td>...</td>\n",
       "      <td>...</td>\n",
       "      <td>...</td>\n",
       "      <td>...</td>\n",
       "      <td>...</td>\n",
       "      <td>...</td>\n",
       "      <td>...</td>\n",
       "      <td>...</td>\n",
       "    </tr>\n",
       "    <tr>\n",
       "      <th>413</th>\n",
       "      <td>1305</td>\n",
       "      <td>3</td>\n",
       "      <td>Spector, Mr. Woolf</td>\n",
       "      <td>male</td>\n",
       "      <td>-1.0</td>\n",
       "      <td>0</td>\n",
       "      <td>0</td>\n",
       "      <td>A.5. 3236</td>\n",
       "      <td>8.0500</td>\n",
       "      <td>NaN</td>\n",
       "      <td>S</td>\n",
       "    </tr>\n",
       "    <tr>\n",
       "      <th>414</th>\n",
       "      <td>1306</td>\n",
       "      <td>1</td>\n",
       "      <td>Oliva y Ocana, Dona. Fermina</td>\n",
       "      <td>female</td>\n",
       "      <td>39.0</td>\n",
       "      <td>0</td>\n",
       "      <td>0</td>\n",
       "      <td>PC 17758</td>\n",
       "      <td>108.9000</td>\n",
       "      <td>C105</td>\n",
       "      <td>C</td>\n",
       "    </tr>\n",
       "    <tr>\n",
       "      <th>415</th>\n",
       "      <td>1307</td>\n",
       "      <td>3</td>\n",
       "      <td>Saether, Mr. Simon Sivertsen</td>\n",
       "      <td>male</td>\n",
       "      <td>38.5</td>\n",
       "      <td>0</td>\n",
       "      <td>0</td>\n",
       "      <td>SOTON/O.Q. 3101262</td>\n",
       "      <td>7.2500</td>\n",
       "      <td>NaN</td>\n",
       "      <td>S</td>\n",
       "    </tr>\n",
       "    <tr>\n",
       "      <th>416</th>\n",
       "      <td>1308</td>\n",
       "      <td>3</td>\n",
       "      <td>Ware, Mr. Frederick</td>\n",
       "      <td>male</td>\n",
       "      <td>-1.0</td>\n",
       "      <td>0</td>\n",
       "      <td>0</td>\n",
       "      <td>359309</td>\n",
       "      <td>8.0500</td>\n",
       "      <td>NaN</td>\n",
       "      <td>S</td>\n",
       "    </tr>\n",
       "    <tr>\n",
       "      <th>417</th>\n",
       "      <td>1309</td>\n",
       "      <td>3</td>\n",
       "      <td>Peter, Master. Michael J</td>\n",
       "      <td>male</td>\n",
       "      <td>-1.0</td>\n",
       "      <td>1</td>\n",
       "      <td>1</td>\n",
       "      <td>2668</td>\n",
       "      <td>22.3583</td>\n",
       "      <td>NaN</td>\n",
       "      <td>C</td>\n",
       "    </tr>\n",
       "  </tbody>\n",
       "</table>\n",
       "<p>418 rows × 11 columns</p>\n",
       "</div>"
      ],
      "text/plain": [
       "     PassengerId  Pclass                                          Name  \\\n",
       "0            892       3                              Kelly, Mr. James   \n",
       "1            893       3              Wilkes, Mrs. James (Ellen Needs)   \n",
       "2            894       2                     Myles, Mr. Thomas Francis   \n",
       "3            895       3                              Wirz, Mr. Albert   \n",
       "4            896       3  Hirvonen, Mrs. Alexander (Helga E Lindqvist)   \n",
       "..           ...     ...                                           ...   \n",
       "413         1305       3                            Spector, Mr. Woolf   \n",
       "414         1306       1                  Oliva y Ocana, Dona. Fermina   \n",
       "415         1307       3                  Saether, Mr. Simon Sivertsen   \n",
       "416         1308       3                           Ware, Mr. Frederick   \n",
       "417         1309       3                      Peter, Master. Michael J   \n",
       "\n",
       "        Sex   Age  SibSp  Parch              Ticket      Fare Cabin Embarked  \n",
       "0      male  34.5      0      0              330911    7.8292   NaN        Q  \n",
       "1    female  47.0      1      0              363272    7.0000   NaN        S  \n",
       "2      male  62.0      0      0              240276    9.6875   NaN        Q  \n",
       "3      male  27.0      0      0              315154    8.6625   NaN        S  \n",
       "4    female  22.0      1      1             3101298   12.2875   NaN        S  \n",
       "..      ...   ...    ...    ...                 ...       ...   ...      ...  \n",
       "413    male  -1.0      0      0           A.5. 3236    8.0500   NaN        S  \n",
       "414  female  39.0      0      0            PC 17758  108.9000  C105        C  \n",
       "415    male  38.5      0      0  SOTON/O.Q. 3101262    7.2500   NaN        S  \n",
       "416    male  -1.0      0      0              359309    8.0500   NaN        S  \n",
       "417    male  -1.0      1      1                2668   22.3583   NaN        C  \n",
       "\n",
       "[418 rows x 11 columns]"
      ]
     },
     "execution_count": 101,
     "metadata": {},
     "output_type": "execute_result"
    }
   ],
   "source": [
    "\n",
    "#replace Null values in \"Age:-Column\"\n",
    "test_data[\"Age\"].fillna(-1, inplace = True)\n",
    "test_data.Age.dtype\n",
    "\n",
    "test_data['Fare'].fillna(test_data['Fare'].median(), inplace=True)\n",
    "test_data"
   ]
  },
  {
   "cell_type": "code",
   "execution_count": 102,
   "id": "6e03cf86",
   "metadata": {
    "execution": {
     "iopub.execute_input": "2022-07-18T03:44:48.758957Z",
     "iopub.status.busy": "2022-07-18T03:44:48.757936Z",
     "iopub.status.idle": "2022-07-18T03:44:48.767798Z",
     "shell.execute_reply": "2022-07-18T03:44:48.766623Z"
    },
    "papermill": {
     "duration": 0.064868,
     "end_time": "2022-07-18T03:44:48.770262",
     "exception": false,
     "start_time": "2022-07-18T03:44:48.705394",
     "status": "completed"
    },
    "tags": []
   },
   "outputs": [
    {
     "data": {
      "text/plain": [
       "PassengerId      0\n",
       "Pclass           0\n",
       "Name             0\n",
       "Sex              0\n",
       "Age              0\n",
       "SibSp            0\n",
       "Parch            0\n",
       "Ticket           0\n",
       "Fare             0\n",
       "Cabin          327\n",
       "Embarked         0\n",
       "dtype: int64"
      ]
     },
     "execution_count": 102,
     "metadata": {},
     "output_type": "execute_result"
    }
   ],
   "source": [
    "test_data.isna().sum()"
   ]
  },
  {
   "cell_type": "code",
   "execution_count": 103,
   "id": "165c1c48",
   "metadata": {
    "execution": {
     "iopub.execute_input": "2022-07-18T03:44:48.876297Z",
     "iopub.status.busy": "2022-07-18T03:44:48.875745Z",
     "iopub.status.idle": "2022-07-18T03:44:48.891366Z",
     "shell.execute_reply": "2022-07-18T03:44:48.890075Z"
    },
    "papermill": {
     "duration": 0.07348,
     "end_time": "2022-07-18T03:44:48.893855",
     "exception": false,
     "start_time": "2022-07-18T03:44:48.820375",
     "status": "completed"
    },
    "tags": []
   },
   "outputs": [
    {
     "name": "stdout",
     "output_type": "stream",
     "text": [
      "<class 'pandas.core.frame.DataFrame'>\n",
      "RangeIndex: 418 entries, 0 to 417\n",
      "Data columns (total 11 columns):\n",
      " #   Column       Non-Null Count  Dtype  \n",
      "---  ------       --------------  -----  \n",
      " 0   PassengerId  418 non-null    int64  \n",
      " 1   Pclass       418 non-null    int64  \n",
      " 2   Name         418 non-null    object \n",
      " 3   Sex          418 non-null    object \n",
      " 4   Age          418 non-null    float64\n",
      " 5   SibSp        418 non-null    int64  \n",
      " 6   Parch        418 non-null    int64  \n",
      " 7   Ticket       418 non-null    object \n",
      " 8   Fare         418 non-null    float64\n",
      " 9   Cabin        91 non-null     object \n",
      " 10  Embarked     418 non-null    object \n",
      "dtypes: float64(2), int64(4), object(5)\n",
      "memory usage: 36.0+ KB\n"
     ]
    }
   ],
   "source": [
    "test_data.info()"
   ]
  },
  {
   "cell_type": "code",
   "execution_count": 104,
   "id": "f3f4298b",
   "metadata": {
    "execution": {
     "iopub.execute_input": "2022-07-18T03:44:48.998242Z",
     "iopub.status.busy": "2022-07-18T03:44:48.997842Z",
     "iopub.status.idle": "2022-07-18T03:44:49.007232Z",
     "shell.execute_reply": "2022-07-18T03:44:49.006102Z"
    },
    "papermill": {
     "duration": 0.064572,
     "end_time": "2022-07-18T03:44:49.009338",
     "exception": false,
     "start_time": "2022-07-18T03:44:48.944766",
     "status": "completed"
    },
    "tags": []
   },
   "outputs": [],
   "source": [
    "#replace Null values in \"Cabin:-Column\"\n",
    "test_data[\"Cabin\"].fillna(\"Cabinless\", inplace = True)\n",
    "test_data.dropna(inplace=True)"
   ]
  },
  {
   "cell_type": "code",
   "execution_count": 105,
   "id": "2aad41e3",
   "metadata": {
    "execution": {
     "iopub.execute_input": "2022-07-18T03:44:49.112698Z",
     "iopub.status.busy": "2022-07-18T03:44:49.112270Z",
     "iopub.status.idle": "2022-07-18T03:44:49.122214Z",
     "shell.execute_reply": "2022-07-18T03:44:49.120384Z"
    },
    "papermill": {
     "duration": 0.064779,
     "end_time": "2022-07-18T03:44:49.124651",
     "exception": false,
     "start_time": "2022-07-18T03:44:49.059872",
     "status": "completed"
    },
    "tags": []
   },
   "outputs": [
    {
     "data": {
      "text/plain": [
       "PassengerId    0\n",
       "Pclass         0\n",
       "Name           0\n",
       "Sex            0\n",
       "Age            0\n",
       "SibSp          0\n",
       "Parch          0\n",
       "Ticket         0\n",
       "Fare           0\n",
       "Cabin          0\n",
       "Embarked       0\n",
       "dtype: int64"
      ]
     },
     "execution_count": 105,
     "metadata": {},
     "output_type": "execute_result"
    }
   ],
   "source": [
    "test_data.isna().sum()"
   ]
  },
  {
   "cell_type": "code",
   "execution_count": 106,
   "id": "9622e767",
   "metadata": {
    "execution": {
     "iopub.execute_input": "2022-07-18T03:44:49.232926Z",
     "iopub.status.busy": "2022-07-18T03:44:49.232429Z",
     "iopub.status.idle": "2022-07-18T03:44:49.239013Z",
     "shell.execute_reply": "2022-07-18T03:44:49.238205Z"
    },
    "papermill": {
     "duration": 0.064093,
     "end_time": "2022-07-18T03:44:49.241299",
     "exception": false,
     "start_time": "2022-07-18T03:44:49.177206",
     "status": "completed"
    },
    "tags": []
   },
   "outputs": [
    {
     "data": {
      "text/plain": [
       "(418, 11)"
      ]
     },
     "execution_count": 106,
     "metadata": {},
     "output_type": "execute_result"
    }
   ],
   "source": [
    "test_data.shape"
   ]
  },
  {
   "cell_type": "code",
   "execution_count": 107,
   "id": "3dc5ca74",
   "metadata": {
    "execution": {
     "iopub.execute_input": "2022-07-18T03:44:49.346453Z",
     "iopub.status.busy": "2022-07-18T03:44:49.346043Z",
     "iopub.status.idle": "2022-07-18T03:44:49.353160Z",
     "shell.execute_reply": "2022-07-18T03:44:49.352062Z"
    },
    "papermill": {
     "duration": 0.063322,
     "end_time": "2022-07-18T03:44:49.355382",
     "exception": false,
     "start_time": "2022-07-18T03:44:49.292060",
     "status": "completed"
    },
    "tags": []
   },
   "outputs": [
    {
     "data": {
      "text/plain": [
       "Index(['PassengerId', 'Pclass', 'Name', 'Sex', 'Age', 'SibSp', 'Parch',\n",
       "       'Ticket', 'Fare', 'Cabin', 'Embarked'],\n",
       "      dtype='object')"
      ]
     },
     "execution_count": 107,
     "metadata": {},
     "output_type": "execute_result"
    }
   ],
   "source": [
    "test_data.columns"
   ]
  },
  {
   "cell_type": "code",
   "execution_count": 108,
   "id": "4cf04d8c",
   "metadata": {
    "execution": {
     "iopub.execute_input": "2022-07-18T03:44:49.457816Z",
     "iopub.status.busy": "2022-07-18T03:44:49.457427Z",
     "iopub.status.idle": "2022-07-18T03:44:49.463536Z",
     "shell.execute_reply": "2022-07-18T03:44:49.462466Z"
    },
    "papermill": {
     "duration": 0.060354,
     "end_time": "2022-07-18T03:44:49.465476",
     "exception": false,
     "start_time": "2022-07-18T03:44:49.405122",
     "status": "completed"
    },
    "tags": []
   },
   "outputs": [],
   "source": [
    "test_data.drop([\"Name\"],axis=1,inplace = True)"
   ]
  },
  {
   "cell_type": "code",
   "execution_count": 109,
   "id": "e9832c3b",
   "metadata": {
    "execution": {
     "iopub.execute_input": "2022-07-18T03:44:49.566911Z",
     "iopub.status.busy": "2022-07-18T03:44:49.566543Z",
     "iopub.status.idle": "2022-07-18T03:44:49.572441Z",
     "shell.execute_reply": "2022-07-18T03:44:49.571612Z"
    },
    "papermill": {
     "duration": 0.059338,
     "end_time": "2022-07-18T03:44:49.574398",
     "exception": false,
     "start_time": "2022-07-18T03:44:49.515060",
     "status": "completed"
    },
    "tags": []
   },
   "outputs": [
    {
     "data": {
      "text/plain": [
       "Index(['PassengerId', 'Pclass', 'Sex', 'Age', 'SibSp', 'Parch', 'Ticket',\n",
       "       'Fare', 'Cabin', 'Embarked'],\n",
       "      dtype='object')"
      ]
     },
     "execution_count": 109,
     "metadata": {},
     "output_type": "execute_result"
    }
   ],
   "source": [
    "test_data.columns"
   ]
  },
  {
   "cell_type": "code",
   "execution_count": 110,
   "id": "49983fa3",
   "metadata": {
    "execution": {
     "iopub.execute_input": "2022-07-18T03:44:49.679804Z",
     "iopub.status.busy": "2022-07-18T03:44:49.679385Z",
     "iopub.status.idle": "2022-07-18T03:44:49.699927Z",
     "shell.execute_reply": "2022-07-18T03:44:49.698789Z"
    },
    "papermill": {
     "duration": 0.078069,
     "end_time": "2022-07-18T03:44:49.702377",
     "exception": false,
     "start_time": "2022-07-18T03:44:49.624308",
     "status": "completed"
    },
    "tags": []
   },
   "outputs": [
    {
     "data": {
      "text/html": [
       "<div>\n",
       "<style scoped>\n",
       "    .dataframe tbody tr th:only-of-type {\n",
       "        vertical-align: middle;\n",
       "    }\n",
       "\n",
       "    .dataframe tbody tr th {\n",
       "        vertical-align: top;\n",
       "    }\n",
       "\n",
       "    .dataframe thead th {\n",
       "        text-align: right;\n",
       "    }\n",
       "</style>\n",
       "<table border=\"1\" class=\"dataframe\">\n",
       "  <thead>\n",
       "    <tr style=\"text-align: right;\">\n",
       "      <th></th>\n",
       "      <th>PassengerId</th>\n",
       "      <th>Pclass</th>\n",
       "      <th>Sex</th>\n",
       "      <th>Age</th>\n",
       "      <th>SibSp</th>\n",
       "      <th>Parch</th>\n",
       "      <th>Ticket</th>\n",
       "      <th>Fare</th>\n",
       "      <th>Cabin</th>\n",
       "      <th>Embarked</th>\n",
       "      <th>AgeGroup</th>\n",
       "    </tr>\n",
       "  </thead>\n",
       "  <tbody>\n",
       "    <tr>\n",
       "      <th>0</th>\n",
       "      <td>892</td>\n",
       "      <td>3</td>\n",
       "      <td>male</td>\n",
       "      <td>34.5</td>\n",
       "      <td>0</td>\n",
       "      <td>0</td>\n",
       "      <td>330911</td>\n",
       "      <td>7.8292</td>\n",
       "      <td>Cabinless</td>\n",
       "      <td>Q</td>\n",
       "      <td>Adult</td>\n",
       "    </tr>\n",
       "    <tr>\n",
       "      <th>1</th>\n",
       "      <td>893</td>\n",
       "      <td>3</td>\n",
       "      <td>female</td>\n",
       "      <td>47.0</td>\n",
       "      <td>1</td>\n",
       "      <td>0</td>\n",
       "      <td>363272</td>\n",
       "      <td>7.0000</td>\n",
       "      <td>Cabinless</td>\n",
       "      <td>S</td>\n",
       "      <td>Adult</td>\n",
       "    </tr>\n",
       "    <tr>\n",
       "      <th>2</th>\n",
       "      <td>894</td>\n",
       "      <td>2</td>\n",
       "      <td>male</td>\n",
       "      <td>62.0</td>\n",
       "      <td>0</td>\n",
       "      <td>0</td>\n",
       "      <td>240276</td>\n",
       "      <td>9.6875</td>\n",
       "      <td>Cabinless</td>\n",
       "      <td>Q</td>\n",
       "      <td>Adult</td>\n",
       "    </tr>\n",
       "    <tr>\n",
       "      <th>3</th>\n",
       "      <td>895</td>\n",
       "      <td>3</td>\n",
       "      <td>male</td>\n",
       "      <td>27.0</td>\n",
       "      <td>0</td>\n",
       "      <td>0</td>\n",
       "      <td>315154</td>\n",
       "      <td>8.6625</td>\n",
       "      <td>Cabinless</td>\n",
       "      <td>S</td>\n",
       "      <td>Adult</td>\n",
       "    </tr>\n",
       "    <tr>\n",
       "      <th>4</th>\n",
       "      <td>896</td>\n",
       "      <td>3</td>\n",
       "      <td>female</td>\n",
       "      <td>22.0</td>\n",
       "      <td>1</td>\n",
       "      <td>1</td>\n",
       "      <td>3101298</td>\n",
       "      <td>12.2875</td>\n",
       "      <td>Cabinless</td>\n",
       "      <td>S</td>\n",
       "      <td>Adult</td>\n",
       "    </tr>\n",
       "  </tbody>\n",
       "</table>\n",
       "</div>"
      ],
      "text/plain": [
       "   PassengerId  Pclass     Sex   Age  SibSp  Parch   Ticket     Fare  \\\n",
       "0          892       3    male  34.5      0      0   330911   7.8292   \n",
       "1          893       3  female  47.0      1      0   363272   7.0000   \n",
       "2          894       2    male  62.0      0      0   240276   9.6875   \n",
       "3          895       3    male  27.0      0      0   315154   8.6625   \n",
       "4          896       3  female  22.0      1      1  3101298  12.2875   \n",
       "\n",
       "       Cabin Embarked AgeGroup  \n",
       "0  Cabinless        Q    Adult  \n",
       "1  Cabinless        S    Adult  \n",
       "2  Cabinless        Q    Adult  \n",
       "3  Cabinless        S    Adult  \n",
       "4  Cabinless        S    Adult  "
      ]
     },
     "execution_count": 110,
     "metadata": {},
     "output_type": "execute_result"
    }
   ],
   "source": [
    "test_data\n",
    "bins= [-1,0,2,4,13,20,110]\n",
    "labels = ['Unkwown','Infant','Toddler','Kid','Teen','Adult']\n",
    "test_data['AgeGroup'] = pd.cut(test_data['Age'], bins=bins, labels=labels, right=False)\n",
    "test_data.head()"
   ]
  },
  {
   "cell_type": "code",
   "execution_count": 111,
   "id": "d792d359",
   "metadata": {
    "execution": {
     "iopub.execute_input": "2022-07-18T03:44:49.809554Z",
     "iopub.status.busy": "2022-07-18T03:44:49.809120Z",
     "iopub.status.idle": "2022-07-18T03:44:49.828866Z",
     "shell.execute_reply": "2022-07-18T03:44:49.827709Z"
    },
    "papermill": {
     "duration": 0.074907,
     "end_time": "2022-07-18T03:44:49.831062",
     "exception": false,
     "start_time": "2022-07-18T03:44:49.756155",
     "status": "completed"
    },
    "tags": []
   },
   "outputs": [
    {
     "data": {
      "text/html": [
       "<div>\n",
       "<style scoped>\n",
       "    .dataframe tbody tr th:only-of-type {\n",
       "        vertical-align: middle;\n",
       "    }\n",
       "\n",
       "    .dataframe tbody tr th {\n",
       "        vertical-align: top;\n",
       "    }\n",
       "\n",
       "    .dataframe thead th {\n",
       "        text-align: right;\n",
       "    }\n",
       "</style>\n",
       "<table border=\"1\" class=\"dataframe\">\n",
       "  <thead>\n",
       "    <tr style=\"text-align: right;\">\n",
       "      <th></th>\n",
       "      <th>PassengerId</th>\n",
       "      <th>Pclass</th>\n",
       "      <th>Sex</th>\n",
       "      <th>Age</th>\n",
       "      <th>SibSp</th>\n",
       "      <th>Parch</th>\n",
       "      <th>Ticket</th>\n",
       "      <th>Fare</th>\n",
       "      <th>Cabin</th>\n",
       "      <th>Embarked</th>\n",
       "      <th>AgeGroup</th>\n",
       "    </tr>\n",
       "  </thead>\n",
       "  <tbody>\n",
       "    <tr>\n",
       "      <th>0</th>\n",
       "      <td>892</td>\n",
       "      <td>3</td>\n",
       "      <td>1</td>\n",
       "      <td>34.5</td>\n",
       "      <td>0</td>\n",
       "      <td>0</td>\n",
       "      <td>330911</td>\n",
       "      <td>7.8292</td>\n",
       "      <td>47</td>\n",
       "      <td>1</td>\n",
       "      <td>0</td>\n",
       "    </tr>\n",
       "    <tr>\n",
       "      <th>1</th>\n",
       "      <td>893</td>\n",
       "      <td>3</td>\n",
       "      <td>0</td>\n",
       "      <td>47.0</td>\n",
       "      <td>1</td>\n",
       "      <td>0</td>\n",
       "      <td>363272</td>\n",
       "      <td>7.0000</td>\n",
       "      <td>47</td>\n",
       "      <td>2</td>\n",
       "      <td>0</td>\n",
       "    </tr>\n",
       "    <tr>\n",
       "      <th>2</th>\n",
       "      <td>894</td>\n",
       "      <td>2</td>\n",
       "      <td>1</td>\n",
       "      <td>62.0</td>\n",
       "      <td>0</td>\n",
       "      <td>0</td>\n",
       "      <td>240276</td>\n",
       "      <td>9.6875</td>\n",
       "      <td>47</td>\n",
       "      <td>1</td>\n",
       "      <td>0</td>\n",
       "    </tr>\n",
       "    <tr>\n",
       "      <th>3</th>\n",
       "      <td>895</td>\n",
       "      <td>3</td>\n",
       "      <td>1</td>\n",
       "      <td>27.0</td>\n",
       "      <td>0</td>\n",
       "      <td>0</td>\n",
       "      <td>315154</td>\n",
       "      <td>8.6625</td>\n",
       "      <td>47</td>\n",
       "      <td>2</td>\n",
       "      <td>0</td>\n",
       "    </tr>\n",
       "    <tr>\n",
       "      <th>4</th>\n",
       "      <td>896</td>\n",
       "      <td>3</td>\n",
       "      <td>0</td>\n",
       "      <td>22.0</td>\n",
       "      <td>1</td>\n",
       "      <td>1</td>\n",
       "      <td>3101298</td>\n",
       "      <td>12.2875</td>\n",
       "      <td>47</td>\n",
       "      <td>2</td>\n",
       "      <td>0</td>\n",
       "    </tr>\n",
       "  </tbody>\n",
       "</table>\n",
       "</div>"
      ],
      "text/plain": [
       "   PassengerId  Pclass  Sex   Age  SibSp  Parch   Ticket     Fare  Cabin  \\\n",
       "0          892       3    1  34.5      0      0   330911   7.8292     47   \n",
       "1          893       3    0  47.0      1      0   363272   7.0000     47   \n",
       "2          894       2    1  62.0      0      0   240276   9.6875     47   \n",
       "3          895       3    1  27.0      0      0   315154   8.6625     47   \n",
       "4          896       3    0  22.0      1      1  3101298  12.2875     47   \n",
       "\n",
       "   Embarked  AgeGroup  \n",
       "0         1         0  \n",
       "1         2         0  \n",
       "2         1         0  \n",
       "3         2         0  \n",
       "4         2         0  "
      ]
     },
     "execution_count": 111,
     "metadata": {},
     "output_type": "execute_result"
    }
   ],
   "source": [
    "# Import label encoder \n",
    "from sklearn import preprocessing\n",
    "# label_encoder object knows how to understand word labels. \n",
    "label_encoder = preprocessing.LabelEncoder()\n",
    "#categorical columns\n",
    "\n",
    "# Encode labels in column 'Embarked'. \n",
    "test_data['Embarked']= label_encoder.fit_transform(test_data['Embarked'])\n",
    "# Encode labels in column 'AgeGroup'. \n",
    "test_data['AgeGroup']= label_encoder.fit_transform(test_data['AgeGroup']) \n",
    "# Encode labels in column 'Sex'. \n",
    "test_data['Sex']= label_encoder.fit_transform(test_data['Sex']) \n",
    "test_data['Cabin']= label_encoder.fit_transform(test_data['Cabin'])\n",
    "test_data.head()\n"
   ]
  },
  {
   "cell_type": "code",
   "execution_count": 112,
   "id": "5c240bcc",
   "metadata": {
    "execution": {
     "iopub.execute_input": "2022-07-18T03:44:49.938178Z",
     "iopub.status.busy": "2022-07-18T03:44:49.937829Z",
     "iopub.status.idle": "2022-07-18T03:44:49.944023Z",
     "shell.execute_reply": "2022-07-18T03:44:49.943192Z"
    },
    "papermill": {
     "duration": 0.063049,
     "end_time": "2022-07-18T03:44:49.946110",
     "exception": false,
     "start_time": "2022-07-18T03:44:49.883061",
     "status": "completed"
    },
    "tags": []
   },
   "outputs": [],
   "source": [
    "test_data.drop([\"Cabin\"],axis=1,inplace = True)"
   ]
  },
  {
   "cell_type": "code",
   "execution_count": 113,
   "id": "e76f8531",
   "metadata": {
    "execution": {
     "iopub.execute_input": "2022-07-18T03:44:50.053220Z",
     "iopub.status.busy": "2022-07-18T03:44:50.052463Z",
     "iopub.status.idle": "2022-07-18T03:44:50.058673Z",
     "shell.execute_reply": "2022-07-18T03:44:50.057726Z"
    },
    "papermill": {
     "duration": 0.064052,
     "end_time": "2022-07-18T03:44:50.060960",
     "exception": false,
     "start_time": "2022-07-18T03:44:49.996908",
     "status": "completed"
    },
    "tags": []
   },
   "outputs": [],
   "source": [
    "test_data.drop([\"Ticket\"],axis=1,inplace = True)"
   ]
  },
  {
   "cell_type": "code",
   "execution_count": 114,
   "id": "1c532988",
   "metadata": {
    "execution": {
     "iopub.execute_input": "2022-07-18T03:44:50.165861Z",
     "iopub.status.busy": "2022-07-18T03:44:50.165089Z",
     "iopub.status.idle": "2022-07-18T03:44:50.171063Z",
     "shell.execute_reply": "2022-07-18T03:44:50.170314Z"
    },
    "papermill": {
     "duration": 0.060377,
     "end_time": "2022-07-18T03:44:50.173293",
     "exception": false,
     "start_time": "2022-07-18T03:44:50.112916",
     "status": "completed"
    },
    "tags": []
   },
   "outputs": [],
   "source": [
    "test_data.drop([\"Age\"],axis=1,inplace = True)"
   ]
  },
  {
   "cell_type": "code",
   "execution_count": 115,
   "id": "4a9537d1",
   "metadata": {
    "execution": {
     "iopub.execute_input": "2022-07-18T03:44:50.276516Z",
     "iopub.status.busy": "2022-07-18T03:44:50.275774Z",
     "iopub.status.idle": "2022-07-18T03:44:50.281611Z",
     "shell.execute_reply": "2022-07-18T03:44:50.280817Z"
    },
    "papermill": {
     "duration": 0.059822,
     "end_time": "2022-07-18T03:44:50.283771",
     "exception": false,
     "start_time": "2022-07-18T03:44:50.223949",
     "status": "completed"
    },
    "tags": []
   },
   "outputs": [],
   "source": [
    "test_data.drop([\"Parch\"],axis=1,inplace = True)"
   ]
  },
  {
   "cell_type": "code",
   "execution_count": 116,
   "id": "ab1e8395",
   "metadata": {
    "execution": {
     "iopub.execute_input": "2022-07-18T03:44:50.387308Z",
     "iopub.status.busy": "2022-07-18T03:44:50.386587Z",
     "iopub.status.idle": "2022-07-18T03:44:50.394017Z",
     "shell.execute_reply": "2022-07-18T03:44:50.392855Z"
    },
    "papermill": {
     "duration": 0.0625,
     "end_time": "2022-07-18T03:44:50.396600",
     "exception": false,
     "start_time": "2022-07-18T03:44:50.334100",
     "status": "completed"
    },
    "tags": []
   },
   "outputs": [
    {
     "data": {
      "text/plain": [
       "Index(['PassengerId', 'Pclass', 'Sex', 'SibSp', 'Fare', 'Embarked',\n",
       "       'AgeGroup'],\n",
       "      dtype='object')"
      ]
     },
     "execution_count": 116,
     "metadata": {},
     "output_type": "execute_result"
    }
   ],
   "source": [
    "test_data.columns"
   ]
  },
  {
   "cell_type": "code",
   "execution_count": 117,
   "id": "151bf12d",
   "metadata": {
    "execution": {
     "iopub.execute_input": "2022-07-18T03:44:50.500807Z",
     "iopub.status.busy": "2022-07-18T03:44:50.500428Z",
     "iopub.status.idle": "2022-07-18T03:44:50.520638Z",
     "shell.execute_reply": "2022-07-18T03:44:50.519807Z"
    },
    "papermill": {
     "duration": 0.074519,
     "end_time": "2022-07-18T03:44:50.522721",
     "exception": false,
     "start_time": "2022-07-18T03:44:50.448202",
     "status": "completed"
    },
    "tags": []
   },
   "outputs": [
    {
     "data": {
      "text/html": [
       "<div>\n",
       "<style scoped>\n",
       "    .dataframe tbody tr th:only-of-type {\n",
       "        vertical-align: middle;\n",
       "    }\n",
       "\n",
       "    .dataframe tbody tr th {\n",
       "        vertical-align: top;\n",
       "    }\n",
       "\n",
       "    .dataframe thead th {\n",
       "        text-align: right;\n",
       "    }\n",
       "</style>\n",
       "<table border=\"1\" class=\"dataframe\">\n",
       "  <thead>\n",
       "    <tr style=\"text-align: right;\">\n",
       "      <th></th>\n",
       "      <th>Embarked</th>\n",
       "      <th>Sex</th>\n",
       "      <th>AgeGroup</th>\n",
       "      <th>Fare</th>\n",
       "      <th>SibSp</th>\n",
       "      <th>Pclass</th>\n",
       "      <th>PassengerId</th>\n",
       "    </tr>\n",
       "  </thead>\n",
       "  <tbody>\n",
       "    <tr>\n",
       "      <th>0</th>\n",
       "      <td>1</td>\n",
       "      <td>1</td>\n",
       "      <td>0</td>\n",
       "      <td>7.8292</td>\n",
       "      <td>0</td>\n",
       "      <td>3</td>\n",
       "      <td>892</td>\n",
       "    </tr>\n",
       "    <tr>\n",
       "      <th>1</th>\n",
       "      <td>2</td>\n",
       "      <td>0</td>\n",
       "      <td>0</td>\n",
       "      <td>7.0000</td>\n",
       "      <td>1</td>\n",
       "      <td>3</td>\n",
       "      <td>893</td>\n",
       "    </tr>\n",
       "    <tr>\n",
       "      <th>2</th>\n",
       "      <td>1</td>\n",
       "      <td>1</td>\n",
       "      <td>0</td>\n",
       "      <td>9.6875</td>\n",
       "      <td>0</td>\n",
       "      <td>2</td>\n",
       "      <td>894</td>\n",
       "    </tr>\n",
       "    <tr>\n",
       "      <th>3</th>\n",
       "      <td>2</td>\n",
       "      <td>1</td>\n",
       "      <td>0</td>\n",
       "      <td>8.6625</td>\n",
       "      <td>0</td>\n",
       "      <td>3</td>\n",
       "      <td>895</td>\n",
       "    </tr>\n",
       "    <tr>\n",
       "      <th>4</th>\n",
       "      <td>2</td>\n",
       "      <td>0</td>\n",
       "      <td>0</td>\n",
       "      <td>12.2875</td>\n",
       "      <td>1</td>\n",
       "      <td>3</td>\n",
       "      <td>896</td>\n",
       "    </tr>\n",
       "    <tr>\n",
       "      <th>...</th>\n",
       "      <td>...</td>\n",
       "      <td>...</td>\n",
       "      <td>...</td>\n",
       "      <td>...</td>\n",
       "      <td>...</td>\n",
       "      <td>...</td>\n",
       "      <td>...</td>\n",
       "    </tr>\n",
       "    <tr>\n",
       "      <th>413</th>\n",
       "      <td>2</td>\n",
       "      <td>1</td>\n",
       "      <td>5</td>\n",
       "      <td>8.0500</td>\n",
       "      <td>0</td>\n",
       "      <td>3</td>\n",
       "      <td>1305</td>\n",
       "    </tr>\n",
       "    <tr>\n",
       "      <th>414</th>\n",
       "      <td>0</td>\n",
       "      <td>0</td>\n",
       "      <td>0</td>\n",
       "      <td>108.9000</td>\n",
       "      <td>0</td>\n",
       "      <td>1</td>\n",
       "      <td>1306</td>\n",
       "    </tr>\n",
       "    <tr>\n",
       "      <th>415</th>\n",
       "      <td>2</td>\n",
       "      <td>1</td>\n",
       "      <td>0</td>\n",
       "      <td>7.2500</td>\n",
       "      <td>0</td>\n",
       "      <td>3</td>\n",
       "      <td>1307</td>\n",
       "    </tr>\n",
       "    <tr>\n",
       "      <th>416</th>\n",
       "      <td>2</td>\n",
       "      <td>1</td>\n",
       "      <td>5</td>\n",
       "      <td>8.0500</td>\n",
       "      <td>0</td>\n",
       "      <td>3</td>\n",
       "      <td>1308</td>\n",
       "    </tr>\n",
       "    <tr>\n",
       "      <th>417</th>\n",
       "      <td>0</td>\n",
       "      <td>1</td>\n",
       "      <td>5</td>\n",
       "      <td>22.3583</td>\n",
       "      <td>1</td>\n",
       "      <td>3</td>\n",
       "      <td>1309</td>\n",
       "    </tr>\n",
       "  </tbody>\n",
       "</table>\n",
       "<p>418 rows × 7 columns</p>\n",
       "</div>"
      ],
      "text/plain": [
       "     Embarked  Sex  AgeGroup      Fare  SibSp  Pclass  PassengerId\n",
       "0           1    1         0    7.8292      0       3          892\n",
       "1           2    0         0    7.0000      1       3          893\n",
       "2           1    1         0    9.6875      0       2          894\n",
       "3           2    1         0    8.6625      0       3          895\n",
       "4           2    0         0   12.2875      1       3          896\n",
       "..        ...  ...       ...       ...    ...     ...          ...\n",
       "413         2    1         5    8.0500      0       3         1305\n",
       "414         0    0         0  108.9000      0       1         1306\n",
       "415         2    1         0    7.2500      0       3         1307\n",
       "416         2    1         5    8.0500      0       3         1308\n",
       "417         0    1         5   22.3583      1       3         1309\n",
       "\n",
       "[418 rows x 7 columns]"
      ]
     },
     "execution_count": 117,
     "metadata": {},
     "output_type": "execute_result"
    }
   ],
   "source": [
    "#Since logistic regression requires there to be little multicollinearity among predictors, I tried to keep only one variable in each group of highly correlated variables.\n",
    "test_data1=test_data[['Embarked','Sex','AgeGroup','Fare','SibSp','Pclass','PassengerId']]\n",
    "test_data1"
   ]
  },
  {
   "cell_type": "code",
   "execution_count": 118,
   "id": "91f988f1",
   "metadata": {
    "execution": {
     "iopub.execute_input": "2022-07-18T03:44:50.626068Z",
     "iopub.status.busy": "2022-07-18T03:44:50.625450Z",
     "iopub.status.idle": "2022-07-18T03:44:50.631346Z",
     "shell.execute_reply": "2022-07-18T03:44:50.630591Z"
    },
    "papermill": {
     "duration": 0.059546,
     "end_time": "2022-07-18T03:44:50.633400",
     "exception": false,
     "start_time": "2022-07-18T03:44:50.573854",
     "status": "completed"
    },
    "tags": []
   },
   "outputs": [],
   "source": [
    "survived_pred =reg.predict(test_data1)"
   ]
  },
  {
   "cell_type": "code",
   "execution_count": 119,
   "id": "4e896bd7",
   "metadata": {
    "execution": {
     "iopub.execute_input": "2022-07-18T03:44:50.768128Z",
     "iopub.status.busy": "2022-07-18T03:44:50.767546Z",
     "iopub.status.idle": "2022-07-18T03:44:50.778592Z",
     "shell.execute_reply": "2022-07-18T03:44:50.777617Z"
    },
    "papermill": {
     "duration": 0.086682,
     "end_time": "2022-07-18T03:44:50.780973",
     "exception": false,
     "start_time": "2022-07-18T03:44:50.694291",
     "status": "completed"
    },
    "tags": []
   },
   "outputs": [
    {
     "data": {
      "text/html": [
       "<div>\n",
       "<style scoped>\n",
       "    .dataframe tbody tr th:only-of-type {\n",
       "        vertical-align: middle;\n",
       "    }\n",
       "\n",
       "    .dataframe tbody tr th {\n",
       "        vertical-align: top;\n",
       "    }\n",
       "\n",
       "    .dataframe thead th {\n",
       "        text-align: right;\n",
       "    }\n",
       "</style>\n",
       "<table border=\"1\" class=\"dataframe\">\n",
       "  <thead>\n",
       "    <tr style=\"text-align: right;\">\n",
       "      <th></th>\n",
       "      <th>PassengerId</th>\n",
       "      <th>Survived</th>\n",
       "    </tr>\n",
       "  </thead>\n",
       "  <tbody>\n",
       "    <tr>\n",
       "      <th>0</th>\n",
       "      <td>892</td>\n",
       "      <td>0</td>\n",
       "    </tr>\n",
       "    <tr>\n",
       "      <th>1</th>\n",
       "      <td>893</td>\n",
       "      <td>1</td>\n",
       "    </tr>\n",
       "    <tr>\n",
       "      <th>2</th>\n",
       "      <td>894</td>\n",
       "      <td>0</td>\n",
       "    </tr>\n",
       "    <tr>\n",
       "      <th>3</th>\n",
       "      <td>895</td>\n",
       "      <td>0</td>\n",
       "    </tr>\n",
       "    <tr>\n",
       "      <th>4</th>\n",
       "      <td>896</td>\n",
       "      <td>1</td>\n",
       "    </tr>\n",
       "    <tr>\n",
       "      <th>...</th>\n",
       "      <td>...</td>\n",
       "      <td>...</td>\n",
       "    </tr>\n",
       "    <tr>\n",
       "      <th>413</th>\n",
       "      <td>1305</td>\n",
       "      <td>0</td>\n",
       "    </tr>\n",
       "    <tr>\n",
       "      <th>414</th>\n",
       "      <td>1306</td>\n",
       "      <td>1</td>\n",
       "    </tr>\n",
       "    <tr>\n",
       "      <th>415</th>\n",
       "      <td>1307</td>\n",
       "      <td>0</td>\n",
       "    </tr>\n",
       "    <tr>\n",
       "      <th>416</th>\n",
       "      <td>1308</td>\n",
       "      <td>0</td>\n",
       "    </tr>\n",
       "    <tr>\n",
       "      <th>417</th>\n",
       "      <td>1309</td>\n",
       "      <td>0</td>\n",
       "    </tr>\n",
       "  </tbody>\n",
       "</table>\n",
       "<p>418 rows × 2 columns</p>\n",
       "</div>"
      ],
      "text/plain": [
       "     PassengerId  Survived\n",
       "0            892         0\n",
       "1            893         1\n",
       "2            894         0\n",
       "3            895         0\n",
       "4            896         1\n",
       "..           ...       ...\n",
       "413         1305         0\n",
       "414         1306         1\n",
       "415         1307         0\n",
       "416         1308         0\n",
       "417         1309         0\n",
       "\n",
       "[418 rows x 2 columns]"
      ]
     },
     "execution_count": 119,
     "metadata": {},
     "output_type": "execute_result"
    }
   ],
   "source": [
    "victor_submission = pd.DataFrame({\n",
    "        \"PassengerId\": test_data1[\"PassengerId\"],\n",
    "        \"Survived\": survived_pred\n",
    "    })\n",
    "victor_submission"
   ]
  },
  {
   "cell_type": "code",
   "execution_count": 120,
   "id": "ea00a2d8",
   "metadata": {
    "execution": {
     "iopub.execute_input": "2022-07-18T03:44:50.886786Z",
     "iopub.status.busy": "2022-07-18T03:44:50.886116Z",
     "iopub.status.idle": "2022-07-18T03:44:50.899115Z",
     "shell.execute_reply": "2022-07-18T03:44:50.898270Z"
    },
    "papermill": {
     "duration": 0.068572,
     "end_time": "2022-07-18T03:44:50.901177",
     "exception": false,
     "start_time": "2022-07-18T03:44:50.832605",
     "status": "completed"
    },
    "tags": []
   },
   "outputs": [
    {
     "data": {
      "text/html": [
       "<div>\n",
       "<style scoped>\n",
       "    .dataframe tbody tr th:only-of-type {\n",
       "        vertical-align: middle;\n",
       "    }\n",
       "\n",
       "    .dataframe tbody tr th {\n",
       "        vertical-align: top;\n",
       "    }\n",
       "\n",
       "    .dataframe thead th {\n",
       "        text-align: right;\n",
       "    }\n",
       "</style>\n",
       "<table border=\"1\" class=\"dataframe\">\n",
       "  <thead>\n",
       "    <tr style=\"text-align: right;\">\n",
       "      <th></th>\n",
       "      <th>PassengerId</th>\n",
       "      <th>Survived</th>\n",
       "    </tr>\n",
       "  </thead>\n",
       "  <tbody>\n",
       "    <tr>\n",
       "      <th>0</th>\n",
       "      <td>892</td>\n",
       "      <td>0</td>\n",
       "    </tr>\n",
       "    <tr>\n",
       "      <th>1</th>\n",
       "      <td>893</td>\n",
       "      <td>1</td>\n",
       "    </tr>\n",
       "    <tr>\n",
       "      <th>2</th>\n",
       "      <td>894</td>\n",
       "      <td>0</td>\n",
       "    </tr>\n",
       "    <tr>\n",
       "      <th>3</th>\n",
       "      <td>895</td>\n",
       "      <td>0</td>\n",
       "    </tr>\n",
       "    <tr>\n",
       "      <th>4</th>\n",
       "      <td>896</td>\n",
       "      <td>1</td>\n",
       "    </tr>\n",
       "    <tr>\n",
       "      <th>...</th>\n",
       "      <td>...</td>\n",
       "      <td>...</td>\n",
       "    </tr>\n",
       "    <tr>\n",
       "      <th>413</th>\n",
       "      <td>1305</td>\n",
       "      <td>0</td>\n",
       "    </tr>\n",
       "    <tr>\n",
       "      <th>414</th>\n",
       "      <td>1306</td>\n",
       "      <td>1</td>\n",
       "    </tr>\n",
       "    <tr>\n",
       "      <th>415</th>\n",
       "      <td>1307</td>\n",
       "      <td>0</td>\n",
       "    </tr>\n",
       "    <tr>\n",
       "      <th>416</th>\n",
       "      <td>1308</td>\n",
       "      <td>0</td>\n",
       "    </tr>\n",
       "    <tr>\n",
       "      <th>417</th>\n",
       "      <td>1309</td>\n",
       "      <td>0</td>\n",
       "    </tr>\n",
       "  </tbody>\n",
       "</table>\n",
       "<p>418 rows × 2 columns</p>\n",
       "</div>"
      ],
      "text/plain": [
       "     PassengerId  Survived\n",
       "0            892         0\n",
       "1            893         1\n",
       "2            894         0\n",
       "3            895         0\n",
       "4            896         1\n",
       "..           ...       ...\n",
       "413         1305         0\n",
       "414         1306         1\n",
       "415         1307         0\n",
       "416         1308         0\n",
       "417         1309         0\n",
       "\n",
       "[418 rows x 2 columns]"
      ]
     },
     "execution_count": 120,
     "metadata": {},
     "output_type": "execute_result"
    }
   ],
   "source": [
    "victor_submission.to_csv('victor_submission2.csv', index=False)\n",
    "victor_submission"
   ]
  },
  {
   "cell_type": "code",
   "execution_count": null,
   "id": "463dd939",
   "metadata": {
    "papermill": {
     "duration": 0.050301,
     "end_time": "2022-07-18T03:44:51.003552",
     "exception": false,
     "start_time": "2022-07-18T03:44:50.953251",
     "status": "completed"
    },
    "tags": []
   },
   "outputs": [],
   "source": []
  },
  {
   "cell_type": "code",
   "execution_count": null,
   "id": "bcecc5fa",
   "metadata": {
    "papermill": {
     "duration": 0.050436,
     "end_time": "2022-07-18T03:44:51.105062",
     "exception": false,
     "start_time": "2022-07-18T03:44:51.054626",
     "status": "completed"
    },
    "tags": []
   },
   "outputs": [],
   "source": []
  }
 ],
 "metadata": {
  "kernelspec": {
   "display_name": "Python 3",
   "language": "python",
   "name": "python3"
  },
  "language_info": {
   "codemirror_mode": {
    "name": "ipython",
    "version": 3
   },
   "file_extension": ".py",
   "mimetype": "text/x-python",
   "name": "python",
   "nbconvert_exporter": "python",
   "pygments_lexer": "ipython3",
   "version": "3.7.12"
  },
  "papermill": {
   "default_parameters": {},
   "duration": 43.775922,
   "end_time": "2022-07-18T03:44:52.180987",
   "environment_variables": {},
   "exception": null,
   "input_path": "__notebook__.ipynb",
   "output_path": "__notebook__.ipynb",
   "parameters": {},
   "start_time": "2022-07-18T03:44:08.405065",
   "version": "2.3.4"
  }
 },
 "nbformat": 4,
 "nbformat_minor": 5
}
